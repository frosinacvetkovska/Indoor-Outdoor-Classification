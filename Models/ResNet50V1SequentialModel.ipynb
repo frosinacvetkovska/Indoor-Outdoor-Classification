{
  "cells": [
    {
      "cell_type": "code",
      "execution_count": null,
      "metadata": {
        "id": "BHRwreYig3BW"
      },
      "outputs": [],
      "source": [
        "import tensorflow as tf\n",
        "from tensorflow.keras import layers, models\n",
        "from tensorflow.keras.applications import ResNet50\n",
        "from tensorflow.keras.preprocessing import image\n",
        "import numpy as np\n",
        "import matplotlib.pyplot as plt\n",
        "import os\n",
        "import cv2"
      ]
    },
    {
      "cell_type": "code",
      "execution_count": null,
      "metadata": {
        "colab": {
          "base_uri": "https://localhost:8080/"
        },
        "id": "DYVjEcjrhjlN",
        "outputId": "70aa7f19-e296-4533-8509-0c480b6f5666"
      },
      "outputs": [
        {
          "output_type": "stream",
          "name": "stdout",
          "text": [
            "Drive already mounted at /content/drive; to attempt to forcibly remount, call drive.mount(\"/content/drive\", force_remount=True).\n"
          ]
        }
      ],
      "source": [
        "from google.colab import drive\n",
        "drive.mount('/content/drive')"
      ]
    },
    {
      "cell_type": "code",
      "execution_count": null,
      "metadata": {
        "id": "UVc-68c4iVJw"
      },
      "outputs": [],
      "source": [
        "dataset_dir = '/content/drive/MyDrive/IndoorOutdoorDataset'"
      ]
    },
    {
      "cell_type": "code",
      "execution_count": null,
      "metadata": {
        "id": "mYZKi9i5qbzh"
      },
      "outputs": [],
      "source": [
        "img_width, img_height = 224, 224\n",
        "batch_size = 32\n",
        "epochs = 100"
      ]
    },
    {
      "cell_type": "code",
      "execution_count": null,
      "metadata": {
        "colab": {
          "base_uri": "https://localhost:8080/"
        },
        "id": "ufvA0_TgqqAi",
        "outputId": "fce32ead-4369-4247-d821-12ce1e8e6465"
      },
      "outputs": [
        {
          "output_type": "stream",
          "name": "stdout",
          "text": [
            "Found 800 files belonging to 2 classes.\n",
            "Using 640 files for training.\n"
          ]
        }
      ],
      "source": [
        "train_ds = tf.keras.utils.image_dataset_from_directory(\n",
        "    directory=dataset_dir,\n",
        "    labels='inferred',\n",
        "    label_mode='binary',\n",
        "    image_size=(img_width, img_height),\n",
        "    batch_size=batch_size,\n",
        "    validation_split=0.2,\n",
        "    seed=42,\n",
        "    shuffle=True,\n",
        "    subset='training'\n",
        ")"
      ]
    },
    {
      "cell_type": "code",
      "execution_count": null,
      "metadata": {
        "colab": {
          "base_uri": "https://localhost:8080/"
        },
        "id": "i1PlQ6QBqriP",
        "outputId": "f251bf31-a900-46a3-a060-f46932bd709c"
      },
      "outputs": [
        {
          "output_type": "stream",
          "name": "stdout",
          "text": [
            "Found 800 files belonging to 2 classes.\n",
            "Using 160 files for validation.\n"
          ]
        }
      ],
      "source": [
        "val_ds = tf.keras.utils.image_dataset_from_directory(\n",
        "    directory=dataset_dir,\n",
        "    labels='inferred',\n",
        "    label_mode='binary',\n",
        "    image_size=(img_width, img_height),\n",
        "    batch_size=batch_size,\n",
        "    validation_split=0.2,\n",
        "    seed=42,\n",
        "    shuffle=True,\n",
        "    subset='validation'\n",
        ")"
      ]
    },
    {
      "cell_type": "code",
      "execution_count": null,
      "metadata": {
        "id": "T_XA7uq3qtDq"
      },
      "outputs": [],
      "source": [
        "model = models.Sequential()\n",
        "model.add(ResNet50(weights='imagenet', include_top=False, input_shape=(img_width, img_height, 3)))\n",
        "model.add(layers.Flatten())\n",
        "model.add(layers.Dense(264, activation='relu'))\n",
        "model.add(layers.Dense(128, activation='relu'))\n",
        "model.add(layers.Dense(1, activation='sigmoid'))"
      ]
    },
    {
      "cell_type": "code",
      "execution_count": null,
      "metadata": {
        "colab": {
          "base_uri": "https://localhost:8080/"
        },
        "id": "Uf-dbEW3qyTc",
        "outputId": "024f491a-7ab7-4344-9b83-a2c5813f79be"
      },
      "outputs": [
        {
          "output_type": "stream",
          "name": "stdout",
          "text": [
            "Model: \"sequential_5\"\n",
            "_________________________________________________________________\n",
            " Layer (type)                Output Shape              Param #   \n",
            "=================================================================\n",
            " resnet50 (Functional)       (None, 7, 7, 2048)        23587712  \n",
            "                                                                 \n",
            " flatten_5 (Flatten)         (None, 100352)            0         \n",
            "                                                                 \n",
            " dense_15 (Dense)            (None, 264)               26493192  \n",
            "                                                                 \n",
            " dense_16 (Dense)            (None, 128)               33920     \n",
            "                                                                 \n",
            " dense_17 (Dense)            (None, 1)                 129       \n",
            "                                                                 \n",
            "=================================================================\n",
            "Total params: 50114953 (191.17 MB)\n",
            "Trainable params: 50061833 (190.97 MB)\n",
            "Non-trainable params: 53120 (207.50 KB)\n",
            "_________________________________________________________________\n"
          ]
        }
      ],
      "source": [
        "model.summary()"
      ]
    },
    {
      "cell_type": "code",
      "execution_count": null,
      "metadata": {
        "id": "2NZRRUm4qyU7"
      },
      "outputs": [],
      "source": [
        "model.compile(optimizer='adam', loss='binary_crossentropy', metrics=['accuracy'])"
      ]
    },
    {
      "cell_type": "code",
      "execution_count": null,
      "metadata": {
        "colab": {
          "base_uri": "https://localhost:8080/"
        },
        "id": "exHLC87LqyZu",
        "outputId": "05d55144-3772-4b68-ca44-28d0d8070173"
      },
      "outputs": [
        {
          "output_type": "stream",
          "name": "stdout",
          "text": [
            "Epoch 1/100\n",
            "20/20 [==============================] - 42s 484ms/step - loss: 3.5879 - accuracy: 0.8375 - val_loss: 409117.1875 - val_accuracy: 0.5625\n",
            "Epoch 2/100\n",
            "20/20 [==============================] - 9s 396ms/step - loss: 0.6112 - accuracy: 0.8875 - val_loss: 7384.5640 - val_accuracy: 0.5063\n",
            "Epoch 3/100\n",
            "20/20 [==============================] - 9s 393ms/step - loss: 0.4450 - accuracy: 0.9109 - val_loss: 23052646.0000 - val_accuracy: 0.5063\n",
            "Epoch 4/100\n",
            "20/20 [==============================] - 9s 387ms/step - loss: 1.3195 - accuracy: 0.9000 - val_loss: 111348.1875 - val_accuracy: 0.5063\n",
            "Epoch 5/100\n",
            "20/20 [==============================] - 9s 388ms/step - loss: 1.6239 - accuracy: 0.8656 - val_loss: 117757.6641 - val_accuracy: 0.4500\n",
            "Epoch 6/100\n",
            "20/20 [==============================] - 9s 380ms/step - loss: 1.0520 - accuracy: 0.8359 - val_loss: 6330.3330 - val_accuracy: 0.4938\n",
            "Epoch 7/100\n",
            "20/20 [==============================] - 9s 395ms/step - loss: 0.8407 - accuracy: 0.8516 - val_loss: 32120.5312 - val_accuracy: 0.4938\n",
            "Epoch 8/100\n",
            "20/20 [==============================] - 9s 396ms/step - loss: 0.2988 - accuracy: 0.8859 - val_loss: 2139.0242 - val_accuracy: 0.4938\n",
            "Epoch 9/100\n",
            "20/20 [==============================] - 9s 385ms/step - loss: 0.2141 - accuracy: 0.9125 - val_loss: 238.1356 - val_accuracy: 0.5063\n",
            "Epoch 10/100\n",
            "20/20 [==============================] - 9s 393ms/step - loss: 0.2377 - accuracy: 0.9141 - val_loss: 140.1626 - val_accuracy: 0.5375\n",
            "Epoch 11/100\n",
            "20/20 [==============================] - 9s 387ms/step - loss: 0.1380 - accuracy: 0.9609 - val_loss: 19.3000 - val_accuracy: 0.6313\n",
            "Epoch 12/100\n",
            "20/20 [==============================] - 9s 400ms/step - loss: 0.2217 - accuracy: 0.9500 - val_loss: 1258.5907 - val_accuracy: 0.5562\n",
            "Epoch 13/100\n",
            "20/20 [==============================] - 8s 380ms/step - loss: 0.1942 - accuracy: 0.9469 - val_loss: 9.1801 - val_accuracy: 0.8250\n",
            "Epoch 14/100\n",
            "20/20 [==============================] - 9s 390ms/step - loss: 0.0871 - accuracy: 0.9656 - val_loss: 5.6842 - val_accuracy: 0.8062\n",
            "Epoch 15/100\n",
            "20/20 [==============================] - 9s 385ms/step - loss: 0.0996 - accuracy: 0.9625 - val_loss: 1.8743 - val_accuracy: 0.8687\n",
            "Epoch 16/100\n",
            "20/20 [==============================] - 9s 396ms/step - loss: 0.0995 - accuracy: 0.9656 - val_loss: 1.3692 - val_accuracy: 0.8625\n",
            "Epoch 17/100\n",
            "20/20 [==============================] - 9s 377ms/step - loss: 0.0639 - accuracy: 0.9781 - val_loss: 0.9426 - val_accuracy: 0.8687\n",
            "Epoch 18/100\n",
            "20/20 [==============================] - 9s 391ms/step - loss: 0.0783 - accuracy: 0.9766 - val_loss: 0.4967 - val_accuracy: 0.8500\n",
            "Epoch 19/100\n",
            "20/20 [==============================] - 10s 464ms/step - loss: 0.0662 - accuracy: 0.9828 - val_loss: 0.6084 - val_accuracy: 0.8750\n",
            "Epoch 20/100\n",
            "20/20 [==============================] - 9s 383ms/step - loss: 0.0301 - accuracy: 0.9922 - val_loss: 0.4722 - val_accuracy: 0.8875\n",
            "Epoch 21/100\n",
            "20/20 [==============================] - 9s 391ms/step - loss: 0.0372 - accuracy: 0.9859 - val_loss: 0.4683 - val_accuracy: 0.8562\n",
            "Epoch 22/100\n",
            "20/20 [==============================] - 9s 386ms/step - loss: 0.0305 - accuracy: 0.9906 - val_loss: 0.6526 - val_accuracy: 0.8687\n",
            "Epoch 23/100\n",
            "20/20 [==============================] - 9s 383ms/step - loss: 0.0334 - accuracy: 0.9906 - val_loss: 0.5088 - val_accuracy: 0.8687\n",
            "Epoch 24/100\n",
            "20/20 [==============================] - 9s 387ms/step - loss: 0.0228 - accuracy: 0.9937 - val_loss: 0.4765 - val_accuracy: 0.8562\n",
            "Epoch 25/100\n",
            "20/20 [==============================] - 9s 386ms/step - loss: 0.0362 - accuracy: 0.9922 - val_loss: 0.4958 - val_accuracy: 0.8687\n",
            "Epoch 26/100\n",
            "20/20 [==============================] - 9s 391ms/step - loss: 0.0326 - accuracy: 0.9844 - val_loss: 0.7344 - val_accuracy: 0.8687\n",
            "Epoch 27/100\n",
            "20/20 [==============================] - 9s 391ms/step - loss: 0.0437 - accuracy: 0.9875 - val_loss: 0.7507 - val_accuracy: 0.8687\n",
            "Epoch 28/100\n",
            "20/20 [==============================] - 9s 387ms/step - loss: 0.0561 - accuracy: 0.9875 - val_loss: 0.6511 - val_accuracy: 0.8813\n",
            "Epoch 29/100\n",
            "20/20 [==============================] - 9s 403ms/step - loss: 0.0228 - accuracy: 0.9937 - val_loss: 0.8147 - val_accuracy: 0.9000\n",
            "Epoch 30/100\n",
            "20/20 [==============================] - 9s 382ms/step - loss: 0.0284 - accuracy: 0.9922 - val_loss: 0.4840 - val_accuracy: 0.8813\n",
            "Epoch 31/100\n",
            "20/20 [==============================] - 9s 385ms/step - loss: 0.0360 - accuracy: 0.9906 - val_loss: 0.4877 - val_accuracy: 0.8813\n",
            "Epoch 32/100\n",
            "20/20 [==============================] - 9s 384ms/step - loss: 0.0564 - accuracy: 0.9812 - val_loss: 0.3459 - val_accuracy: 0.9125\n",
            "Epoch 33/100\n",
            "20/20 [==============================] - 9s 385ms/step - loss: 0.0495 - accuracy: 0.9844 - val_loss: 0.7939 - val_accuracy: 0.8625\n",
            "Epoch 34/100\n",
            "20/20 [==============================] - 9s 388ms/step - loss: 0.0177 - accuracy: 0.9953 - val_loss: 0.6244 - val_accuracy: 0.8813\n",
            "Epoch 35/100\n",
            "20/20 [==============================] - 9s 390ms/step - loss: 0.0213 - accuracy: 0.9922 - val_loss: 0.7006 - val_accuracy: 0.8750\n",
            "Epoch 36/100\n",
            "20/20 [==============================] - 9s 393ms/step - loss: 0.0113 - accuracy: 0.9969 - val_loss: 0.6277 - val_accuracy: 0.9000\n",
            "Epoch 37/100\n",
            "20/20 [==============================] - 9s 392ms/step - loss: 0.0151 - accuracy: 0.9937 - val_loss: 0.9724 - val_accuracy: 0.8750\n",
            "Epoch 38/100\n",
            "20/20 [==============================] - 9s 391ms/step - loss: 0.0675 - accuracy: 0.9734 - val_loss: 0.6441 - val_accuracy: 0.8500\n",
            "Epoch 39/100\n",
            "20/20 [==============================] - 9s 388ms/step - loss: 0.0328 - accuracy: 0.9891 - val_loss: 0.6327 - val_accuracy: 0.8813\n",
            "Epoch 40/100\n",
            "20/20 [==============================] - 9s 383ms/step - loss: 0.0214 - accuracy: 0.9922 - val_loss: 0.5691 - val_accuracy: 0.9000\n",
            "Epoch 41/100\n",
            "20/20 [==============================] - 9s 403ms/step - loss: 0.0107 - accuracy: 0.9984 - val_loss: 0.5852 - val_accuracy: 0.8875\n",
            "Epoch 42/100\n",
            "20/20 [==============================] - 9s 387ms/step - loss: 0.0053 - accuracy: 1.0000 - val_loss: 0.5702 - val_accuracy: 0.8875\n",
            "Epoch 43/100\n",
            "20/20 [==============================] - 9s 402ms/step - loss: 0.0162 - accuracy: 0.9953 - val_loss: 0.5047 - val_accuracy: 0.8938\n",
            "Epoch 44/100\n",
            "20/20 [==============================] - 9s 386ms/step - loss: 0.0045 - accuracy: 1.0000 - val_loss: 0.5404 - val_accuracy: 0.8813\n",
            "Epoch 45/100\n",
            "20/20 [==============================] - 9s 392ms/step - loss: 0.0055 - accuracy: 0.9984 - val_loss: 0.6188 - val_accuracy: 0.8687\n",
            "Epoch 46/100\n",
            "20/20 [==============================] - 9s 388ms/step - loss: 0.0035 - accuracy: 1.0000 - val_loss: 0.6921 - val_accuracy: 0.8813\n",
            "Epoch 47/100\n",
            "20/20 [==============================] - 9s 389ms/step - loss: 0.0042 - accuracy: 1.0000 - val_loss: 0.5829 - val_accuracy: 0.8625\n",
            "Epoch 48/100\n",
            "20/20 [==============================] - 9s 390ms/step - loss: 6.4305e-04 - accuracy: 1.0000 - val_loss: 0.6515 - val_accuracy: 0.8687\n",
            "Epoch 49/100\n",
            "20/20 [==============================] - 9s 384ms/step - loss: 0.0022 - accuracy: 1.0000 - val_loss: 0.7054 - val_accuracy: 0.8875\n",
            "Epoch 50/100\n",
            "20/20 [==============================] - 9s 384ms/step - loss: 4.8364e-04 - accuracy: 1.0000 - val_loss: 0.7184 - val_accuracy: 0.8813\n",
            "Epoch 51/100\n",
            "20/20 [==============================] - 9s 383ms/step - loss: 0.0093 - accuracy: 0.9984 - val_loss: 0.7892 - val_accuracy: 0.8938\n",
            "Epoch 52/100\n",
            "20/20 [==============================] - 9s 386ms/step - loss: 0.0051 - accuracy: 0.9984 - val_loss: 0.5443 - val_accuracy: 0.9000\n",
            "Epoch 53/100\n",
            "20/20 [==============================] - 10s 463ms/step - loss: 6.1019e-04 - accuracy: 1.0000 - val_loss: 0.5411 - val_accuracy: 0.9062\n",
            "Epoch 54/100\n",
            "20/20 [==============================] - 9s 384ms/step - loss: 9.3034e-04 - accuracy: 1.0000 - val_loss: 0.5881 - val_accuracy: 0.9000\n",
            "Epoch 55/100\n",
            "20/20 [==============================] - 9s 389ms/step - loss: 5.0887e-04 - accuracy: 1.0000 - val_loss: 0.5526 - val_accuracy: 0.9250\n",
            "Epoch 56/100\n",
            "20/20 [==============================] - 9s 395ms/step - loss: 8.1262e-04 - accuracy: 1.0000 - val_loss: 0.5597 - val_accuracy: 0.9250\n",
            "Epoch 57/100\n",
            "20/20 [==============================] - 10s 465ms/step - loss: 0.0012 - accuracy: 1.0000 - val_loss: 0.6250 - val_accuracy: 0.9125\n",
            "Epoch 58/100\n",
            "20/20 [==============================] - 9s 381ms/step - loss: 0.0012 - accuracy: 1.0000 - val_loss: 0.7253 - val_accuracy: 0.8813\n",
            "Epoch 59/100\n",
            "20/20 [==============================] - 9s 396ms/step - loss: 3.5451e-04 - accuracy: 1.0000 - val_loss: 0.7293 - val_accuracy: 0.8813\n",
            "Epoch 60/100\n",
            "20/20 [==============================] - 9s 398ms/step - loss: 0.0021 - accuracy: 0.9984 - val_loss: 0.5771 - val_accuracy: 0.9000\n",
            "Epoch 61/100\n",
            "20/20 [==============================] - 9s 388ms/step - loss: 0.0048 - accuracy: 0.9984 - val_loss: 0.6962 - val_accuracy: 0.8687\n",
            "Epoch 62/100\n",
            "20/20 [==============================] - 9s 391ms/step - loss: 0.0299 - accuracy: 0.9937 - val_loss: 0.8643 - val_accuracy: 0.8813\n",
            "Epoch 63/100\n",
            "20/20 [==============================] - 9s 388ms/step - loss: 0.0233 - accuracy: 0.9937 - val_loss: 0.9816 - val_accuracy: 0.8375\n",
            "Epoch 64/100\n",
            "20/20 [==============================] - 9s 401ms/step - loss: 0.0677 - accuracy: 0.9766 - val_loss: 0.6245 - val_accuracy: 0.8813\n",
            "Epoch 65/100\n",
            "20/20 [==============================] - 9s 386ms/step - loss: 0.0434 - accuracy: 0.9906 - val_loss: 1.5582 - val_accuracy: 0.8687\n",
            "Epoch 66/100\n",
            "20/20 [==============================] - 9s 390ms/step - loss: 0.2552 - accuracy: 0.9516 - val_loss: 3.3673 - val_accuracy: 0.6812\n",
            "Epoch 67/100\n",
            "20/20 [==============================] - 10s 470ms/step - loss: 0.2180 - accuracy: 0.9250 - val_loss: 1.9655 - val_accuracy: 0.7250\n",
            "Epoch 68/100\n",
            "20/20 [==============================] - 10s 465ms/step - loss: 0.1525 - accuracy: 0.9484 - val_loss: 51.8212 - val_accuracy: 0.5437\n",
            "Epoch 69/100\n",
            "20/20 [==============================] - 9s 384ms/step - loss: 0.1667 - accuracy: 0.9688 - val_loss: 5.3311 - val_accuracy: 0.7563\n",
            "Epoch 70/100\n",
            "20/20 [==============================] - 9s 389ms/step - loss: 0.1657 - accuracy: 0.9484 - val_loss: 1247.0302 - val_accuracy: 0.6562\n",
            "Epoch 71/100\n",
            "20/20 [==============================] - 9s 385ms/step - loss: 0.1705 - accuracy: 0.9594 - val_loss: 19159.8730 - val_accuracy: 0.5312\n",
            "Epoch 72/100\n",
            "20/20 [==============================] - 9s 381ms/step - loss: 0.0742 - accuracy: 0.9781 - val_loss: 2373.5002 - val_accuracy: 0.6562\n",
            "Epoch 73/100\n",
            "20/20 [==============================] - 9s 388ms/step - loss: 0.2225 - accuracy: 0.9484 - val_loss: 33.3493 - val_accuracy: 0.6687\n",
            "Epoch 74/100\n",
            "20/20 [==============================] - 9s 389ms/step - loss: 0.1588 - accuracy: 0.9469 - val_loss: 76.8112 - val_accuracy: 0.7937\n",
            "Epoch 75/100\n",
            "20/20 [==============================] - 10s 462ms/step - loss: 0.0842 - accuracy: 0.9719 - val_loss: 29.2901 - val_accuracy: 0.8000\n",
            "Epoch 76/100\n",
            "20/20 [==============================] - 9s 382ms/step - loss: 0.0233 - accuracy: 0.9937 - val_loss: 4.3479 - val_accuracy: 0.8062\n",
            "Epoch 77/100\n",
            "20/20 [==============================] - 9s 406ms/step - loss: 0.0561 - accuracy: 0.9844 - val_loss: 3.2076 - val_accuracy: 0.8188\n",
            "Epoch 78/100\n",
            "20/20 [==============================] - 9s 388ms/step - loss: 0.0433 - accuracy: 0.9891 - val_loss: 0.7993 - val_accuracy: 0.8250\n",
            "Epoch 79/100\n",
            "20/20 [==============================] - 9s 395ms/step - loss: 0.0065 - accuracy: 1.0000 - val_loss: 0.6557 - val_accuracy: 0.8687\n",
            "Epoch 80/100\n",
            "20/20 [==============================] - 9s 395ms/step - loss: 0.0043 - accuracy: 1.0000 - val_loss: 0.7902 - val_accuracy: 0.8750\n",
            "Epoch 81/100\n",
            "20/20 [==============================] - 9s 387ms/step - loss: 0.0039 - accuracy: 0.9984 - val_loss: 0.5100 - val_accuracy: 0.8813\n",
            "Epoch 82/100\n",
            "20/20 [==============================] - 9s 384ms/step - loss: 0.0022 - accuracy: 1.0000 - val_loss: 0.5243 - val_accuracy: 0.8938\n",
            "Epoch 83/100\n",
            "20/20 [==============================] - 10s 462ms/step - loss: 0.0025 - accuracy: 0.9984 - val_loss: 0.5675 - val_accuracy: 0.8938\n",
            "Epoch 84/100\n",
            "20/20 [==============================] - 9s 383ms/step - loss: 0.0061 - accuracy: 0.9984 - val_loss: 0.5208 - val_accuracy: 0.9000\n",
            "Epoch 85/100\n",
            "20/20 [==============================] - 9s 392ms/step - loss: 0.0173 - accuracy: 0.9937 - val_loss: 0.6851 - val_accuracy: 0.8562\n",
            "Epoch 86/100\n",
            "20/20 [==============================] - 9s 390ms/step - loss: 0.0092 - accuracy: 0.9969 - val_loss: 0.7550 - val_accuracy: 0.8500\n",
            "Epoch 87/100\n",
            "20/20 [==============================] - 10s 465ms/step - loss: 0.0193 - accuracy: 0.9937 - val_loss: 0.8019 - val_accuracy: 0.8375\n",
            "Epoch 88/100\n",
            "20/20 [==============================] - 9s 380ms/step - loss: 0.0131 - accuracy: 0.9953 - val_loss: 0.8158 - val_accuracy: 0.8500\n",
            "Epoch 89/100\n",
            "20/20 [==============================] - 9s 389ms/step - loss: 0.0285 - accuracy: 0.9922 - val_loss: 0.6216 - val_accuracy: 0.8625\n",
            "Epoch 90/100\n",
            "20/20 [==============================] - 9s 382ms/step - loss: 0.0184 - accuracy: 0.9953 - val_loss: 0.5216 - val_accuracy: 0.8375\n",
            "Epoch 91/100\n",
            "20/20 [==============================] - 8s 380ms/step - loss: 0.0255 - accuracy: 0.9969 - val_loss: 0.8401 - val_accuracy: 0.8313\n",
            "Epoch 92/100\n",
            "20/20 [==============================] - 9s 381ms/step - loss: 0.0061 - accuracy: 0.9984 - val_loss: 0.6195 - val_accuracy: 0.8750\n",
            "Epoch 93/100\n",
            "20/20 [==============================] - 9s 392ms/step - loss: 0.0109 - accuracy: 0.9953 - val_loss: 0.6004 - val_accuracy: 0.8813\n",
            "Epoch 94/100\n",
            "20/20 [==============================] - 9s 404ms/step - loss: 0.0246 - accuracy: 0.9891 - val_loss: 0.9573 - val_accuracy: 0.8375\n",
            "Epoch 95/100\n",
            "20/20 [==============================] - 9s 381ms/step - loss: 0.0150 - accuracy: 0.9969 - val_loss: 1.1390 - val_accuracy: 0.8125\n",
            "Epoch 96/100\n",
            "20/20 [==============================] - 9s 382ms/step - loss: 0.1329 - accuracy: 0.9609 - val_loss: 93.2719 - val_accuracy: 0.6125\n",
            "Epoch 97/100\n",
            "20/20 [==============================] - 10s 469ms/step - loss: 0.5967 - accuracy: 0.9406 - val_loss: 7.6972 - val_accuracy: 0.4938\n",
            "Epoch 98/100\n",
            "20/20 [==============================] - 9s 399ms/step - loss: 2.2426 - accuracy: 0.7016 - val_loss: 5786125.0000 - val_accuracy: 0.5063\n",
            "Epoch 99/100\n",
            "20/20 [==============================] - 9s 380ms/step - loss: 0.5081 - accuracy: 0.7937 - val_loss: 165333.7969 - val_accuracy: 0.5063\n",
            "Epoch 100/100\n",
            "20/20 [==============================] - 9s 382ms/step - loss: 0.4339 - accuracy: 0.8609 - val_loss: 672.7130 - val_accuracy: 0.4938\n"
          ]
        }
      ],
      "source": [
        "history = model.fit(\n",
        "    train_ds,\n",
        "    epochs=epochs,\n",
        "    validation_data=val_ds,\n",
        ")"
      ]
    },
    {
      "cell_type": "code",
      "execution_count": null,
      "metadata": {
        "colab": {
          "base_uri": "https://localhost:8080/"
        },
        "id": "kb0p-uK3rA7z",
        "outputId": "8ad730f3-caf6-444e-8776-f8144a3eae64"
      },
      "outputs": [
        {
          "output_type": "stream",
          "name": "stderr",
          "text": [
            "/usr/local/lib/python3.10/dist-packages/keras/src/engine/training.py:3103: UserWarning: You are saving your model as an HDF5 file via `model.save()`. This file format is considered legacy. We recommend using instead the native Keras format, e.g. `model.save('my_model.keras')`.\n",
            "  saving_api.save_model(\n"
          ]
        }
      ],
      "source": [
        "model.save('/content/drive/MyDrive/resnet50sequence_indoor_outdoor_model.h5')"
      ]
    }
  ],
  "metadata": {
    "accelerator": "GPU",
    "colab": {
      "provenance": [],
      "gpuType": "T4",
      "authorship_tag": "ABX9TyOc03duzkZ8o70ocUiQg999"
    },
    "kernelspec": {
      "display_name": "Python 3",
      "name": "python3"
    },
    "language_info": {
      "name": "python"
    }
  },
  "nbformat": 4,
  "nbformat_minor": 0
}