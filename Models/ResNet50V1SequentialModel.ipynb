{
  "cells": [
    {
      "cell_type": "code",
      "execution_count": 4,
      "metadata": {
        "id": "BHRwreYig3BW"
      },
      "outputs": [],
      "source": [
        "import tensorflow as tf\n",
        "from tensorflow.keras import layers, models\n",
        "from tensorflow.keras.applications import ResNet50\n",
        "from tensorflow.keras.preprocessing import image\n",
        "import numpy as np\n",
        "import matplotlib.pyplot as plt"
      ]
    },
    {
      "cell_type": "code",
      "execution_count": 5,
      "metadata": {
        "colab": {
          "base_uri": "https://localhost:8080/"
        },
        "id": "DYVjEcjrhjlN",
        "outputId": "43197600-47bf-4e13-c97a-32b811ae5a27"
      },
      "outputs": [
        {
          "output_type": "stream",
          "name": "stdout",
          "text": [
            "Drive already mounted at /content/drive; to attempt to forcibly remount, call drive.mount(\"/content/drive\", force_remount=True).\n"
          ]
        }
      ],
      "source": [
        "from google.colab import drive\n",
        "drive.mount('/content/drive')"
      ]
    },
    {
      "cell_type": "code",
      "execution_count": 6,
      "metadata": {
        "id": "UVc-68c4iVJw"
      },
      "outputs": [],
      "source": [
        "dataset_dir = '/content/drive/MyDrive/IndoorOutdoorDataset'"
      ]
    },
    {
      "cell_type": "code",
      "execution_count": 7,
      "metadata": {
        "id": "mYZKi9i5qbzh"
      },
      "outputs": [],
      "source": [
        "img_width, img_height = 224, 224\n",
        "batch_size = 32\n",
        "epochs = 100"
      ]
    },
    {
      "cell_type": "code",
      "execution_count": 8,
      "metadata": {
        "colab": {
          "base_uri": "https://localhost:8080/"
        },
        "id": "ufvA0_TgqqAi",
        "outputId": "9bd76373-c035-41c9-da3f-39f07f13298a"
      },
      "outputs": [
        {
          "output_type": "stream",
          "name": "stdout",
          "text": [
            "Found 800 files belonging to 2 classes.\n",
            "Using 640 files for training.\n"
          ]
        }
      ],
      "source": [
        "train_ds = tf.keras.utils.image_dataset_from_directory(\n",
        "    directory=dataset_dir,\n",
        "    labels='inferred',\n",
        "    label_mode='binary',\n",
        "    image_size=(img_width, img_height),\n",
        "    batch_size=batch_size,\n",
        "    validation_split=0.2,\n",
        "    seed=42,\n",
        "    shuffle=True,\n",
        "    subset='training'\n",
        ")"
      ]
    },
    {
      "cell_type": "code",
      "execution_count": 9,
      "metadata": {
        "colab": {
          "base_uri": "https://localhost:8080/"
        },
        "id": "i1PlQ6QBqriP",
        "outputId": "bb688a8b-25e2-433c-8566-0de332db5557"
      },
      "outputs": [
        {
          "output_type": "stream",
          "name": "stdout",
          "text": [
            "Found 800 files belonging to 2 classes.\n",
            "Using 160 files for validation.\n"
          ]
        }
      ],
      "source": [
        "val_ds = tf.keras.utils.image_dataset_from_directory(\n",
        "    directory=dataset_dir,\n",
        "    labels='inferred',\n",
        "    label_mode='binary',\n",
        "    image_size=(img_width, img_height),\n",
        "    batch_size=batch_size,\n",
        "    validation_split=0.2,\n",
        "    seed=42,\n",
        "    shuffle=True,\n",
        "    subset='validation'\n",
        ")"
      ]
    },
    {
      "cell_type": "code",
      "execution_count": 10,
      "metadata": {
        "id": "T_XA7uq3qtDq",
        "colab": {
          "base_uri": "https://localhost:8080/"
        },
        "outputId": "7f59dba4-4e6c-4940-b570-297db26147fd"
      },
      "outputs": [
        {
          "output_type": "stream",
          "name": "stdout",
          "text": [
            "Downloading data from https://storage.googleapis.com/tensorflow/keras-applications/resnet/resnet50_weights_tf_dim_ordering_tf_kernels_notop.h5\n",
            "94765736/94765736 [==============================] - 0s 0us/step\n"
          ]
        }
      ],
      "source": [
        "model = models.Sequential()\n",
        "model.add(ResNet50(weights='imagenet', include_top=False, input_shape=(img_width, img_height, 3)))\n",
        "model.add(layers.Flatten())\n",
        "model.add(layers.Dense(264, activation='relu'))\n",
        "model.add(layers.Dense(128, activation='relu'))\n",
        "model.add(layers.Dense(1, activation='sigmoid'))"
      ]
    },
    {
      "cell_type": "code",
      "execution_count": 11,
      "metadata": {
        "colab": {
          "base_uri": "https://localhost:8080/"
        },
        "id": "Uf-dbEW3qyTc",
        "outputId": "f441c7f0-e9b0-4680-ff29-c38853ea8095"
      },
      "outputs": [
        {
          "output_type": "stream",
          "name": "stdout",
          "text": [
            "Model: \"sequential\"\n",
            "_________________________________________________________________\n",
            " Layer (type)                Output Shape              Param #   \n",
            "=================================================================\n",
            " resnet50 (Functional)       (None, 7, 7, 2048)        23587712  \n",
            "                                                                 \n",
            " flatten (Flatten)           (None, 100352)            0         \n",
            "                                                                 \n",
            " dense (Dense)               (None, 264)               26493192  \n",
            "                                                                 \n",
            " dense_1 (Dense)             (None, 128)               33920     \n",
            "                                                                 \n",
            " dense_2 (Dense)             (None, 1)                 129       \n",
            "                                                                 \n",
            "=================================================================\n",
            "Total params: 50114953 (191.17 MB)\n",
            "Trainable params: 50061833 (190.97 MB)\n",
            "Non-trainable params: 53120 (207.50 KB)\n",
            "_________________________________________________________________\n"
          ]
        }
      ],
      "source": [
        "model.summary()"
      ]
    },
    {
      "cell_type": "code",
      "execution_count": 12,
      "metadata": {
        "id": "2NZRRUm4qyU7"
      },
      "outputs": [],
      "source": [
        "model.compile(optimizer='adam', loss='binary_crossentropy', metrics=['accuracy'])"
      ]
    },
    {
      "cell_type": "code",
      "execution_count": 13,
      "metadata": {
        "colab": {
          "base_uri": "https://localhost:8080/"
        },
        "id": "exHLC87LqyZu",
        "outputId": "6cce0ccc-73e3-44eb-8f83-62bb57c4e2ec"
      },
      "outputs": [
        {
          "output_type": "stream",
          "name": "stdout",
          "text": [
            "Epoch 1/100\n",
            "20/20 [==============================] - 120s 3s/step - loss: 5.3558 - accuracy: 0.7781 - val_loss: 349279264.0000 - val_accuracy: 0.4938\n",
            "Epoch 2/100\n",
            "20/20 [==============================] - 8s 377ms/step - loss: 0.4432 - accuracy: 0.8766 - val_loss: 62001204.0000 - val_accuracy: 0.4938\n",
            "Epoch 3/100\n",
            "20/20 [==============================] - 8s 377ms/step - loss: 0.2956 - accuracy: 0.9125 - val_loss: 1957541.0000 - val_accuracy: 0.4938\n",
            "Epoch 4/100\n",
            "20/20 [==============================] - 8s 370ms/step - loss: 0.3110 - accuracy: 0.9109 - val_loss: 32932.8984 - val_accuracy: 0.5188\n",
            "Epoch 5/100\n",
            "20/20 [==============================] - 8s 379ms/step - loss: 1.7798 - accuracy: 0.9016 - val_loss: 12497354.0000 - val_accuracy: 0.5063\n",
            "Epoch 6/100\n",
            "20/20 [==============================] - 8s 388ms/step - loss: 0.6330 - accuracy: 0.8750 - val_loss: 169519.2188 - val_accuracy: 0.4938\n",
            "Epoch 7/100\n",
            "20/20 [==============================] - 9s 376ms/step - loss: 0.4219 - accuracy: 0.9094 - val_loss: 188745.9531 - val_accuracy: 0.4938\n",
            "Epoch 8/100\n",
            "20/20 [==============================] - 9s 392ms/step - loss: 0.1964 - accuracy: 0.9281 - val_loss: 46823.7500 - val_accuracy: 0.4938\n",
            "Epoch 9/100\n",
            "20/20 [==============================] - 9s 395ms/step - loss: 0.1132 - accuracy: 0.9563 - val_loss: 7436.6758 - val_accuracy: 0.5125\n",
            "Epoch 10/100\n",
            "20/20 [==============================] - 9s 385ms/step - loss: 0.1486 - accuracy: 0.9438 - val_loss: 1518.5414 - val_accuracy: 0.5312\n",
            "Epoch 11/100\n",
            "20/20 [==============================] - 9s 398ms/step - loss: 0.0788 - accuracy: 0.9734 - val_loss: 285.5108 - val_accuracy: 0.5938\n",
            "Epoch 12/100\n",
            "20/20 [==============================] - 9s 375ms/step - loss: 0.0582 - accuracy: 0.9812 - val_loss: 84.2721 - val_accuracy: 0.6625\n",
            "Epoch 13/100\n",
            "20/20 [==============================] - 8s 382ms/step - loss: 0.0366 - accuracy: 0.9906 - val_loss: 24.2370 - val_accuracy: 0.7563\n",
            "Epoch 14/100\n",
            "20/20 [==============================] - 8s 374ms/step - loss: 0.0238 - accuracy: 0.9922 - val_loss: 8.0757 - val_accuracy: 0.8500\n",
            "Epoch 15/100\n",
            "20/20 [==============================] - 9s 379ms/step - loss: 0.0469 - accuracy: 0.9812 - val_loss: 4.2573 - val_accuracy: 0.8625\n",
            "Epoch 16/100\n",
            "20/20 [==============================] - 9s 392ms/step - loss: 0.0261 - accuracy: 0.9891 - val_loss: 1.7506 - val_accuracy: 0.8875\n",
            "Epoch 17/100\n",
            "20/20 [==============================] - 8s 372ms/step - loss: 0.0256 - accuracy: 0.9922 - val_loss: 0.5018 - val_accuracy: 0.9000\n",
            "Epoch 18/100\n",
            "20/20 [==============================] - 8s 384ms/step - loss: 0.0441 - accuracy: 0.9859 - val_loss: 0.9265 - val_accuracy: 0.8750\n",
            "Epoch 19/100\n",
            "20/20 [==============================] - 9s 394ms/step - loss: 0.1047 - accuracy: 0.9719 - val_loss: 0.4470 - val_accuracy: 0.8875\n",
            "Epoch 20/100\n",
            "20/20 [==============================] - 9s 377ms/step - loss: 0.0638 - accuracy: 0.9812 - val_loss: 15.1287 - val_accuracy: 0.6875\n",
            "Epoch 21/100\n",
            "20/20 [==============================] - 9s 397ms/step - loss: 0.0612 - accuracy: 0.9828 - val_loss: 7.3318 - val_accuracy: 0.8000\n",
            "Epoch 22/100\n",
            "20/20 [==============================] - 8s 375ms/step - loss: 0.0442 - accuracy: 0.9906 - val_loss: 0.7555 - val_accuracy: 0.8500\n",
            "Epoch 23/100\n",
            "20/20 [==============================] - 8s 383ms/step - loss: 0.0205 - accuracy: 0.9937 - val_loss: 0.5904 - val_accuracy: 0.8813\n",
            "Epoch 24/100\n",
            "20/20 [==============================] - 9s 393ms/step - loss: 0.0174 - accuracy: 0.9937 - val_loss: 0.3815 - val_accuracy: 0.9125\n",
            "Epoch 25/100\n",
            "20/20 [==============================] - 8s 371ms/step - loss: 0.0210 - accuracy: 0.9953 - val_loss: 0.4378 - val_accuracy: 0.9062\n",
            "Epoch 26/100\n",
            "20/20 [==============================] - 8s 386ms/step - loss: 0.0074 - accuracy: 0.9984 - val_loss: 0.4720 - val_accuracy: 0.8938\n",
            "Epoch 27/100\n",
            "20/20 [==============================] - 9s 393ms/step - loss: 0.0450 - accuracy: 0.9937 - val_loss: 0.3371 - val_accuracy: 0.9062\n",
            "Epoch 28/100\n",
            "20/20 [==============================] - 8s 376ms/step - loss: 0.0047 - accuracy: 1.0000 - val_loss: 0.2594 - val_accuracy: 0.9187\n",
            "Epoch 29/100\n",
            "20/20 [==============================] - 8s 384ms/step - loss: 0.0025 - accuracy: 1.0000 - val_loss: 0.2950 - val_accuracy: 0.9187\n",
            "Epoch 30/100\n",
            "20/20 [==============================] - 9s 393ms/step - loss: 0.0051 - accuracy: 0.9984 - val_loss: 0.2626 - val_accuracy: 0.9250\n",
            "Epoch 31/100\n",
            "20/20 [==============================] - 9s 374ms/step - loss: 0.0434 - accuracy: 0.9859 - val_loss: 0.6418 - val_accuracy: 0.8562\n",
            "Epoch 32/100\n",
            "20/20 [==============================] - 8s 383ms/step - loss: 0.1171 - accuracy: 0.9672 - val_loss: 0.3579 - val_accuracy: 0.8813\n",
            "Epoch 33/100\n",
            "20/20 [==============================] - 9s 391ms/step - loss: 0.2032 - accuracy: 0.9625 - val_loss: 1131.9817 - val_accuracy: 0.6500\n",
            "Epoch 34/100\n",
            "20/20 [==============================] - 9s 377ms/step - loss: 0.0783 - accuracy: 0.9641 - val_loss: 3275.1628 - val_accuracy: 0.5813\n",
            "Epoch 35/100\n",
            "20/20 [==============================] - 9s 394ms/step - loss: 0.0860 - accuracy: 0.9875 - val_loss: 6198.3813 - val_accuracy: 0.6250\n",
            "Epoch 36/100\n",
            "20/20 [==============================] - 8s 376ms/step - loss: 0.0314 - accuracy: 0.9922 - val_loss: 1092.7048 - val_accuracy: 0.6562\n",
            "Epoch 37/100\n",
            "20/20 [==============================] - 9s 378ms/step - loss: 0.0168 - accuracy: 0.9922 - val_loss: 60.3650 - val_accuracy: 0.8562\n",
            "Epoch 38/100\n",
            "20/20 [==============================] - 9s 395ms/step - loss: 0.0103 - accuracy: 0.9984 - val_loss: 10.4677 - val_accuracy: 0.8875\n",
            "Epoch 39/100\n",
            "20/20 [==============================] - 8s 374ms/step - loss: 0.0020 - accuracy: 1.0000 - val_loss: 3.4731 - val_accuracy: 0.8938\n",
            "Epoch 40/100\n",
            "20/20 [==============================] - 8s 383ms/step - loss: 0.0012 - accuracy: 1.0000 - val_loss: 1.7493 - val_accuracy: 0.9062\n",
            "Epoch 41/100\n",
            "20/20 [==============================] - 8s 375ms/step - loss: 0.0023 - accuracy: 1.0000 - val_loss: 0.9149 - val_accuracy: 0.9062\n",
            "Epoch 42/100\n",
            "20/20 [==============================] - 9s 370ms/step - loss: 0.0161 - accuracy: 0.9953 - val_loss: 0.6261 - val_accuracy: 0.9000\n",
            "Epoch 43/100\n",
            "20/20 [==============================] - 8s 383ms/step - loss: 0.0174 - accuracy: 0.9937 - val_loss: 0.8976 - val_accuracy: 0.9187\n",
            "Epoch 44/100\n",
            "20/20 [==============================] - 10s 463ms/step - loss: 0.0084 - accuracy: 0.9969 - val_loss: 0.9419 - val_accuracy: 0.9000\n",
            "Epoch 45/100\n",
            "20/20 [==============================] - 8s 374ms/step - loss: 0.0201 - accuracy: 0.9922 - val_loss: 0.9737 - val_accuracy: 0.8938\n",
            "Epoch 46/100\n",
            "20/20 [==============================] - 8s 385ms/step - loss: 0.0084 - accuracy: 0.9953 - val_loss: 0.9384 - val_accuracy: 0.8938\n",
            "Epoch 47/100\n",
            "20/20 [==============================] - 9s 393ms/step - loss: 0.0687 - accuracy: 0.9922 - val_loss: 0.5132 - val_accuracy: 0.8687\n",
            "Epoch 48/100\n",
            "20/20 [==============================] - 8s 376ms/step - loss: 0.0162 - accuracy: 0.9984 - val_loss: 0.3426 - val_accuracy: 0.9000\n",
            "Epoch 49/100\n",
            "20/20 [==============================] - 8s 383ms/step - loss: 0.0138 - accuracy: 0.9937 - val_loss: 0.3195 - val_accuracy: 0.9125\n",
            "Epoch 50/100\n",
            "20/20 [==============================] - 9s 393ms/step - loss: 0.0019 - accuracy: 1.0000 - val_loss: 0.4024 - val_accuracy: 0.9062\n",
            "Epoch 51/100\n",
            "20/20 [==============================] - 8s 374ms/step - loss: 0.0105 - accuracy: 0.9984 - val_loss: 0.4988 - val_accuracy: 0.9000\n",
            "Epoch 52/100\n",
            "20/20 [==============================] - 8s 386ms/step - loss: 0.0141 - accuracy: 0.9984 - val_loss: 1.2810 - val_accuracy: 0.8813\n",
            "Epoch 53/100\n",
            "20/20 [==============================] - 9s 392ms/step - loss: 0.0017 - accuracy: 1.0000 - val_loss: 2.8935 - val_accuracy: 0.8875\n",
            "Epoch 54/100\n",
            "20/20 [==============================] - 8s 372ms/step - loss: 0.0077 - accuracy: 0.9953 - val_loss: 0.9885 - val_accuracy: 0.8938\n",
            "Epoch 55/100\n",
            "20/20 [==============================] - 8s 383ms/step - loss: 0.0276 - accuracy: 0.9937 - val_loss: 0.6594 - val_accuracy: 0.9000\n",
            "Epoch 56/100\n",
            "20/20 [==============================] - 8s 376ms/step - loss: 0.0197 - accuracy: 0.9937 - val_loss: 0.4823 - val_accuracy: 0.8625\n",
            "Epoch 57/100\n",
            "20/20 [==============================] - 9s 385ms/step - loss: 0.0079 - accuracy: 0.9953 - val_loss: 0.4393 - val_accuracy: 0.8938\n",
            "Epoch 58/100\n",
            "20/20 [==============================] - 9s 391ms/step - loss: 0.0058 - accuracy: 0.9969 - val_loss: 0.4646 - val_accuracy: 0.9000\n",
            "Epoch 59/100\n",
            "20/20 [==============================] - 8s 374ms/step - loss: 0.0027 - accuracy: 0.9984 - val_loss: 0.5475 - val_accuracy: 0.9000\n",
            "Epoch 60/100\n",
            "20/20 [==============================] - 9s 377ms/step - loss: 0.0014 - accuracy: 1.0000 - val_loss: 0.5503 - val_accuracy: 0.8938\n",
            "Epoch 61/100\n",
            "20/20 [==============================] - 8s 381ms/step - loss: 0.0849 - accuracy: 0.9859 - val_loss: 0.6635 - val_accuracy: 0.8750\n",
            "Epoch 62/100\n",
            "20/20 [==============================] - 8s 373ms/step - loss: 0.6168 - accuracy: 0.9469 - val_loss: 11.4458 - val_accuracy: 0.8000\n",
            "Epoch 63/100\n",
            "20/20 [==============================] - 9s 376ms/step - loss: 0.7679 - accuracy: 0.9328 - val_loss: 22079.6934 - val_accuracy: 0.4625\n",
            "Epoch 64/100\n",
            "20/20 [==============================] - 9s 393ms/step - loss: 0.6464 - accuracy: 0.9375 - val_loss: 11838.1553 - val_accuracy: 0.4938\n",
            "Epoch 65/100\n",
            "20/20 [==============================] - 8s 373ms/step - loss: 0.7432 - accuracy: 0.8906 - val_loss: 11966264.0000 - val_accuracy: 0.4938\n",
            "Epoch 66/100\n",
            "20/20 [==============================] - 9s 377ms/step - loss: 0.7372 - accuracy: 0.8938 - val_loss: 95651.8047 - val_accuracy: 0.4938\n",
            "Epoch 67/100\n",
            "20/20 [==============================] - 8s 386ms/step - loss: 0.1965 - accuracy: 0.9344 - val_loss: 28567.5898 - val_accuracy: 0.4938\n",
            "Epoch 68/100\n",
            "20/20 [==============================] - 9s 390ms/step - loss: 0.1797 - accuracy: 0.9344 - val_loss: 1471.0453 - val_accuracy: 0.5125\n",
            "Epoch 69/100\n",
            "20/20 [==============================] - 9s 381ms/step - loss: 0.0726 - accuracy: 0.9766 - val_loss: 135.1064 - val_accuracy: 0.5875\n",
            "Epoch 70/100\n",
            "20/20 [==============================] - 8s 389ms/step - loss: 0.0486 - accuracy: 0.9766 - val_loss: 50.8034 - val_accuracy: 0.6500\n",
            "Epoch 71/100\n",
            "20/20 [==============================] - 8s 373ms/step - loss: 0.1857 - accuracy: 0.9781 - val_loss: 2.4261 - val_accuracy: 0.6125\n",
            "Epoch 72/100\n",
            "20/20 [==============================] - 9s 386ms/step - loss: 0.0913 - accuracy: 0.9594 - val_loss: 3.1562 - val_accuracy: 0.5750\n",
            "Epoch 73/100\n",
            "20/20 [==============================] - 9s 394ms/step - loss: 0.0656 - accuracy: 0.9688 - val_loss: 0.9582 - val_accuracy: 0.7125\n",
            "Epoch 74/100\n",
            "20/20 [==============================] - 9s 372ms/step - loss: 0.0350 - accuracy: 0.9906 - val_loss: 0.6422 - val_accuracy: 0.8313\n",
            "Epoch 75/100\n",
            "20/20 [==============================] - 8s 385ms/step - loss: 0.0246 - accuracy: 0.9922 - val_loss: 0.4723 - val_accuracy: 0.8687\n",
            "Epoch 76/100\n",
            "20/20 [==============================] - 9s 393ms/step - loss: 0.0393 - accuracy: 0.9844 - val_loss: 0.5081 - val_accuracy: 0.8750\n",
            "Epoch 77/100\n",
            "20/20 [==============================] - 9s 373ms/step - loss: 0.0606 - accuracy: 0.9766 - val_loss: 0.3984 - val_accuracy: 0.8938\n",
            "Epoch 78/100\n",
            "20/20 [==============================] - 9s 400ms/step - loss: 0.0438 - accuracy: 0.9906 - val_loss: 0.6771 - val_accuracy: 0.8875\n",
            "Epoch 79/100\n",
            "20/20 [==============================] - 9s 393ms/step - loss: 0.0179 - accuracy: 0.9984 - val_loss: 0.5988 - val_accuracy: 0.8875\n",
            "Epoch 80/100\n",
            "20/20 [==============================] - 9s 378ms/step - loss: 0.0109 - accuracy: 0.9953 - val_loss: 0.6236 - val_accuracy: 0.8813\n",
            "Epoch 81/100\n",
            "20/20 [==============================] - 9s 393ms/step - loss: 0.0019 - accuracy: 1.0000 - val_loss: 0.6272 - val_accuracy: 0.8750\n",
            "Epoch 82/100\n",
            "20/20 [==============================] - 8s 372ms/step - loss: 0.0211 - accuracy: 0.9953 - val_loss: 0.7101 - val_accuracy: 0.8687\n",
            "Epoch 83/100\n",
            "20/20 [==============================] - 8s 383ms/step - loss: 0.0348 - accuracy: 0.9906 - val_loss: 0.6339 - val_accuracy: 0.8687\n",
            "Epoch 84/100\n",
            "20/20 [==============================] - 9s 391ms/step - loss: 0.0437 - accuracy: 0.9906 - val_loss: 0.6065 - val_accuracy: 0.8813\n",
            "Epoch 85/100\n",
            "20/20 [==============================] - 9s 375ms/step - loss: 0.0934 - accuracy: 0.9750 - val_loss: 0.4682 - val_accuracy: 0.8750\n",
            "Epoch 86/100\n",
            "20/20 [==============================] - 8s 379ms/step - loss: 0.0238 - accuracy: 0.9906 - val_loss: 0.4477 - val_accuracy: 0.8750\n",
            "Epoch 87/100\n",
            "20/20 [==============================] - 8s 375ms/step - loss: 0.0137 - accuracy: 0.9969 - val_loss: 0.5327 - val_accuracy: 0.8750\n",
            "Epoch 88/100\n",
            "20/20 [==============================] - 9s 375ms/step - loss: 0.0285 - accuracy: 0.9906 - val_loss: 0.4916 - val_accuracy: 0.8938\n",
            "Epoch 89/100\n",
            "20/20 [==============================] - 8s 383ms/step - loss: 0.0158 - accuracy: 0.9937 - val_loss: 0.6379 - val_accuracy: 0.8875\n",
            "Epoch 90/100\n",
            "20/20 [==============================] - 8s 375ms/step - loss: 0.0069 - accuracy: 0.9984 - val_loss: 0.9050 - val_accuracy: 0.8438\n",
            "Epoch 91/100\n",
            "20/20 [==============================] - 9s 386ms/step - loss: 0.0066 - accuracy: 0.9969 - val_loss: 0.9549 - val_accuracy: 0.8500\n",
            "Epoch 92/100\n",
            "20/20 [==============================] - 9s 394ms/step - loss: 0.0046 - accuracy: 1.0000 - val_loss: 0.7097 - val_accuracy: 0.8938\n",
            "Epoch 93/100\n",
            "20/20 [==============================] - 8s 376ms/step - loss: 0.0029 - accuracy: 0.9984 - val_loss: 0.9806 - val_accuracy: 0.8625\n",
            "Epoch 94/100\n",
            "20/20 [==============================] - 8s 385ms/step - loss: 0.0256 - accuracy: 0.9906 - val_loss: 0.5955 - val_accuracy: 0.8813\n",
            "Epoch 95/100\n",
            "20/20 [==============================] - 8s 386ms/step - loss: 0.0302 - accuracy: 0.9859 - val_loss: 0.6866 - val_accuracy: 0.8687\n",
            "Epoch 96/100\n",
            "20/20 [==============================] - 9s 382ms/step - loss: 0.0125 - accuracy: 0.9953 - val_loss: 0.5772 - val_accuracy: 0.8938\n",
            "Epoch 97/100\n",
            "20/20 [==============================] - 10s 462ms/step - loss: 0.0067 - accuracy: 0.9969 - val_loss: 0.5190 - val_accuracy: 0.9125\n",
            "Epoch 98/100\n",
            "20/20 [==============================] - 8s 374ms/step - loss: 0.0013 - accuracy: 1.0000 - val_loss: 0.5273 - val_accuracy: 0.9125\n",
            "Epoch 99/100\n",
            "20/20 [==============================] - 9s 388ms/step - loss: 6.9631e-04 - accuracy: 1.0000 - val_loss: 0.5431 - val_accuracy: 0.9062\n",
            "Epoch 100/100\n",
            "20/20 [==============================] - 8s 389ms/step - loss: 5.4685e-04 - accuracy: 1.0000 - val_loss: 0.5467 - val_accuracy: 0.9000\n"
          ]
        }
      ],
      "source": [
        "history = model.fit(\n",
        "    train_ds,\n",
        "    epochs=epochs,\n",
        "    validation_data=val_ds,\n",
        ")"
      ]
    },
    {
      "cell_type": "code",
      "execution_count": 14,
      "metadata": {
        "colab": {
          "base_uri": "https://localhost:8080/"
        },
        "id": "kb0p-uK3rA7z",
        "outputId": "39725008-80fe-441b-f8e1-88cf568a9ce8"
      },
      "outputs": [
        {
          "output_type": "stream",
          "name": "stderr",
          "text": [
            "/usr/local/lib/python3.10/dist-packages/keras/src/engine/training.py:3103: UserWarning: You are saving your model as an HDF5 file via `model.save()`. This file format is considered legacy. We recommend using instead the native Keras format, e.g. `model.save('my_model.keras')`.\n",
            "  saving_api.save_model(\n"
          ]
        }
      ],
      "source": [
        "model.save('/content/drive/MyDrive/resnet50sequence_indoor_outdoor_model.h5')"
      ]
    }
  ],
  "metadata": {
    "accelerator": "GPU",
    "colab": {
      "provenance": [],
      "gpuType": "T4",
      "authorship_tag": "ABX9TyNf3a9DATeCrOv1S/lq7suG"
    },
    "kernelspec": {
      "display_name": "Python 3",
      "name": "python3"
    },
    "language_info": {
      "name": "python"
    }
  },
  "nbformat": 4,
  "nbformat_minor": 0
}