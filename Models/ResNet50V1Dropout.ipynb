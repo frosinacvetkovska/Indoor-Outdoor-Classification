{
  "nbformat": 4,
  "nbformat_minor": 0,
  "metadata": {
    "colab": {
      "provenance": [],
      "gpuType": "T4",
      "authorship_tag": "ABX9TyOU38JYU22MJ0pCnH25pl6d"
    },
    "kernelspec": {
      "name": "python3",
      "display_name": "Python 3"
    },
    "language_info": {
      "name": "python"
    },
    "accelerator": "GPU"
  },
  "cells": [
    {
      "cell_type": "code",
      "execution_count": 1,
      "metadata": {
        "id": "_N5srNHE__Em"
      },
      "outputs": [],
      "source": [
        "import tensorflow as tf\n",
        "from tensorflow.keras import layers, models\n",
        "from tensorflow.keras.applications import ResNet50\n",
        "from tensorflow.keras.preprocessing import image\n",
        "import numpy as np\n",
        "import matplotlib.pyplot as plt"
      ]
    },
    {
      "cell_type": "code",
      "source": [
        "from google.colab import drive\n",
        "drive.mount('/content/drive')"
      ],
      "metadata": {
        "id": "nt796EShZQD8",
        "colab": {
          "base_uri": "https://localhost:8080/"
        },
        "outputId": "56459afb-57d3-4534-a687-9deaed8b156e"
      },
      "execution_count": 2,
      "outputs": [
        {
          "output_type": "stream",
          "name": "stdout",
          "text": [
            "Mounted at /content/drive\n"
          ]
        }
      ]
    },
    {
      "cell_type": "code",
      "source": [
        "dataset_dir = '/content/drive/MyDrive/IndoorOutdoorDataset'"
      ],
      "metadata": {
        "id": "GmN4bEOZZQGO"
      },
      "execution_count": 3,
      "outputs": []
    },
    {
      "cell_type": "code",
      "source": [
        "img_width, img_height = 224, 224\n",
        "batch_size = 32\n",
        "epochs = 100"
      ],
      "metadata": {
        "id": "Jr8sP596ZQIj"
      },
      "execution_count": 4,
      "outputs": []
    },
    {
      "cell_type": "code",
      "source": [
        "train_ds = tf.keras.utils.image_dataset_from_directory(\n",
        "    directory=dataset_dir,\n",
        "    labels='inferred',\n",
        "    label_mode='binary',\n",
        "    image_size=(img_width, img_height),\n",
        "    batch_size=batch_size,\n",
        "    validation_split=0.2,\n",
        "    seed=42,\n",
        "    shuffle=True,\n",
        "    subset='training'\n",
        ")"
      ],
      "metadata": {
        "id": "gw7P-4vHZQK2",
        "colab": {
          "base_uri": "https://localhost:8080/"
        },
        "outputId": "e56c8f69-e1da-4a8b-ffa7-3a6451923a69"
      },
      "execution_count": 5,
      "outputs": [
        {
          "output_type": "stream",
          "name": "stdout",
          "text": [
            "Found 800 files belonging to 2 classes.\n",
            "Using 640 files for training.\n"
          ]
        }
      ]
    },
    {
      "cell_type": "code",
      "source": [
        "val_ds = tf.keras.utils.image_dataset_from_directory(\n",
        "    directory=dataset_dir,\n",
        "    labels='inferred',\n",
        "    label_mode='binary',\n",
        "    image_size=(img_width, img_height),\n",
        "    batch_size=batch_size,\n",
        "    validation_split=0.2,\n",
        "    seed=42,\n",
        "    shuffle=True,\n",
        "    subset='validation'\n",
        ")"
      ],
      "metadata": {
        "id": "a_R-NG_cZQM6",
        "colab": {
          "base_uri": "https://localhost:8080/"
        },
        "outputId": "2aced3db-71b5-435d-e4fc-596cda1b6d0f"
      },
      "execution_count": 6,
      "outputs": [
        {
          "output_type": "stream",
          "name": "stdout",
          "text": [
            "Found 800 files belonging to 2 classes.\n",
            "Using 160 files for validation.\n"
          ]
        }
      ]
    },
    {
      "cell_type": "code",
      "source": [
        "model = models.Sequential()\n",
        "model.add(ResNet50(weights='imagenet', include_top=False, input_shape=(img_width, img_height, 3)))\n",
        "model.add(layers.Flatten())\n",
        "model.add(layers.Dense(264, activation='relu'))\n",
        "model.add(layers.Dropout(0.3))\n",
        "model.add(layers.Dense(128, activation='relu'))\n",
        "model.add(layers.Dropout(0.1))\n",
        "model.add(layers.Dense(1, activation='sigmoid'))"
      ],
      "metadata": {
        "id": "iF2t_PH9ZQPV",
        "colab": {
          "base_uri": "https://localhost:8080/"
        },
        "outputId": "bfee4edf-21d5-4862-e705-d02864f7daec"
      },
      "execution_count": 7,
      "outputs": [
        {
          "output_type": "stream",
          "name": "stdout",
          "text": [
            "Downloading data from https://storage.googleapis.com/tensorflow/keras-applications/resnet/resnet50_weights_tf_dim_ordering_tf_kernels_notop.h5\n",
            "94765736/94765736 [==============================] - 0s 0us/step\n"
          ]
        }
      ]
    },
    {
      "cell_type": "code",
      "source": [
        "model.summary()"
      ],
      "metadata": {
        "id": "ol-jKiZkZQRc",
        "colab": {
          "base_uri": "https://localhost:8080/"
        },
        "outputId": "aeb8cd86-9248-4c58-d45b-edaf2e6f9325"
      },
      "execution_count": 8,
      "outputs": [
        {
          "output_type": "stream",
          "name": "stdout",
          "text": [
            "Model: \"sequential\"\n",
            "_________________________________________________________________\n",
            " Layer (type)                Output Shape              Param #   \n",
            "=================================================================\n",
            " resnet50 (Functional)       (None, 7, 7, 2048)        23587712  \n",
            "                                                                 \n",
            " flatten (Flatten)           (None, 100352)            0         \n",
            "                                                                 \n",
            " dense (Dense)               (None, 264)               26493192  \n",
            "                                                                 \n",
            " dropout (Dropout)           (None, 264)               0         \n",
            "                                                                 \n",
            " dense_1 (Dense)             (None, 128)               33920     \n",
            "                                                                 \n",
            " dropout_1 (Dropout)         (None, 128)               0         \n",
            "                                                                 \n",
            " dense_2 (Dense)             (None, 1)                 129       \n",
            "                                                                 \n",
            "=================================================================\n",
            "Total params: 50114953 (191.17 MB)\n",
            "Trainable params: 50061833 (190.97 MB)\n",
            "Non-trainable params: 53120 (207.50 KB)\n",
            "_________________________________________________________________\n"
          ]
        }
      ]
    },
    {
      "cell_type": "code",
      "source": [
        "model.compile(optimizer='adam', loss='binary_crossentropy', metrics=['accuracy'])"
      ],
      "metadata": {
        "id": "VHIXXXnTZQVr"
      },
      "execution_count": 9,
      "outputs": []
    },
    {
      "cell_type": "code",
      "source": [
        "history = model.fit(\n",
        "    train_ds,\n",
        "    epochs=epochs,\n",
        "    validation_data=val_ds,\n",
        ")"
      ],
      "metadata": {
        "id": "ArxAAOvXZQYO",
        "colab": {
          "base_uri": "https://localhost:8080/"
        },
        "outputId": "abe2b748-132f-45d1-c055-c9e903b3b0e6"
      },
      "execution_count": 10,
      "outputs": [
        {
          "output_type": "stream",
          "name": "stdout",
          "text": [
            "Epoch 1/100\n",
            "20/20 [==============================] - 98s 2s/step - loss: 3.6926 - accuracy: 0.7984 - val_loss: 788207.6250 - val_accuracy: 0.5063\n",
            "Epoch 2/100\n",
            "20/20 [==============================] - 10s 400ms/step - loss: 3.3679 - accuracy: 0.7734 - val_loss: 745.8011 - val_accuracy: 0.5000\n",
            "Epoch 3/100\n",
            "20/20 [==============================] - 8s 371ms/step - loss: 3.0958 - accuracy: 0.7141 - val_loss: 1237.3340 - val_accuracy: 0.5063\n",
            "Epoch 4/100\n",
            "20/20 [==============================] - 8s 371ms/step - loss: 1.5231 - accuracy: 0.7859 - val_loss: 1578.1168 - val_accuracy: 0.5063\n",
            "Epoch 5/100\n",
            "20/20 [==============================] - 9s 395ms/step - loss: 1.2458 - accuracy: 0.7578 - val_loss: 33558.6445 - val_accuracy: 0.4250\n",
            "Epoch 6/100\n",
            "20/20 [==============================] - 8s 377ms/step - loss: 0.7626 - accuracy: 0.8281 - val_loss: 2518.6863 - val_accuracy: 0.5063\n",
            "Epoch 7/100\n",
            "20/20 [==============================] - 9s 400ms/step - loss: 0.6501 - accuracy: 0.8625 - val_loss: 481.1092 - val_accuracy: 0.5250\n",
            "Epoch 8/100\n",
            "20/20 [==============================] - 9s 387ms/step - loss: 0.4082 - accuracy: 0.8875 - val_loss: 154.3006 - val_accuracy: 0.6938\n",
            "Epoch 9/100\n",
            "20/20 [==============================] - 9s 386ms/step - loss: 0.2574 - accuracy: 0.9266 - val_loss: 38.1132 - val_accuracy: 0.7125\n",
            "Epoch 10/100\n",
            "20/20 [==============================] - 9s 400ms/step - loss: 0.2214 - accuracy: 0.9484 - val_loss: 10.0498 - val_accuracy: 0.6375\n",
            "Epoch 11/100\n",
            "20/20 [==============================] - 9s 397ms/step - loss: 0.1549 - accuracy: 0.9484 - val_loss: 3.3089 - val_accuracy: 0.7188\n",
            "Epoch 12/100\n",
            "20/20 [==============================] - 8s 379ms/step - loss: 0.1304 - accuracy: 0.9656 - val_loss: 1.9704 - val_accuracy: 0.7875\n",
            "Epoch 13/100\n",
            "20/20 [==============================] - 9s 395ms/step - loss: 0.0390 - accuracy: 0.9828 - val_loss: 2.0364 - val_accuracy: 0.7563\n",
            "Epoch 14/100\n",
            "20/20 [==============================] - 9s 417ms/step - loss: 0.0614 - accuracy: 0.9812 - val_loss: 0.9438 - val_accuracy: 0.8375\n",
            "Epoch 15/100\n",
            "20/20 [==============================] - 9s 374ms/step - loss: 0.0524 - accuracy: 0.9812 - val_loss: 0.6916 - val_accuracy: 0.8875\n",
            "Epoch 16/100\n",
            "20/20 [==============================] - 9s 390ms/step - loss: 0.0493 - accuracy: 0.9844 - val_loss: 0.7108 - val_accuracy: 0.9000\n",
            "Epoch 17/100\n",
            "20/20 [==============================] - 9s 390ms/step - loss: 0.0295 - accuracy: 0.9875 - val_loss: 0.9328 - val_accuracy: 0.9062\n",
            "Epoch 18/100\n",
            "20/20 [==============================] - 9s 392ms/step - loss: 0.0839 - accuracy: 0.9766 - val_loss: 0.6855 - val_accuracy: 0.9000\n",
            "Epoch 19/100\n",
            "20/20 [==============================] - 9s 383ms/step - loss: 0.0553 - accuracy: 0.9781 - val_loss: 0.5259 - val_accuracy: 0.9125\n",
            "Epoch 20/100\n",
            "20/20 [==============================] - 9s 382ms/step - loss: 0.0578 - accuracy: 0.9859 - val_loss: 0.3870 - val_accuracy: 0.9125\n",
            "Epoch 21/100\n",
            "20/20 [==============================] - 10s 460ms/step - loss: 0.0382 - accuracy: 0.9844 - val_loss: 0.4211 - val_accuracy: 0.9250\n",
            "Epoch 22/100\n",
            "20/20 [==============================] - 9s 392ms/step - loss: 0.0193 - accuracy: 0.9953 - val_loss: 0.6257 - val_accuracy: 0.9000\n",
            "Epoch 23/100\n",
            "20/20 [==============================] - 9s 380ms/step - loss: 0.0201 - accuracy: 0.9953 - val_loss: 0.4462 - val_accuracy: 0.8938\n",
            "Epoch 24/100\n",
            "20/20 [==============================] - 9s 390ms/step - loss: 0.0248 - accuracy: 0.9937 - val_loss: 0.4550 - val_accuracy: 0.8938\n",
            "Epoch 25/100\n",
            "20/20 [==============================] - 10s 460ms/step - loss: 0.0129 - accuracy: 0.9969 - val_loss: 0.4895 - val_accuracy: 0.8875\n",
            "Epoch 26/100\n",
            "20/20 [==============================] - 9s 378ms/step - loss: 0.0152 - accuracy: 0.9937 - val_loss: 0.3116 - val_accuracy: 0.8938\n",
            "Epoch 27/100\n",
            "20/20 [==============================] - 9s 406ms/step - loss: 0.0146 - accuracy: 0.9922 - val_loss: 0.3959 - val_accuracy: 0.9125\n",
            "Epoch 28/100\n",
            "20/20 [==============================] - 8s 379ms/step - loss: 0.0236 - accuracy: 0.9922 - val_loss: 0.3925 - val_accuracy: 0.9062\n",
            "Epoch 29/100\n",
            "20/20 [==============================] - 10s 458ms/step - loss: 0.0107 - accuracy: 0.9937 - val_loss: 0.4385 - val_accuracy: 0.9187\n",
            "Epoch 30/100\n",
            "20/20 [==============================] - 9s 379ms/step - loss: 0.0448 - accuracy: 0.9906 - val_loss: 0.6297 - val_accuracy: 0.8938\n",
            "Epoch 31/100\n",
            "20/20 [==============================] - 9s 385ms/step - loss: 0.0298 - accuracy: 0.9875 - val_loss: 0.9794 - val_accuracy: 0.8313\n",
            "Epoch 32/100\n",
            "20/20 [==============================] - 9s 392ms/step - loss: 0.6445 - accuracy: 0.9078 - val_loss: 19.1173 - val_accuracy: 0.5562\n",
            "Epoch 33/100\n",
            "20/20 [==============================] - 8s 379ms/step - loss: 0.4630 - accuracy: 0.8609 - val_loss: 20794.5254 - val_accuracy: 0.4938\n",
            "Epoch 34/100\n",
            "20/20 [==============================] - 9s 386ms/step - loss: 0.4722 - accuracy: 0.8922 - val_loss: 2649.7964 - val_accuracy: 0.4938\n",
            "Epoch 35/100\n",
            "20/20 [==============================] - 9s 391ms/step - loss: 0.5055 - accuracy: 0.9203 - val_loss: 16.8725 - val_accuracy: 0.5312\n",
            "Epoch 36/100\n",
            "20/20 [==============================] - 8s 378ms/step - loss: 0.2819 - accuracy: 0.9344 - val_loss: 7.2994 - val_accuracy: 0.6313\n",
            "Epoch 37/100\n",
            "20/20 [==============================] - 9s 386ms/step - loss: 0.2725 - accuracy: 0.9406 - val_loss: 0.7647 - val_accuracy: 0.9000\n",
            "Epoch 38/100\n",
            "20/20 [==============================] - 9s 387ms/step - loss: 0.2012 - accuracy: 0.9609 - val_loss: 0.6706 - val_accuracy: 0.8938\n",
            "Epoch 39/100\n",
            "20/20 [==============================] - 9s 395ms/step - loss: 0.0493 - accuracy: 0.9875 - val_loss: 0.1440 - val_accuracy: 0.9438\n",
            "Epoch 40/100\n",
            "20/20 [==============================] - 10s 469ms/step - loss: 0.0416 - accuracy: 0.9922 - val_loss: 0.2035 - val_accuracy: 0.9187\n",
            "Epoch 41/100\n",
            "20/20 [==============================] - 9s 383ms/step - loss: 0.0418 - accuracy: 0.9875 - val_loss: 0.1710 - val_accuracy: 0.9500\n",
            "Epoch 42/100\n",
            "20/20 [==============================] - 9s 401ms/step - loss: 0.0365 - accuracy: 0.9906 - val_loss: 0.2661 - val_accuracy: 0.9000\n",
            "Epoch 43/100\n",
            "20/20 [==============================] - 9s 384ms/step - loss: 0.0384 - accuracy: 0.9875 - val_loss: 0.3762 - val_accuracy: 0.8875\n",
            "Epoch 44/100\n",
            "20/20 [==============================] - 9s 393ms/step - loss: 0.0211 - accuracy: 0.9922 - val_loss: 0.2534 - val_accuracy: 0.9187\n",
            "Epoch 45/100\n",
            "20/20 [==============================] - 9s 408ms/step - loss: 0.0670 - accuracy: 0.9859 - val_loss: 1.2782 - val_accuracy: 0.8687\n",
            "Epoch 46/100\n",
            "20/20 [==============================] - 8s 379ms/step - loss: 0.0733 - accuracy: 0.9891 - val_loss: 0.3502 - val_accuracy: 0.9062\n",
            "Epoch 47/100\n",
            "20/20 [==============================] - 9s 384ms/step - loss: 0.0160 - accuracy: 0.9937 - val_loss: 0.2565 - val_accuracy: 0.9250\n",
            "Epoch 48/100\n",
            "20/20 [==============================] - 9s 383ms/step - loss: 0.0264 - accuracy: 0.9891 - val_loss: 0.4454 - val_accuracy: 0.9062\n",
            "Epoch 49/100\n",
            "20/20 [==============================] - 10s 457ms/step - loss: 0.0245 - accuracy: 0.9906 - val_loss: 0.3678 - val_accuracy: 0.9062\n",
            "Epoch 50/100\n",
            "20/20 [==============================] - 9s 385ms/step - loss: 0.0084 - accuracy: 0.9969 - val_loss: 0.4488 - val_accuracy: 0.8875\n",
            "Epoch 51/100\n",
            "20/20 [==============================] - 10s 464ms/step - loss: 0.0127 - accuracy: 0.9969 - val_loss: 0.8980 - val_accuracy: 0.8188\n",
            "Epoch 52/100\n",
            "20/20 [==============================] - 9s 382ms/step - loss: 0.0246 - accuracy: 0.9953 - val_loss: 0.7233 - val_accuracy: 0.8500\n",
            "Epoch 53/100\n",
            "20/20 [==============================] - 9s 396ms/step - loss: 0.0126 - accuracy: 0.9969 - val_loss: 0.9817 - val_accuracy: 0.8313\n",
            "Epoch 54/100\n",
            "20/20 [==============================] - 8s 379ms/step - loss: 0.0261 - accuracy: 0.9906 - val_loss: 0.5916 - val_accuracy: 0.8687\n",
            "Epoch 55/100\n",
            "20/20 [==============================] - 9s 396ms/step - loss: 0.0051 - accuracy: 0.9984 - val_loss: 0.4914 - val_accuracy: 0.8938\n",
            "Epoch 56/100\n",
            "20/20 [==============================] - 9s 385ms/step - loss: 0.0039 - accuracy: 0.9984 - val_loss: 0.4228 - val_accuracy: 0.9000\n",
            "Epoch 57/100\n",
            "20/20 [==============================] - 9s 388ms/step - loss: 0.0058 - accuracy: 0.9984 - val_loss: 0.4871 - val_accuracy: 0.8938\n",
            "Epoch 58/100\n",
            "20/20 [==============================] - 9s 385ms/step - loss: 0.0148 - accuracy: 0.9969 - val_loss: 0.5975 - val_accuracy: 0.8875\n",
            "Epoch 59/100\n",
            "20/20 [==============================] - 9s 385ms/step - loss: 0.0031 - accuracy: 0.9984 - val_loss: 0.4794 - val_accuracy: 0.9062\n",
            "Epoch 60/100\n",
            "20/20 [==============================] - 8s 379ms/step - loss: 0.0122 - accuracy: 0.9969 - val_loss: 0.4161 - val_accuracy: 0.9062\n",
            "Epoch 61/100\n",
            "20/20 [==============================] - 9s 389ms/step - loss: 0.0042 - accuracy: 0.9984 - val_loss: 0.3219 - val_accuracy: 0.9125\n",
            "Epoch 62/100\n",
            "20/20 [==============================] - 9s 385ms/step - loss: 0.0034 - accuracy: 1.0000 - val_loss: 0.3747 - val_accuracy: 0.9250\n",
            "Epoch 63/100\n",
            "20/20 [==============================] - 8s 380ms/step - loss: 0.0059 - accuracy: 0.9969 - val_loss: 0.3576 - val_accuracy: 0.9312\n",
            "Epoch 64/100\n",
            "20/20 [==============================] - 9s 393ms/step - loss: 0.0158 - accuracy: 0.9937 - val_loss: 0.3786 - val_accuracy: 0.9250\n",
            "Epoch 65/100\n",
            "20/20 [==============================] - 9s 379ms/step - loss: 0.0119 - accuracy: 0.9937 - val_loss: 0.6043 - val_accuracy: 0.8625\n",
            "Epoch 66/100\n",
            "20/20 [==============================] - 10s 467ms/step - loss: 0.0192 - accuracy: 0.9953 - val_loss: 0.5062 - val_accuracy: 0.9000\n",
            "Epoch 67/100\n",
            "20/20 [==============================] - 9s 378ms/step - loss: 0.0032 - accuracy: 0.9984 - val_loss: 0.6371 - val_accuracy: 0.8875\n",
            "Epoch 68/100\n",
            "20/20 [==============================] - 9s 392ms/step - loss: 0.0073 - accuracy: 0.9969 - val_loss: 0.4202 - val_accuracy: 0.9125\n",
            "Epoch 69/100\n",
            "20/20 [==============================] - 9s 385ms/step - loss: 0.0043 - accuracy: 1.0000 - val_loss: 0.3893 - val_accuracy: 0.9375\n",
            "Epoch 70/100\n",
            "20/20 [==============================] - 9s 382ms/step - loss: 0.0011 - accuracy: 1.0000 - val_loss: 0.4605 - val_accuracy: 0.9187\n",
            "Epoch 71/100\n",
            "20/20 [==============================] - 10s 459ms/step - loss: 0.0029 - accuracy: 1.0000 - val_loss: 0.5437 - val_accuracy: 0.9062\n",
            "Epoch 72/100\n",
            "20/20 [==============================] - 9s 379ms/step - loss: 4.2563e-04 - accuracy: 1.0000 - val_loss: 0.5380 - val_accuracy: 0.9000\n",
            "Epoch 73/100\n",
            "20/20 [==============================] - 9s 378ms/step - loss: 8.8851e-04 - accuracy: 1.0000 - val_loss: 0.4700 - val_accuracy: 0.9187\n",
            "Epoch 74/100\n",
            "20/20 [==============================] - 9s 393ms/step - loss: 2.3090e-04 - accuracy: 1.0000 - val_loss: 0.4375 - val_accuracy: 0.9250\n",
            "Epoch 75/100\n",
            "20/20 [==============================] - 9s 399ms/step - loss: 2.3901e-04 - accuracy: 1.0000 - val_loss: 0.4262 - val_accuracy: 0.9250\n",
            "Epoch 76/100\n",
            "20/20 [==============================] - 9s 391ms/step - loss: 1.9673e-04 - accuracy: 1.0000 - val_loss: 0.4471 - val_accuracy: 0.9250\n",
            "Epoch 77/100\n",
            "20/20 [==============================] - 9s 396ms/step - loss: 6.5054e-04 - accuracy: 1.0000 - val_loss: 0.4135 - val_accuracy: 0.9375\n",
            "Epoch 78/100\n",
            "20/20 [==============================] - 9s 383ms/step - loss: 0.0134 - accuracy: 0.9984 - val_loss: 0.7027 - val_accuracy: 0.9187\n",
            "Epoch 79/100\n",
            "20/20 [==============================] - 10s 458ms/step - loss: 0.0036 - accuracy: 1.0000 - val_loss: 0.8659 - val_accuracy: 0.8938\n",
            "Epoch 80/100\n",
            "20/20 [==============================] - 9s 379ms/step - loss: 0.0070 - accuracy: 0.9953 - val_loss: 0.8132 - val_accuracy: 0.9000\n",
            "Epoch 81/100\n",
            "20/20 [==============================] - 9s 381ms/step - loss: 0.0015 - accuracy: 1.0000 - val_loss: 0.5710 - val_accuracy: 0.9062\n",
            "Epoch 82/100\n",
            "20/20 [==============================] - 9s 401ms/step - loss: 5.6721e-04 - accuracy: 1.0000 - val_loss: 0.4350 - val_accuracy: 0.9187\n",
            "Epoch 83/100\n",
            "20/20 [==============================] - 9s 396ms/step - loss: 7.4409e-04 - accuracy: 1.0000 - val_loss: 0.3910 - val_accuracy: 0.9500\n",
            "Epoch 84/100\n",
            "20/20 [==============================] - 9s 392ms/step - loss: 0.0027 - accuracy: 0.9984 - val_loss: 0.4030 - val_accuracy: 0.9438\n",
            "Epoch 85/100\n",
            "20/20 [==============================] - 10s 388ms/step - loss: 0.0037 - accuracy: 0.9984 - val_loss: 0.7498 - val_accuracy: 0.8813\n",
            "Epoch 86/100\n",
            "20/20 [==============================] - 9s 383ms/step - loss: 0.0027 - accuracy: 0.9984 - val_loss: 0.7953 - val_accuracy: 0.8687\n",
            "Epoch 87/100\n",
            "20/20 [==============================] - 10s 465ms/step - loss: 0.0091 - accuracy: 0.9984 - val_loss: 0.4452 - val_accuracy: 0.9250\n",
            "Epoch 88/100\n",
            "20/20 [==============================] - 8s 377ms/step - loss: 0.0221 - accuracy: 0.9906 - val_loss: 0.9652 - val_accuracy: 0.8687\n",
            "Epoch 89/100\n",
            "20/20 [==============================] - 10s 401ms/step - loss: 0.0112 - accuracy: 0.9984 - val_loss: 1.0335 - val_accuracy: 0.8750\n",
            "Epoch 90/100\n",
            "20/20 [==============================] - 9s 387ms/step - loss: 0.0146 - accuracy: 0.9953 - val_loss: 0.4989 - val_accuracy: 0.9187\n",
            "Epoch 91/100\n",
            "20/20 [==============================] - 9s 397ms/step - loss: 0.0586 - accuracy: 0.9859 - val_loss: 1.6588 - val_accuracy: 0.8313\n",
            "Epoch 92/100\n",
            "20/20 [==============================] - 9s 387ms/step - loss: 0.0645 - accuracy: 0.9797 - val_loss: 0.8008 - val_accuracy: 0.8875\n",
            "Epoch 93/100\n",
            "20/20 [==============================] - 9s 386ms/step - loss: 0.1457 - accuracy: 0.9469 - val_loss: 0.6296 - val_accuracy: 0.8875\n",
            "Epoch 94/100\n",
            "20/20 [==============================] - 9s 399ms/step - loss: 0.2470 - accuracy: 0.9766 - val_loss: 0.6815 - val_accuracy: 0.8438\n",
            "Epoch 95/100\n",
            "20/20 [==============================] - 9s 388ms/step - loss: 0.0388 - accuracy: 0.9891 - val_loss: 0.3871 - val_accuracy: 0.9187\n",
            "Epoch 96/100\n",
            "20/20 [==============================] - 9s 376ms/step - loss: 0.0189 - accuracy: 0.9906 - val_loss: 1.4407 - val_accuracy: 0.8562\n",
            "Epoch 97/100\n",
            "20/20 [==============================] - 9s 404ms/step - loss: 0.0105 - accuracy: 0.9953 - val_loss: 1.5928 - val_accuracy: 0.8125\n",
            "Epoch 98/100\n",
            "20/20 [==============================] - 9s 397ms/step - loss: 0.0200 - accuracy: 0.9937 - val_loss: 0.8963 - val_accuracy: 0.8938\n",
            "Epoch 99/100\n",
            "20/20 [==============================] - 9s 379ms/step - loss: 0.0048 - accuracy: 0.9984 - val_loss: 0.9667 - val_accuracy: 0.8875\n",
            "Epoch 100/100\n",
            "20/20 [==============================] - 9s 393ms/step - loss: 0.0151 - accuracy: 0.9953 - val_loss: 0.6514 - val_accuracy: 0.8750\n"
          ]
        }
      ]
    },
    {
      "cell_type": "code",
      "source": [
        "model.save('/content/drive/MyDrive/resnet50dropout_indoor_outdoor_model.h5')"
      ],
      "metadata": {
        "id": "lFfsS9srZq0w",
        "colab": {
          "base_uri": "https://localhost:8080/"
        },
        "outputId": "a6822c0e-d0c6-4283-addc-583782ede7db"
      },
      "execution_count": 11,
      "outputs": [
        {
          "output_type": "stream",
          "name": "stderr",
          "text": [
            "/usr/local/lib/python3.10/dist-packages/keras/src/engine/training.py:3103: UserWarning: You are saving your model as an HDF5 file via `model.save()`. This file format is considered legacy. We recommend using instead the native Keras format, e.g. `model.save('my_model.keras')`.\n",
            "  saving_api.save_model(\n"
          ]
        }
      ]
    }
  ]
}