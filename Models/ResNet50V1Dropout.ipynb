{
  "nbformat": 4,
  "nbformat_minor": 0,
  "metadata": {
    "colab": {
      "provenance": [],
      "history_visible": true,
      "gpuType": "T4",
      "authorship_tag": "ABX9TyOWbHOp4YENIfTw4++gyYzq"
    },
    "kernelspec": {
      "name": "python3",
      "display_name": "Python 3"
    },
    "language_info": {
      "name": "python"
    },
    "accelerator": "GPU"
  },
  "cells": [
    {
      "cell_type": "code",
      "execution_count": 17,
      "metadata": {
        "id": "_N5srNHE__Em"
      },
      "outputs": [],
      "source": [
        "import tensorflow as tf\n",
        "from tensorflow.keras import layers, models\n",
        "from tensorflow.keras.applications import ResNet50\n",
        "from tensorflow.keras.preprocessing import image\n",
        "import numpy as np\n",
        "import matplotlib.pyplot as plt"
      ]
    },
    {
      "cell_type": "code",
      "source": [
        "from google.colab import drive\n",
        "drive.mount('/content/drive')"
      ],
      "metadata": {
        "id": "nt796EShZQD8",
        "colab": {
          "base_uri": "https://localhost:8080/"
        },
        "outputId": "847350ee-d96e-4f6b-f996-f123954ec492"
      },
      "execution_count": 18,
      "outputs": [
        {
          "output_type": "stream",
          "name": "stdout",
          "text": [
            "Drive already mounted at /content/drive; to attempt to forcibly remount, call drive.mount(\"/content/drive\", force_remount=True).\n"
          ]
        }
      ]
    },
    {
      "cell_type": "code",
      "source": [
        "dataset_dir = '/content/drive/MyDrive/IndoorOutdoorDataset'"
      ],
      "metadata": {
        "id": "GmN4bEOZZQGO"
      },
      "execution_count": 19,
      "outputs": []
    },
    {
      "cell_type": "code",
      "source": [
        "img_width, img_height = 224, 224\n",
        "batch_size = 32\n",
        "epochs = 100"
      ],
      "metadata": {
        "id": "Jr8sP596ZQIj"
      },
      "execution_count": 20,
      "outputs": []
    },
    {
      "cell_type": "code",
      "source": [
        "train_ds = tf.keras.utils.image_dataset_from_directory(\n",
        "    directory=dataset_dir,\n",
        "    labels='inferred',\n",
        "    label_mode='binary',\n",
        "    image_size=(img_width, img_height),\n",
        "    batch_size=batch_size,\n",
        "    validation_split=0.2,\n",
        "    seed=42,\n",
        "    shuffle=True,\n",
        "    subset='training'\n",
        ")"
      ],
      "metadata": {
        "id": "gw7P-4vHZQK2",
        "colab": {
          "base_uri": "https://localhost:8080/"
        },
        "outputId": "2808266f-dcaf-476d-9718-a5b25233de87"
      },
      "execution_count": 21,
      "outputs": [
        {
          "output_type": "stream",
          "name": "stdout",
          "text": [
            "Found 800 files belonging to 2 classes.\n",
            "Using 640 files for training.\n"
          ]
        }
      ]
    },
    {
      "cell_type": "code",
      "source": [
        "val_ds = tf.keras.utils.image_dataset_from_directory(\n",
        "    directory=dataset_dir,\n",
        "    labels='inferred',\n",
        "    label_mode='binary',\n",
        "    image_size=(img_width, img_height),\n",
        "    batch_size=batch_size,\n",
        "    validation_split=0.2,\n",
        "    seed=42,\n",
        "    shuffle=True,\n",
        "    subset='validation'\n",
        ")"
      ],
      "metadata": {
        "id": "a_R-NG_cZQM6",
        "colab": {
          "base_uri": "https://localhost:8080/"
        },
        "outputId": "66ba3163-405c-41fd-c7a1-b50e2fb242de"
      },
      "execution_count": 22,
      "outputs": [
        {
          "output_type": "stream",
          "name": "stdout",
          "text": [
            "Found 800 files belonging to 2 classes.\n",
            "Using 160 files for validation.\n"
          ]
        }
      ]
    },
    {
      "cell_type": "code",
      "source": [
        "model = models.Sequential()\n",
        "model.add(ResNet50(weights='imagenet', include_top=False, input_shape=(img_width, img_height, 3)))\n",
        "model.add(layers.Flatten())\n",
        "model.add(layers.Dense(264, activation='sigmoid'))\n",
        "model.add(layers.Dropout(0.5))\n",
        "model.add(layers.Dense(128, activation='sigmoid'))\n",
        "model.add(layers.Dropout(0.3))\n",
        "model.add(layers.Dense(1, activation='sigmoid'))"
      ],
      "metadata": {
        "id": "iF2t_PH9ZQPV"
      },
      "execution_count": 23,
      "outputs": []
    },
    {
      "cell_type": "code",
      "source": [
        "model.summary()"
      ],
      "metadata": {
        "id": "ol-jKiZkZQRc",
        "colab": {
          "base_uri": "https://localhost:8080/"
        },
        "outputId": "2132572f-ffa8-4289-db5b-05a75320359b"
      },
      "execution_count": 24,
      "outputs": [
        {
          "output_type": "stream",
          "name": "stdout",
          "text": [
            "Model: \"sequential_1\"\n",
            "_________________________________________________________________\n",
            " Layer (type)                Output Shape              Param #   \n",
            "=================================================================\n",
            " resnet50 (Functional)       (None, 7, 7, 2048)        23587712  \n",
            "                                                                 \n",
            " flatten_1 (Flatten)         (None, 100352)            0         \n",
            "                                                                 \n",
            " dense_3 (Dense)             (None, 264)               26493192  \n",
            "                                                                 \n",
            " dropout_2 (Dropout)         (None, 264)               0         \n",
            "                                                                 \n",
            " dense_4 (Dense)             (None, 128)               33920     \n",
            "                                                                 \n",
            " dropout_3 (Dropout)         (None, 128)               0         \n",
            "                                                                 \n",
            " dense_5 (Dense)             (None, 1)                 129       \n",
            "                                                                 \n",
            "=================================================================\n",
            "Total params: 50114953 (191.17 MB)\n",
            "Trainable params: 50061833 (190.97 MB)\n",
            "Non-trainable params: 53120 (207.50 KB)\n",
            "_________________________________________________________________\n"
          ]
        }
      ]
    },
    {
      "cell_type": "code",
      "source": [
        "model.compile(optimizer='adam', loss='binary_crossentropy', metrics=['accuracy'])"
      ],
      "metadata": {
        "id": "VHIXXXnTZQVr"
      },
      "execution_count": 25,
      "outputs": []
    },
    {
      "cell_type": "code",
      "source": [
        "history = model.fit(\n",
        "    train_ds,\n",
        "    epochs=epochs,\n",
        "    validation_data=val_ds,\n",
        ")"
      ],
      "metadata": {
        "id": "ArxAAOvXZQYO",
        "colab": {
          "base_uri": "https://localhost:8080/"
        },
        "outputId": "3a888130-dd27-44c8-d3af-3b11684dc90e"
      },
      "execution_count": 26,
      "outputs": [
        {
          "output_type": "stream",
          "name": "stdout",
          "text": [
            "Epoch 1/100\n",
            "20/20 [==============================] - 48s 490ms/step - loss: 0.6195 - accuracy: 0.6750 - val_loss: 0.6664 - val_accuracy: 0.6313\n",
            "Epoch 2/100\n",
            "20/20 [==============================] - 9s 377ms/step - loss: 0.3484 - accuracy: 0.8656 - val_loss: 1.3528 - val_accuracy: 0.4938\n",
            "Epoch 3/100\n",
            "20/20 [==============================] - 9s 395ms/step - loss: 0.3961 - accuracy: 0.8469 - val_loss: 1.0813 - val_accuracy: 0.4938\n",
            "Epoch 4/100\n",
            "20/20 [==============================] - 9s 394ms/step - loss: 0.2674 - accuracy: 0.9094 - val_loss: 1.4820 - val_accuracy: 0.4938\n",
            "Epoch 5/100\n",
            "20/20 [==============================] - 9s 390ms/step - loss: 0.2716 - accuracy: 0.9000 - val_loss: 1.8022 - val_accuracy: 0.4938\n",
            "Epoch 6/100\n",
            "20/20 [==============================] - 9s 408ms/step - loss: 0.2093 - accuracy: 0.9281 - val_loss: 1.8454 - val_accuracy: 0.4938\n",
            "Epoch 7/100\n",
            "20/20 [==============================] - 9s 387ms/step - loss: 0.1444 - accuracy: 0.9578 - val_loss: 1.7382 - val_accuracy: 0.5125\n",
            "Epoch 8/100\n",
            "20/20 [==============================] - 9s 399ms/step - loss: 0.1597 - accuracy: 0.9484 - val_loss: 1.5820 - val_accuracy: 0.5625\n",
            "Epoch 9/100\n",
            "20/20 [==============================] - 10s 463ms/step - loss: 0.2742 - accuracy: 0.9062 - val_loss: 1.9554 - val_accuracy: 0.4938\n",
            "Epoch 10/100\n",
            "20/20 [==============================] - 9s 392ms/step - loss: 0.2061 - accuracy: 0.9344 - val_loss: 1.5208 - val_accuracy: 0.5375\n",
            "Epoch 11/100\n",
            "20/20 [==============================] - 9s 396ms/step - loss: 0.1471 - accuracy: 0.9484 - val_loss: 0.6101 - val_accuracy: 0.7937\n",
            "Epoch 12/100\n",
            "20/20 [==============================] - 9s 395ms/step - loss: 0.2238 - accuracy: 0.9219 - val_loss: 0.4563 - val_accuracy: 0.8375\n",
            "Epoch 13/100\n",
            "20/20 [==============================] - 9s 384ms/step - loss: 0.1632 - accuracy: 0.9453 - val_loss: 1.3492 - val_accuracy: 0.6250\n",
            "Epoch 14/100\n",
            "20/20 [==============================] - 9s 393ms/step - loss: 0.1100 - accuracy: 0.9641 - val_loss: 1.8140 - val_accuracy: 0.5437\n",
            "Epoch 15/100\n",
            "20/20 [==============================] - 9s 392ms/step - loss: 0.0681 - accuracy: 0.9781 - val_loss: 1.6091 - val_accuracy: 0.6000\n",
            "Epoch 16/100\n",
            "20/20 [==============================] - 10s 402ms/step - loss: 0.0799 - accuracy: 0.9766 - val_loss: 0.4401 - val_accuracy: 0.8625\n",
            "Epoch 17/100\n",
            "20/20 [==============================] - 9s 406ms/step - loss: 0.1328 - accuracy: 0.9578 - val_loss: 1.0646 - val_accuracy: 0.7063\n",
            "Epoch 18/100\n",
            "20/20 [==============================] - 9s 388ms/step - loss: 0.0795 - accuracy: 0.9797 - val_loss: 0.8154 - val_accuracy: 0.7625\n",
            "Epoch 19/100\n",
            "20/20 [==============================] - 9s 393ms/step - loss: 0.1121 - accuracy: 0.9672 - val_loss: 0.5483 - val_accuracy: 0.8687\n",
            "Epoch 20/100\n",
            "20/20 [==============================] - 9s 387ms/step - loss: 0.0908 - accuracy: 0.9688 - val_loss: 1.4642 - val_accuracy: 0.6750\n",
            "Epoch 21/100\n",
            "20/20 [==============================] - 9s 396ms/step - loss: 0.1245 - accuracy: 0.9609 - val_loss: 0.6951 - val_accuracy: 0.8313\n",
            "Epoch 22/100\n",
            "20/20 [==============================] - 10s 464ms/step - loss: 0.0625 - accuracy: 0.9797 - val_loss: 0.3548 - val_accuracy: 0.9062\n",
            "Epoch 23/100\n",
            "20/20 [==============================] - 10s 393ms/step - loss: 0.0718 - accuracy: 0.9812 - val_loss: 0.7587 - val_accuracy: 0.7875\n",
            "Epoch 24/100\n",
            "20/20 [==============================] - 10s 465ms/step - loss: 0.0450 - accuracy: 0.9828 - val_loss: 0.5509 - val_accuracy: 0.8750\n",
            "Epoch 25/100\n",
            "20/20 [==============================] - 9s 390ms/step - loss: 0.0311 - accuracy: 0.9922 - val_loss: 0.3868 - val_accuracy: 0.8938\n",
            "Epoch 26/100\n",
            "20/20 [==============================] - 10s 400ms/step - loss: 0.0311 - accuracy: 0.9922 - val_loss: 0.4008 - val_accuracy: 0.8625\n",
            "Epoch 27/100\n",
            "20/20 [==============================] - 9s 412ms/step - loss: 0.0140 - accuracy: 0.9984 - val_loss: 0.6272 - val_accuracy: 0.8375\n",
            "Epoch 28/100\n",
            "20/20 [==============================] - 9s 385ms/step - loss: 0.0099 - accuracy: 0.9969 - val_loss: 0.8879 - val_accuracy: 0.8188\n",
            "Epoch 29/100\n",
            "20/20 [==============================] - 9s 389ms/step - loss: 0.0760 - accuracy: 0.9797 - val_loss: 1.8122 - val_accuracy: 0.6562\n",
            "Epoch 30/100\n",
            "20/20 [==============================] - 9s 409ms/step - loss: 0.0768 - accuracy: 0.9766 - val_loss: 2.3163 - val_accuracy: 0.5562\n",
            "Epoch 31/100\n",
            "20/20 [==============================] - 9s 384ms/step - loss: 0.1417 - accuracy: 0.9594 - val_loss: 0.8983 - val_accuracy: 0.7812\n",
            "Epoch 32/100\n",
            "20/20 [==============================] - 9s 395ms/step - loss: 0.1183 - accuracy: 0.9672 - val_loss: 1.7488 - val_accuracy: 0.6562\n",
            "Epoch 33/100\n",
            "20/20 [==============================] - 10s 461ms/step - loss: 0.0993 - accuracy: 0.9672 - val_loss: 0.6161 - val_accuracy: 0.8000\n",
            "Epoch 34/100\n",
            "20/20 [==============================] - 9s 387ms/step - loss: 0.1058 - accuracy: 0.9688 - val_loss: 0.3665 - val_accuracy: 0.8687\n",
            "Epoch 35/100\n",
            "20/20 [==============================] - 9s 395ms/step - loss: 0.0589 - accuracy: 0.9781 - val_loss: 0.4364 - val_accuracy: 0.8750\n",
            "Epoch 36/100\n",
            "20/20 [==============================] - 9s 395ms/step - loss: 0.0163 - accuracy: 0.9969 - val_loss: 0.3890 - val_accuracy: 0.9000\n",
            "Epoch 37/100\n",
            "20/20 [==============================] - 9s 397ms/step - loss: 0.0252 - accuracy: 0.9922 - val_loss: 0.4992 - val_accuracy: 0.8813\n",
            "Epoch 38/100\n",
            "20/20 [==============================] - 10s 464ms/step - loss: 0.0111 - accuracy: 0.9984 - val_loss: 0.3323 - val_accuracy: 0.9250\n",
            "Epoch 39/100\n",
            "20/20 [==============================] - 9s 385ms/step - loss: 0.0279 - accuracy: 0.9906 - val_loss: 0.3173 - val_accuracy: 0.9438\n",
            "Epoch 40/100\n",
            "20/20 [==============================] - 9s 402ms/step - loss: 0.0144 - accuracy: 0.9969 - val_loss: 0.7348 - val_accuracy: 0.8438\n",
            "Epoch 41/100\n",
            "20/20 [==============================] - 10s 463ms/step - loss: 0.0086 - accuracy: 0.9969 - val_loss: 0.5913 - val_accuracy: 0.8750\n",
            "Epoch 42/100\n",
            "20/20 [==============================] - 9s 387ms/step - loss: 0.0252 - accuracy: 0.9906 - val_loss: 0.7552 - val_accuracy: 0.8562\n",
            "Epoch 43/100\n",
            "20/20 [==============================] - 9s 402ms/step - loss: 0.2016 - accuracy: 0.9453 - val_loss: 1.2542 - val_accuracy: 0.7437\n",
            "Epoch 44/100\n",
            "20/20 [==============================] - 9s 397ms/step - loss: 0.0828 - accuracy: 0.9766 - val_loss: 1.4633 - val_accuracy: 0.6687\n",
            "Epoch 45/100\n",
            "20/20 [==============================] - 10s 395ms/step - loss: 0.0642 - accuracy: 0.9844 - val_loss: 1.0921 - val_accuracy: 0.7375\n",
            "Epoch 46/100\n",
            "20/20 [==============================] - 10s 466ms/step - loss: 0.0317 - accuracy: 0.9922 - val_loss: 0.5219 - val_accuracy: 0.8625\n",
            "Epoch 47/100\n",
            "20/20 [==============================] - 9s 384ms/step - loss: 0.0528 - accuracy: 0.9828 - val_loss: 0.4518 - val_accuracy: 0.9062\n",
            "Epoch 48/100\n",
            "20/20 [==============================] - 10s 395ms/step - loss: 0.0195 - accuracy: 0.9953 - val_loss: 0.2850 - val_accuracy: 0.9250\n",
            "Epoch 49/100\n",
            "20/20 [==============================] - 10s 465ms/step - loss: 0.0349 - accuracy: 0.9891 - val_loss: 0.3151 - val_accuracy: 0.9250\n",
            "Epoch 50/100\n",
            "20/20 [==============================] - 9s 386ms/step - loss: 0.0122 - accuracy: 0.9953 - val_loss: 0.5469 - val_accuracy: 0.8625\n",
            "Epoch 51/100\n",
            "20/20 [==============================] - 9s 402ms/step - loss: 0.0057 - accuracy: 1.0000 - val_loss: 0.5477 - val_accuracy: 0.8750\n",
            "Epoch 52/100\n",
            "20/20 [==============================] - 9s 408ms/step - loss: 0.0051 - accuracy: 1.0000 - val_loss: 0.3509 - val_accuracy: 0.9000\n",
            "Epoch 53/100\n",
            "20/20 [==============================] - 9s 385ms/step - loss: 0.0050 - accuracy: 0.9984 - val_loss: 0.3598 - val_accuracy: 0.9125\n",
            "Epoch 54/100\n",
            "20/20 [==============================] - 9s 408ms/step - loss: 0.0023 - accuracy: 1.0000 - val_loss: 0.3262 - val_accuracy: 0.9187\n",
            "Epoch 55/100\n",
            "20/20 [==============================] - 9s 388ms/step - loss: 0.0056 - accuracy: 0.9969 - val_loss: 0.3431 - val_accuracy: 0.9125\n",
            "Epoch 56/100\n",
            "20/20 [==============================] - 10s 397ms/step - loss: 0.0050 - accuracy: 1.0000 - val_loss: 0.4799 - val_accuracy: 0.9062\n",
            "Epoch 57/100\n",
            "20/20 [==============================] - 10s 466ms/step - loss: 0.0034 - accuracy: 1.0000 - val_loss: 0.3210 - val_accuracy: 0.9312\n",
            "Epoch 58/100\n",
            "20/20 [==============================] - 9s 387ms/step - loss: 0.0199 - accuracy: 0.9969 - val_loss: 0.9291 - val_accuracy: 0.7937\n",
            "Epoch 59/100\n",
            "20/20 [==============================] - 10s 393ms/step - loss: 0.0227 - accuracy: 0.9953 - val_loss: 0.9755 - val_accuracy: 0.7875\n",
            "Epoch 60/100\n",
            "20/20 [==============================] - 10s 467ms/step - loss: 0.0126 - accuracy: 0.9969 - val_loss: 0.6721 - val_accuracy: 0.8375\n",
            "Epoch 61/100\n",
            "20/20 [==============================] - 9s 385ms/step - loss: 0.0024 - accuracy: 1.0000 - val_loss: 0.6832 - val_accuracy: 0.8562\n",
            "Epoch 62/100\n",
            "20/20 [==============================] - 9s 401ms/step - loss: 0.0157 - accuracy: 0.9969 - val_loss: 0.4759 - val_accuracy: 0.8938\n",
            "Epoch 63/100\n",
            "20/20 [==============================] - 10s 464ms/step - loss: 0.0240 - accuracy: 0.9922 - val_loss: 0.4400 - val_accuracy: 0.8938\n",
            "Epoch 64/100\n",
            "20/20 [==============================] - 9s 384ms/step - loss: 0.0732 - accuracy: 0.9812 - val_loss: 1.2128 - val_accuracy: 0.7688\n",
            "Epoch 65/100\n",
            "20/20 [==============================] - 10s 400ms/step - loss: 0.0657 - accuracy: 0.9844 - val_loss: 0.7373 - val_accuracy: 0.8438\n",
            "Epoch 66/100\n",
            "20/20 [==============================] - 9s 411ms/step - loss: 0.0187 - accuracy: 0.9937 - val_loss: 0.7051 - val_accuracy: 0.8438\n",
            "Epoch 67/100\n",
            "20/20 [==============================] - 9s 386ms/step - loss: 0.0418 - accuracy: 0.9875 - val_loss: 2.9167 - val_accuracy: 0.5437\n",
            "Epoch 68/100\n",
            "20/20 [==============================] - 9s 399ms/step - loss: 0.0338 - accuracy: 0.9922 - val_loss: 0.5003 - val_accuracy: 0.8875\n",
            "Epoch 69/100\n",
            "20/20 [==============================] - 9s 384ms/step - loss: 0.0202 - accuracy: 0.9969 - val_loss: 0.7055 - val_accuracy: 0.8375\n",
            "Epoch 70/100\n",
            "20/20 [==============================] - 9s 399ms/step - loss: 0.0186 - accuracy: 0.9969 - val_loss: 0.4321 - val_accuracy: 0.8750\n",
            "Epoch 71/100\n",
            "20/20 [==============================] - 10s 464ms/step - loss: 0.0121 - accuracy: 0.9969 - val_loss: 0.4284 - val_accuracy: 0.9125\n",
            "Epoch 72/100\n",
            "20/20 [==============================] - 9s 385ms/step - loss: 0.0198 - accuracy: 0.9969 - val_loss: 0.3963 - val_accuracy: 0.9125\n",
            "Epoch 73/100\n",
            "20/20 [==============================] - 9s 399ms/step - loss: 0.0102 - accuracy: 0.9984 - val_loss: 0.3849 - val_accuracy: 0.9062\n",
            "Epoch 74/100\n",
            "20/20 [==============================] - 9s 396ms/step - loss: 0.0068 - accuracy: 0.9984 - val_loss: 0.5011 - val_accuracy: 0.8875\n",
            "Epoch 75/100\n",
            "20/20 [==============================] - 10s 394ms/step - loss: 0.0057 - accuracy: 0.9984 - val_loss: 0.5510 - val_accuracy: 0.8750\n",
            "Epoch 76/100\n",
            "20/20 [==============================] - 10s 465ms/step - loss: 0.0213 - accuracy: 0.9953 - val_loss: 0.5975 - val_accuracy: 0.8750\n",
            "Epoch 77/100\n",
            "20/20 [==============================] - 9s 386ms/step - loss: 0.0612 - accuracy: 0.9844 - val_loss: 0.6322 - val_accuracy: 0.8438\n",
            "Epoch 78/100\n",
            "20/20 [==============================] - 9s 400ms/step - loss: 0.0811 - accuracy: 0.9750 - val_loss: 1.0688 - val_accuracy: 0.7812\n",
            "Epoch 79/100\n",
            "20/20 [==============================] - 9s 404ms/step - loss: 0.0289 - accuracy: 0.9891 - val_loss: 0.3988 - val_accuracy: 0.9125\n",
            "Epoch 80/100\n",
            "20/20 [==============================] - 9s 393ms/step - loss: 0.0403 - accuracy: 0.9906 - val_loss: 0.8453 - val_accuracy: 0.8188\n",
            "Epoch 81/100\n",
            "20/20 [==============================] - 9s 405ms/step - loss: 0.0268 - accuracy: 0.9891 - val_loss: 0.5142 - val_accuracy: 0.8813\n",
            "Epoch 82/100\n",
            "20/20 [==============================] - 9s 385ms/step - loss: 0.0099 - accuracy: 0.9953 - val_loss: 2.4524 - val_accuracy: 0.5813\n",
            "Epoch 83/100\n",
            "20/20 [==============================] - 10s 392ms/step - loss: 0.0150 - accuracy: 0.9937 - val_loss: 0.5855 - val_accuracy: 0.8750\n",
            "Epoch 84/100\n",
            "20/20 [==============================] - 9s 410ms/step - loss: 0.0173 - accuracy: 0.9922 - val_loss: 1.1997 - val_accuracy: 0.7437\n",
            "Epoch 85/100\n",
            "20/20 [==============================] - 9s 384ms/step - loss: 0.0075 - accuracy: 0.9984 - val_loss: 1.8751 - val_accuracy: 0.6375\n",
            "Epoch 86/100\n",
            "20/20 [==============================] - 9s 394ms/step - loss: 0.0369 - accuracy: 0.9891 - val_loss: 1.2622 - val_accuracy: 0.7750\n",
            "Epoch 87/100\n",
            "20/20 [==============================] - 10s 462ms/step - loss: 0.0427 - accuracy: 0.9922 - val_loss: 1.0362 - val_accuracy: 0.7750\n",
            "Epoch 88/100\n",
            "20/20 [==============================] - 9s 384ms/step - loss: 0.0071 - accuracy: 0.9984 - val_loss: 1.5934 - val_accuracy: 0.7312\n",
            "Epoch 89/100\n",
            "20/20 [==============================] - 9s 398ms/step - loss: 0.0069 - accuracy: 0.9984 - val_loss: 0.8095 - val_accuracy: 0.8313\n",
            "Epoch 90/100\n",
            "20/20 [==============================] - 10s 463ms/step - loss: 0.0029 - accuracy: 1.0000 - val_loss: 0.3491 - val_accuracy: 0.9312\n",
            "Epoch 91/100\n",
            "20/20 [==============================] - 9s 385ms/step - loss: 0.0076 - accuracy: 0.9969 - val_loss: 0.3398 - val_accuracy: 0.9312\n",
            "Epoch 92/100\n",
            "20/20 [==============================] - 9s 408ms/step - loss: 0.0021 - accuracy: 1.0000 - val_loss: 0.4289 - val_accuracy: 0.9125\n",
            "Epoch 93/100\n",
            "20/20 [==============================] - 9s 388ms/step - loss: 0.0024 - accuracy: 1.0000 - val_loss: 0.4074 - val_accuracy: 0.9125\n",
            "Epoch 94/100\n",
            "20/20 [==============================] - 9s 399ms/step - loss: 0.0016 - accuracy: 1.0000 - val_loss: 0.3489 - val_accuracy: 0.9312\n",
            "Epoch 95/100\n",
            "20/20 [==============================] - 10s 464ms/step - loss: 0.0023 - accuracy: 0.9984 - val_loss: 0.4464 - val_accuracy: 0.9187\n",
            "Epoch 96/100\n",
            "20/20 [==============================] - 9s 385ms/step - loss: 0.0012 - accuracy: 1.0000 - val_loss: 0.4788 - val_accuracy: 0.9187\n",
            "Epoch 97/100\n",
            "20/20 [==============================] - 9s 398ms/step - loss: 9.4696e-04 - accuracy: 1.0000 - val_loss: 0.4803 - val_accuracy: 0.9187\n",
            "Epoch 98/100\n",
            "20/20 [==============================] - 9s 394ms/step - loss: 9.0005e-04 - accuracy: 1.0000 - val_loss: 0.4742 - val_accuracy: 0.9187\n",
            "Epoch 99/100\n",
            "20/20 [==============================] - 10s 395ms/step - loss: 9.8188e-04 - accuracy: 1.0000 - val_loss: 0.4315 - val_accuracy: 0.9125\n",
            "Epoch 100/100\n",
            "20/20 [==============================] - 9s 407ms/step - loss: 9.6293e-04 - accuracy: 1.0000 - val_loss: 0.4001 - val_accuracy: 0.9125\n"
          ]
        }
      ]
    },
    {
      "cell_type": "code",
      "source": [
        "model.save('/content/drive/MyDrive/resnet50dropout_indoor_outdoor_model.h5')"
      ],
      "metadata": {
        "id": "lFfsS9srZq0w"
      },
      "execution_count": 27,
      "outputs": []
    }
  ]
}