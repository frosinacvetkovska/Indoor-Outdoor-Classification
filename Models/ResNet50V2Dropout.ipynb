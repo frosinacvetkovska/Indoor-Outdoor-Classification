{
  "nbformat": 4,
  "nbformat_minor": 0,
  "metadata": {
    "colab": {
      "provenance": [],
      "gpuType": "T4",
      "authorship_tag": "ABX9TyPDLGRwEVN8Rgl+B1/X+xOd"
    },
    "kernelspec": {
      "name": "python3",
      "display_name": "Python 3"
    },
    "language_info": {
      "name": "python"
    },
    "accelerator": "GPU"
  },
  "cells": [
    {
      "cell_type": "code",
      "execution_count": 21,
      "metadata": {
        "id": "z8js5pShayNB"
      },
      "outputs": [],
      "source": [
        "import tensorflow as tf\n",
        "from tensorflow.keras import layers, models\n",
        "from tensorflow.keras.callbacks import ModelCheckpoint\n",
        "from tensorflow.keras.applications import ResNet50V2\n",
        "from tensorflow.keras.preprocessing import image\n",
        "import numpy as np\n",
        "import matplotlib.pyplot as plt\n",
        "import cv2\n",
        "import os"
      ]
    },
    {
      "cell_type": "code",
      "source": [
        "from google.colab import drive\n",
        "drive.mount('/content/drive')"
      ],
      "metadata": {
        "id": "mu6a_584dkK-",
        "colab": {
          "base_uri": "https://localhost:8080/"
        },
        "outputId": "757451db-6f80-4715-93d8-1ef755ec97eb"
      },
      "execution_count": 22,
      "outputs": [
        {
          "output_type": "stream",
          "name": "stdout",
          "text": [
            "Drive already mounted at /content/drive; to attempt to forcibly remount, call drive.mount(\"/content/drive\", force_remount=True).\n"
          ]
        }
      ]
    },
    {
      "cell_type": "code",
      "source": [
        "dataset_dir = '/content/drive/MyDrive/IndoorOutdoorDataset'"
      ],
      "metadata": {
        "id": "fAs3AcFUdkNY"
      },
      "execution_count": 23,
      "outputs": []
    },
    {
      "cell_type": "code",
      "source": [
        "img_width, img_height = 224, 224\n",
        "batch_size = 32\n",
        "epochs = 100"
      ],
      "metadata": {
        "id": "fKx7jF8udkPr"
      },
      "execution_count": 24,
      "outputs": []
    },
    {
      "cell_type": "code",
      "source": [
        "train_ds = tf.keras.utils.image_dataset_from_directory(\n",
        "    directory=dataset_dir,\n",
        "    labels='inferred',\n",
        "    label_mode='binary',\n",
        "    image_size=(img_width, img_height),\n",
        "    batch_size=batch_size,\n",
        "    validation_split=0.2,\n",
        "    seed=42,\n",
        "    shuffle=True,\n",
        "    subset='training',\n",
        ")"
      ],
      "metadata": {
        "id": "BNEnTF5PdkR5",
        "colab": {
          "base_uri": "https://localhost:8080/"
        },
        "outputId": "f354828e-6087-4a5f-801c-5749fd0de89a"
      },
      "execution_count": 25,
      "outputs": [
        {
          "output_type": "stream",
          "name": "stdout",
          "text": [
            "Found 800 files belonging to 2 classes.\n",
            "Using 640 files for training.\n"
          ]
        }
      ]
    },
    {
      "cell_type": "code",
      "source": [
        "val_ds = tf.keras.utils.image_dataset_from_directory(\n",
        "    directory=dataset_dir,\n",
        "    labels='inferred',\n",
        "    label_mode='binary',\n",
        "    image_size=(img_width, img_height),\n",
        "    batch_size=batch_size,\n",
        "    validation_split=0.2,\n",
        "    seed=42,\n",
        "    shuffle=True,\n",
        "    subset='validation',\n",
        ")"
      ],
      "metadata": {
        "id": "ZENf--J3dkWg",
        "colab": {
          "base_uri": "https://localhost:8080/"
        },
        "outputId": "60766ea1-62a0-4590-f419-2fd20340fe09"
      },
      "execution_count": 26,
      "outputs": [
        {
          "output_type": "stream",
          "name": "stdout",
          "text": [
            "Found 800 files belonging to 2 classes.\n",
            "Using 160 files for validation.\n"
          ]
        }
      ]
    },
    {
      "cell_type": "code",
      "source": [
        "model = models.Sequential()\n",
        "model.add(ResNet50V2(weights='imagenet', include_top=False, input_shape=(img_width, img_height, 3)))\n",
        "model.add(layers.Flatten())\n",
        "model.add(layers.Dense(264, activation='relu'))\n",
        "model.add(layers.Dropout(0.3))\n",
        "model.add(layers.Dense(128, activation='relu'))\n",
        "model.add(layers.Dropout(0.1))\n",
        "model.add(layers.Dense(1, activation='sigmoid'))"
      ],
      "metadata": {
        "id": "zejvSnTJdkYh"
      },
      "execution_count": 27,
      "outputs": []
    },
    {
      "cell_type": "code",
      "source": [
        "model.summary()"
      ],
      "metadata": {
        "id": "a2k7AaYXdkad",
        "colab": {
          "base_uri": "https://localhost:8080/"
        },
        "outputId": "2a2d9f45-39f2-4ef2-8e1b-ae458917fad3"
      },
      "execution_count": 28,
      "outputs": [
        {
          "output_type": "stream",
          "name": "stdout",
          "text": [
            "Model: \"sequential_1\"\n",
            "_________________________________________________________________\n",
            " Layer (type)                Output Shape              Param #   \n",
            "=================================================================\n",
            " resnet50v2 (Functional)     (None, 7, 7, 2048)        23564800  \n",
            "                                                                 \n",
            " flatten_1 (Flatten)         (None, 100352)            0         \n",
            "                                                                 \n",
            " dense_3 (Dense)             (None, 264)               26493192  \n",
            "                                                                 \n",
            " dropout_2 (Dropout)         (None, 264)               0         \n",
            "                                                                 \n",
            " dense_4 (Dense)             (None, 128)               33920     \n",
            "                                                                 \n",
            " dropout_3 (Dropout)         (None, 128)               0         \n",
            "                                                                 \n",
            " dense_5 (Dense)             (None, 1)                 129       \n",
            "                                                                 \n",
            "=================================================================\n",
            "Total params: 50092041 (191.09 MB)\n",
            "Trainable params: 50046601 (190.91 MB)\n",
            "Non-trainable params: 45440 (177.50 KB)\n",
            "_________________________________________________________________\n"
          ]
        }
      ]
    },
    {
      "cell_type": "code",
      "source": [
        "model.compile(optimizer='adam', loss='binary_crossentropy', metrics=['accuracy'])"
      ],
      "metadata": {
        "id": "Kj737-TMdwsv"
      },
      "execution_count": 29,
      "outputs": []
    },
    {
      "cell_type": "code",
      "source": [
        "history = model.fit(\n",
        "    train_ds,\n",
        "    epochs=epochs,\n",
        "    validation_data=val_ds\n",
        ")"
      ],
      "metadata": {
        "id": "toE4Nu5RdwvS",
        "colab": {
          "base_uri": "https://localhost:8080/"
        },
        "outputId": "400f573e-c0f4-4a5c-d1b9-819a794f943f"
      },
      "execution_count": 30,
      "outputs": [
        {
          "output_type": "stream",
          "name": "stdout",
          "text": [
            "Epoch 1/100\n",
            "20/20 [==============================] - 35s 401ms/step - loss: 1.2092 - accuracy: 0.7937 - val_loss: 402.5645 - val_accuracy: 0.5750\n",
            "Epoch 2/100\n",
            "20/20 [==============================] - 8s 341ms/step - loss: 0.6456 - accuracy: 0.8797 - val_loss: 396.5883 - val_accuracy: 0.5063\n",
            "Epoch 3/100\n",
            "20/20 [==============================] - 8s 358ms/step - loss: 0.5608 - accuracy: 0.8734 - val_loss: 102.3996 - val_accuracy: 0.4938\n",
            "Epoch 4/100\n",
            "20/20 [==============================] - 8s 343ms/step - loss: 0.4065 - accuracy: 0.8938 - val_loss: 1163.1644 - val_accuracy: 0.5000\n",
            "Epoch 5/100\n",
            "20/20 [==============================] - 8s 352ms/step - loss: 0.3701 - accuracy: 0.8938 - val_loss: 677.3427 - val_accuracy: 0.4625\n",
            "Epoch 6/100\n",
            "20/20 [==============================] - 8s 358ms/step - loss: 0.4001 - accuracy: 0.8875 - val_loss: 3200.8093 - val_accuracy: 0.5063\n",
            "Epoch 7/100\n",
            "20/20 [==============================] - 9s 353ms/step - loss: 0.2925 - accuracy: 0.8938 - val_loss: 85.7660 - val_accuracy: 0.3375\n",
            "Epoch 8/100\n",
            "20/20 [==============================] - 8s 351ms/step - loss: 0.3738 - accuracy: 0.8875 - val_loss: 167.0179 - val_accuracy: 0.4000\n",
            "Epoch 9/100\n",
            "20/20 [==============================] - 8s 368ms/step - loss: 0.3353 - accuracy: 0.8938 - val_loss: 7499.5146 - val_accuracy: 0.5312\n",
            "Epoch 10/100\n",
            "20/20 [==============================] - 8s 352ms/step - loss: 2.0909 - accuracy: 0.7672 - val_loss: 25630.0430 - val_accuracy: 0.4750\n",
            "Epoch 11/100\n",
            "20/20 [==============================] - 9s 376ms/step - loss: 1.9863 - accuracy: 0.7031 - val_loss: 288065.2500 - val_accuracy: 0.4938\n",
            "Epoch 12/100\n",
            "20/20 [==============================] - 9s 429ms/step - loss: 0.7988 - accuracy: 0.6547 - val_loss: 103331048.0000 - val_accuracy: 0.4938\n",
            "Epoch 13/100\n",
            "20/20 [==============================] - 8s 346ms/step - loss: 0.6171 - accuracy: 0.7406 - val_loss: 11034122.0000 - val_accuracy: 0.4938\n",
            "Epoch 14/100\n",
            "20/20 [==============================] - 8s 363ms/step - loss: 0.6090 - accuracy: 0.7828 - val_loss: 3817530.0000 - val_accuracy: 0.4938\n",
            "Epoch 15/100\n",
            "20/20 [==============================] - 8s 347ms/step - loss: 0.7700 - accuracy: 0.7750 - val_loss: 6813673.5000 - val_accuracy: 0.4938\n",
            "Epoch 16/100\n",
            "20/20 [==============================] - 8s 348ms/step - loss: 0.5660 - accuracy: 0.7359 - val_loss: 706350.5625 - val_accuracy: 0.4938\n",
            "Epoch 17/100\n",
            "20/20 [==============================] - 9s 431ms/step - loss: 0.9330 - accuracy: 0.7203 - val_loss: 1782.3274 - val_accuracy: 0.4250\n",
            "Epoch 18/100\n",
            "20/20 [==============================] - 9s 427ms/step - loss: 0.5627 - accuracy: 0.7266 - val_loss: 163.4593 - val_accuracy: 0.5250\n",
            "Epoch 19/100\n",
            "20/20 [==============================] - 8s 347ms/step - loss: 0.6090 - accuracy: 0.7484 - val_loss: 65.3506 - val_accuracy: 0.5875\n",
            "Epoch 20/100\n",
            "20/20 [==============================] - 8s 368ms/step - loss: 0.5853 - accuracy: 0.7656 - val_loss: 33.0432 - val_accuracy: 0.7188\n",
            "Epoch 21/100\n",
            "20/20 [==============================] - 8s 373ms/step - loss: 0.3934 - accuracy: 0.7937 - val_loss: 10.8714 - val_accuracy: 0.7750\n",
            "Epoch 22/100\n",
            "20/20 [==============================] - 8s 345ms/step - loss: 0.3827 - accuracy: 0.7953 - val_loss: 5.2135 - val_accuracy: 0.7500\n",
            "Epoch 23/100\n",
            "20/20 [==============================] - 8s 344ms/step - loss: 0.3993 - accuracy: 0.8203 - val_loss: 4.5055 - val_accuracy: 0.7688\n",
            "Epoch 24/100\n",
            "20/20 [==============================] - 8s 368ms/step - loss: 1.3557 - accuracy: 0.8422 - val_loss: 0.8727 - val_accuracy: 0.6875\n",
            "Epoch 25/100\n",
            "20/20 [==============================] - 8s 359ms/step - loss: 0.9501 - accuracy: 0.8016 - val_loss: 1.0878 - val_accuracy: 0.6062\n",
            "Epoch 26/100\n",
            "20/20 [==============================] - 8s 344ms/step - loss: 1.0832 - accuracy: 0.7812 - val_loss: 45.2816 - val_accuracy: 0.6687\n",
            "Epoch 27/100\n",
            "20/20 [==============================] - 8s 353ms/step - loss: 0.4639 - accuracy: 0.8094 - val_loss: 49.7153 - val_accuracy: 0.7125\n",
            "Epoch 28/100\n",
            "20/20 [==============================] - 10s 438ms/step - loss: 0.3950 - accuracy: 0.8062 - val_loss: 19.7023 - val_accuracy: 0.7812\n",
            "Epoch 29/100\n",
            "20/20 [==============================] - 8s 348ms/step - loss: 0.4077 - accuracy: 0.8250 - val_loss: 0.7162 - val_accuracy: 0.7937\n",
            "Epoch 30/100\n",
            "20/20 [==============================] - 8s 344ms/step - loss: 0.5690 - accuracy: 0.8156 - val_loss: 102.7128 - val_accuracy: 0.7875\n",
            "Epoch 31/100\n",
            "20/20 [==============================] - 8s 365ms/step - loss: 0.3560 - accuracy: 0.8406 - val_loss: 233.8314 - val_accuracy: 0.7375\n",
            "Epoch 32/100\n",
            "20/20 [==============================] - 8s 359ms/step - loss: 0.3386 - accuracy: 0.8375 - val_loss: 53.9468 - val_accuracy: 0.8000\n",
            "Epoch 33/100\n",
            "20/20 [==============================] - 8s 348ms/step - loss: 0.4082 - accuracy: 0.8438 - val_loss: 6.5503 - val_accuracy: 0.8000\n",
            "Epoch 34/100\n",
            "20/20 [==============================] - 8s 363ms/step - loss: 0.4282 - accuracy: 0.8031 - val_loss: 6.2088 - val_accuracy: 0.7688\n",
            "Epoch 35/100\n",
            "20/20 [==============================] - 10s 429ms/step - loss: 0.3766 - accuracy: 0.8313 - val_loss: 19.6256 - val_accuracy: 0.7812\n",
            "Epoch 36/100\n",
            "20/20 [==============================] - 8s 346ms/step - loss: 0.8466 - accuracy: 0.8562 - val_loss: 2.1142 - val_accuracy: 0.7250\n",
            "Epoch 37/100\n",
            "20/20 [==============================] - 8s 350ms/step - loss: 0.4119 - accuracy: 0.8438 - val_loss: 1.9671 - val_accuracy: 0.7500\n",
            "Epoch 38/100\n",
            "20/20 [==============================] - 9s 430ms/step - loss: 0.3309 - accuracy: 0.8797 - val_loss: 1.3896 - val_accuracy: 0.8062\n",
            "Epoch 39/100\n",
            "20/20 [==============================] - 8s 342ms/step - loss: 0.2614 - accuracy: 0.8875 - val_loss: 0.6029 - val_accuracy: 0.8062\n",
            "Epoch 40/100\n",
            "20/20 [==============================] - 8s 348ms/step - loss: 0.2790 - accuracy: 0.8922 - val_loss: 0.5350 - val_accuracy: 0.8000\n",
            "Epoch 41/100\n",
            "20/20 [==============================] - 8s 346ms/step - loss: 0.2652 - accuracy: 0.8891 - val_loss: 0.4493 - val_accuracy: 0.8125\n",
            "Epoch 42/100\n",
            "20/20 [==============================] - 8s 354ms/step - loss: 0.2237 - accuracy: 0.9203 - val_loss: 0.3842 - val_accuracy: 0.8625\n",
            "Epoch 43/100\n",
            "20/20 [==============================] - 8s 347ms/step - loss: 0.2851 - accuracy: 0.9094 - val_loss: 0.3770 - val_accuracy: 0.8375\n",
            "Epoch 44/100\n",
            "20/20 [==============================] - 8s 363ms/step - loss: 0.2739 - accuracy: 0.8938 - val_loss: 0.4988 - val_accuracy: 0.8375\n",
            "Epoch 45/100\n",
            "20/20 [==============================] - 9s 428ms/step - loss: 0.2511 - accuracy: 0.8969 - val_loss: 0.5097 - val_accuracy: 0.8375\n",
            "Epoch 46/100\n",
            "20/20 [==============================] - 8s 352ms/step - loss: 0.2377 - accuracy: 0.9109 - val_loss: 0.4950 - val_accuracy: 0.8250\n",
            "Epoch 47/100\n",
            "20/20 [==============================] - 8s 368ms/step - loss: 0.2202 - accuracy: 0.9156 - val_loss: 0.4692 - val_accuracy: 0.8188\n",
            "Epoch 48/100\n",
            "20/20 [==============================] - 8s 348ms/step - loss: 0.1965 - accuracy: 0.9250 - val_loss: 0.5100 - val_accuracy: 0.8188\n",
            "Epoch 49/100\n",
            "20/20 [==============================] - 8s 372ms/step - loss: 0.2308 - accuracy: 0.9109 - val_loss: 0.5429 - val_accuracy: 0.7937\n",
            "Epoch 50/100\n",
            "20/20 [==============================] - 8s 344ms/step - loss: 0.2973 - accuracy: 0.9281 - val_loss: 31.5099 - val_accuracy: 0.7250\n",
            "Epoch 51/100\n",
            "20/20 [==============================] - 8s 345ms/step - loss: 0.2825 - accuracy: 0.8891 - val_loss: 36.1748 - val_accuracy: 0.7563\n",
            "Epoch 52/100\n",
            "20/20 [==============================] - 8s 355ms/step - loss: 0.3052 - accuracy: 0.9000 - val_loss: 10.2567 - val_accuracy: 0.8500\n",
            "Epoch 53/100\n",
            "20/20 [==============================] - 8s 345ms/step - loss: 0.2133 - accuracy: 0.9062 - val_loss: 8.9647 - val_accuracy: 0.7812\n",
            "Epoch 54/100\n",
            "20/20 [==============================] - 8s 359ms/step - loss: 0.2208 - accuracy: 0.9203 - val_loss: 1.7537 - val_accuracy: 0.8125\n",
            "Epoch 55/100\n",
            "20/20 [==============================] - 8s 352ms/step - loss: 0.2023 - accuracy: 0.9172 - val_loss: 0.9492 - val_accuracy: 0.8313\n",
            "Epoch 56/100\n",
            "20/20 [==============================] - 8s 372ms/step - loss: 0.2003 - accuracy: 0.9219 - val_loss: 2.0667 - val_accuracy: 0.8375\n",
            "Epoch 57/100\n",
            "20/20 [==============================] - 8s 347ms/step - loss: 0.1878 - accuracy: 0.9172 - val_loss: 1.5518 - val_accuracy: 0.8687\n",
            "Epoch 58/100\n",
            "20/20 [==============================] - 8s 348ms/step - loss: 0.1540 - accuracy: 0.9391 - val_loss: 0.5273 - val_accuracy: 0.8375\n",
            "Epoch 59/100\n",
            "20/20 [==============================] - 8s 346ms/step - loss: 0.1625 - accuracy: 0.9297 - val_loss: 0.4175 - val_accuracy: 0.8500\n",
            "Epoch 60/100\n",
            "20/20 [==============================] - 9s 354ms/step - loss: 0.1147 - accuracy: 0.9500 - val_loss: 0.4276 - val_accuracy: 0.8687\n",
            "Epoch 61/100\n",
            "20/20 [==============================] - 8s 342ms/step - loss: 0.1442 - accuracy: 0.9484 - val_loss: 0.5279 - val_accuracy: 0.7875\n",
            "Epoch 62/100\n",
            "20/20 [==============================] - 8s 347ms/step - loss: 0.3964 - accuracy: 0.9094 - val_loss: 91.2112 - val_accuracy: 0.5625\n",
            "Epoch 63/100\n",
            "20/20 [==============================] - 9s 428ms/step - loss: 0.5096 - accuracy: 0.8625 - val_loss: 60.5510 - val_accuracy: 0.6562\n",
            "Epoch 64/100\n",
            "20/20 [==============================] - 8s 347ms/step - loss: 0.7768 - accuracy: 0.8078 - val_loss: 12.6300 - val_accuracy: 0.6812\n",
            "Epoch 65/100\n",
            "20/20 [==============================] - 8s 350ms/step - loss: 0.4891 - accuracy: 0.8531 - val_loss: 23.2634 - val_accuracy: 0.7312\n",
            "Epoch 66/100\n",
            "20/20 [==============================] - 8s 358ms/step - loss: 0.7750 - accuracy: 0.8609 - val_loss: 1.5874 - val_accuracy: 0.7375\n",
            "Epoch 67/100\n",
            "20/20 [==============================] - 8s 353ms/step - loss: 1.3863 - accuracy: 0.8453 - val_loss: 1.8298 - val_accuracy: 0.6062\n",
            "Epoch 68/100\n",
            "20/20 [==============================] - 8s 347ms/step - loss: 0.5999 - accuracy: 0.8516 - val_loss: 1.4175 - val_accuracy: 0.6750\n",
            "Epoch 69/100\n",
            "20/20 [==============================] - 8s 362ms/step - loss: 0.3208 - accuracy: 0.8750 - val_loss: 1.2610 - val_accuracy: 0.6625\n",
            "Epoch 70/100\n",
            "20/20 [==============================] - 9s 426ms/step - loss: 0.3024 - accuracy: 0.8781 - val_loss: 1.0716 - val_accuracy: 0.6875\n",
            "Epoch 71/100\n",
            "20/20 [==============================] - 8s 348ms/step - loss: 0.2558 - accuracy: 0.8938 - val_loss: 0.6787 - val_accuracy: 0.7500\n",
            "Epoch 72/100\n",
            "20/20 [==============================] - 8s 347ms/step - loss: 0.2409 - accuracy: 0.8922 - val_loss: 0.3960 - val_accuracy: 0.8062\n",
            "Epoch 73/100\n",
            "20/20 [==============================] - 8s 342ms/step - loss: 0.4541 - accuracy: 0.8938 - val_loss: 0.5101 - val_accuracy: 0.7563\n",
            "Epoch 74/100\n",
            "20/20 [==============================] - 8s 349ms/step - loss: 0.4757 - accuracy: 0.8875 - val_loss: 0.4101 - val_accuracy: 0.8250\n",
            "Epoch 75/100\n",
            "20/20 [==============================] - 8s 351ms/step - loss: 0.2985 - accuracy: 0.9062 - val_loss: 0.4039 - val_accuracy: 0.8313\n",
            "Epoch 76/100\n",
            "20/20 [==============================] - 8s 362ms/step - loss: 0.2745 - accuracy: 0.9109 - val_loss: 0.6120 - val_accuracy: 0.7563\n",
            "Epoch 77/100\n",
            "20/20 [==============================] - 8s 369ms/step - loss: 0.2405 - accuracy: 0.9078 - val_loss: 0.9017 - val_accuracy: 0.7312\n",
            "Epoch 78/100\n",
            "20/20 [==============================] - 9s 356ms/step - loss: 0.3097 - accuracy: 0.8828 - val_loss: 0.6178 - val_accuracy: 0.7125\n",
            "Epoch 79/100\n",
            "20/20 [==============================] - 8s 355ms/step - loss: 0.2778 - accuracy: 0.9016 - val_loss: 0.4327 - val_accuracy: 0.8062\n",
            "Epoch 80/100\n",
            "20/20 [==============================] - 8s 357ms/step - loss: 0.2141 - accuracy: 0.9187 - val_loss: 0.3977 - val_accuracy: 0.8188\n",
            "Epoch 81/100\n",
            "20/20 [==============================] - 8s 344ms/step - loss: 0.1872 - accuracy: 0.9281 - val_loss: 0.4783 - val_accuracy: 0.7875\n",
            "Epoch 82/100\n",
            "20/20 [==============================] - 8s 354ms/step - loss: 0.2489 - accuracy: 0.9047 - val_loss: 0.3817 - val_accuracy: 0.8562\n",
            "Epoch 83/100\n",
            "20/20 [==============================] - 9s 427ms/step - loss: 0.1646 - accuracy: 0.9406 - val_loss: 0.6198 - val_accuracy: 0.7500\n",
            "Epoch 84/100\n",
            "20/20 [==============================] - 8s 350ms/step - loss: 0.1842 - accuracy: 0.9219 - val_loss: 0.5395 - val_accuracy: 0.8125\n",
            "Epoch 85/100\n",
            "20/20 [==============================] - 8s 349ms/step - loss: 0.1979 - accuracy: 0.9297 - val_loss: 3.9767 - val_accuracy: 0.5437\n",
            "Epoch 86/100\n",
            "20/20 [==============================] - 9s 427ms/step - loss: 0.2059 - accuracy: 0.9187 - val_loss: 2.4493 - val_accuracy: 0.6313\n",
            "Epoch 87/100\n",
            "20/20 [==============================] - 8s 341ms/step - loss: 0.2008 - accuracy: 0.9297 - val_loss: 1.5025 - val_accuracy: 0.6750\n",
            "Epoch 88/100\n",
            "20/20 [==============================] - 8s 361ms/step - loss: 0.1528 - accuracy: 0.9406 - val_loss: 1.1789 - val_accuracy: 0.6875\n",
            "Epoch 89/100\n",
            "20/20 [==============================] - 8s 345ms/step - loss: 0.1532 - accuracy: 0.9375 - val_loss: 0.8088 - val_accuracy: 0.7563\n",
            "Epoch 90/100\n",
            "20/20 [==============================] - 8s 351ms/step - loss: 0.0922 - accuracy: 0.9672 - val_loss: 0.3406 - val_accuracy: 0.8625\n",
            "Epoch 91/100\n",
            "20/20 [==============================] - 9s 430ms/step - loss: 0.1149 - accuracy: 0.9672 - val_loss: 0.3613 - val_accuracy: 0.8562\n",
            "Epoch 92/100\n",
            "20/20 [==============================] - 8s 345ms/step - loss: 0.1109 - accuracy: 0.9609 - val_loss: 0.3318 - val_accuracy: 0.8938\n",
            "Epoch 93/100\n",
            "20/20 [==============================] - 10s 431ms/step - loss: 0.1399 - accuracy: 0.9516 - val_loss: 0.4655 - val_accuracy: 0.8438\n",
            "Epoch 94/100\n",
            "20/20 [==============================] - 8s 351ms/step - loss: 0.0943 - accuracy: 0.9656 - val_loss: 0.2487 - val_accuracy: 0.8938\n",
            "Epoch 95/100\n",
            "20/20 [==============================] - 8s 350ms/step - loss: 0.1536 - accuracy: 0.9594 - val_loss: 0.6081 - val_accuracy: 0.8625\n",
            "Epoch 96/100\n",
            "20/20 [==============================] - 8s 346ms/step - loss: 0.2092 - accuracy: 0.9312 - val_loss: 0.7287 - val_accuracy: 0.8438\n",
            "Epoch 97/100\n",
            "20/20 [==============================] - 8s 353ms/step - loss: 0.1503 - accuracy: 0.9500 - val_loss: 0.5217 - val_accuracy: 0.8687\n",
            "Epoch 98/100\n",
            "20/20 [==============================] - 8s 344ms/step - loss: 0.1027 - accuracy: 0.9656 - val_loss: 0.4649 - val_accuracy: 0.8500\n",
            "Epoch 99/100\n",
            "20/20 [==============================] - 8s 372ms/step - loss: 0.0896 - accuracy: 0.9625 - val_loss: 0.3655 - val_accuracy: 0.8813\n",
            "Epoch 100/100\n",
            "20/20 [==============================] - 8s 359ms/step - loss: 0.0756 - accuracy: 0.9750 - val_loss: 0.3259 - val_accuracy: 0.8687\n"
          ]
        }
      ]
    },
    {
      "cell_type": "code",
      "source": [
        "model.save('/content/drive/MyDrive/resnet50v2dropout_indoor_outdoor_model.h5')"
      ],
      "metadata": {
        "id": "WoXsLK5Zdwxn",
        "colab": {
          "base_uri": "https://localhost:8080/"
        },
        "outputId": "714b6ae5-3dfc-413e-87ff-0fc4dddc3674"
      },
      "execution_count": 31,
      "outputs": [
        {
          "output_type": "stream",
          "name": "stderr",
          "text": [
            "/usr/local/lib/python3.10/dist-packages/keras/src/engine/training.py:3103: UserWarning: You are saving your model as an HDF5 file via `model.save()`. This file format is considered legacy. We recommend using instead the native Keras format, e.g. `model.save('my_model.keras')`.\n",
            "  saving_api.save_model(\n"
          ]
        }
      ]
    },
    {
      "cell_type": "code",
      "source": [
        "model.evaluate(val_ds)"
      ],
      "metadata": {
        "id": "xgfYJucIjdg9",
        "outputId": "d3d1e25c-437f-473c-a022-4a420ff3e237",
        "colab": {
          "base_uri": "https://localhost:8080/"
        }
      },
      "execution_count": 32,
      "outputs": [
        {
          "output_type": "stream",
          "name": "stdout",
          "text": [
            "5/5 [==============================] - 1s 98ms/step - loss: 0.3259 - accuracy: 0.8687\n"
          ]
        },
        {
          "output_type": "execute_result",
          "data": {
            "text/plain": [
              "[0.3258998990058899, 0.8687499761581421]"
            ]
          },
          "metadata": {},
          "execution_count": 32
        }
      ]
    },
    {
      "cell_type": "code",
      "source": [
        "def process_directory(model, prediction_dir):\n",
        "    for img in os.listdir(prediction_dir):\n",
        "        try:\n",
        "            img_path = os.path.join(prediction_dir, img)\n",
        "\n",
        "            img = image.load_img(img_path, target_size=(img_width, img_height))\n",
        "            img_array = image.img_to_array(img)\n",
        "            img_array = tf.expand_dims(img_array, 0)\n",
        "\n",
        "            img_array /= 255.0\n",
        "\n",
        "            predictions = model.predict(img_array)\n",
        "            predicted_class = 'outdoor' if predictions[0] >= 0.5 else 'indoor'\n",
        "            probability = predictions[0]\n",
        "\n",
        "            print(f'{img} - Predicted Class: {predicted_class}, Probability: {probability}')\n",
        "\n",
        "        except Exception as e:\n",
        "            print(f'Exception processing {img}: {str(e)}')"
      ],
      "metadata": {
        "id": "BRby34tV3HX2"
      },
      "execution_count": 33,
      "outputs": []
    },
    {
      "cell_type": "code",
      "source": [
        "class_labels = None"
      ],
      "metadata": {
        "id": "tz5ypD6k3Hao"
      },
      "execution_count": 34,
      "outputs": []
    },
    {
      "cell_type": "code",
      "source": [
        "outdoor_prediction_dir = '/content/drive/MyDrive/IndoorOutdoorDataset/indoor'\n",
        "process_directory(model, outdoor_prediction_dir)"
      ],
      "metadata": {
        "id": "rIU5OnvB3HdU"
      },
      "execution_count": null,
      "outputs": []
    },
    {
      "cell_type": "code",
      "source": [
        "outdoor_prediction_dir = '/content/drive/MyDrive/IndoorOutdoorDataset/outdoor'\n",
        "process_directory(model, outdoor_prediction_dir)"
      ],
      "metadata": {
        "id": "FdvTyZqq3Hf9"
      },
      "execution_count": null,
      "outputs": []
    },
    {
      "cell_type": "code",
      "source": [
        "predicted_prediction_dir = '/content/drive/MyDrive/predicted'\n",
        "process_directory(model, predicted_prediction_dir)"
      ],
      "metadata": {
        "id": "YvpJ9hb63PjV"
      },
      "execution_count": null,
      "outputs": []
    }
  ]
}