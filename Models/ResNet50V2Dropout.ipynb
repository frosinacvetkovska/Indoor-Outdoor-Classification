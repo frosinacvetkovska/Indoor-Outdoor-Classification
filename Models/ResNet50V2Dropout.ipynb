{
  "nbformat": 4,
  "nbformat_minor": 0,
  "metadata": {
    "colab": {
      "provenance": [],
      "gpuType": "T4",
      "authorship_tag": "ABX9TyP0lF5FypPYKXXeBfx9P3JG"
    },
    "kernelspec": {
      "name": "python3",
      "display_name": "Python 3"
    },
    "language_info": {
      "name": "python"
    },
    "accelerator": "GPU"
  },
  "cells": [
    {
      "cell_type": "code",
      "execution_count": 1,
      "metadata": {
        "id": "z8js5pShayNB"
      },
      "outputs": [],
      "source": [
        "import tensorflow as tf\n",
        "from tensorflow.keras import layers, models\n",
        "from tensorflow.keras.callbacks import ModelCheckpoint\n",
        "from tensorflow.keras.applications import ResNet50V2\n",
        "from tensorflow.keras.preprocessing import image\n",
        "import numpy as np\n",
        "import matplotlib.pyplot as plt\n",
        "import cv2"
      ]
    },
    {
      "cell_type": "code",
      "source": [
        "from google.colab import drive\n",
        "drive.mount('/content/drive')"
      ],
      "metadata": {
        "id": "mu6a_584dkK-",
        "colab": {
          "base_uri": "https://localhost:8080/"
        },
        "outputId": "027be275-edb8-4540-e998-24139e242fe1"
      },
      "execution_count": 2,
      "outputs": [
        {
          "output_type": "stream",
          "name": "stdout",
          "text": [
            "Mounted at /content/drive\n"
          ]
        }
      ]
    },
    {
      "cell_type": "code",
      "source": [
        "dataset_dir = '/content/drive/MyDrive/IndoorOutdoorDataset'"
      ],
      "metadata": {
        "id": "fAs3AcFUdkNY"
      },
      "execution_count": 3,
      "outputs": []
    },
    {
      "cell_type": "code",
      "source": [
        "img_width, img_height = 224, 224\n",
        "batch_size = 32\n",
        "epochs = 100"
      ],
      "metadata": {
        "id": "fKx7jF8udkPr"
      },
      "execution_count": 4,
      "outputs": []
    },
    {
      "cell_type": "code",
      "source": [
        "train_ds = tf.keras.utils.image_dataset_from_directory(\n",
        "    directory=dataset_dir,\n",
        "    labels='inferred',\n",
        "    label_mode='binary',\n",
        "    image_size=(img_width, img_height),\n",
        "    batch_size=batch_size,\n",
        "    validation_split=0.2,\n",
        "    seed=42,\n",
        "    shuffle=True,\n",
        "    subset='training',\n",
        ")"
      ],
      "metadata": {
        "id": "BNEnTF5PdkR5",
        "colab": {
          "base_uri": "https://localhost:8080/"
        },
        "outputId": "d98651a1-3710-40fb-c601-876cbaf2a40f"
      },
      "execution_count": 5,
      "outputs": [
        {
          "output_type": "stream",
          "name": "stdout",
          "text": [
            "Found 800 files belonging to 2 classes.\n",
            "Using 640 files for training.\n"
          ]
        }
      ]
    },
    {
      "cell_type": "code",
      "source": [
        "val_ds = tf.keras.utils.image_dataset_from_directory(\n",
        "    directory=dataset_dir,\n",
        "    labels='inferred',\n",
        "    label_mode='binary',\n",
        "    image_size=(img_width, img_height),\n",
        "    batch_size=batch_size,\n",
        "    validation_split=0.2,\n",
        "    seed=42,\n",
        "    shuffle=True,\n",
        "    subset='validation',\n",
        ")"
      ],
      "metadata": {
        "id": "ZENf--J3dkWg",
        "colab": {
          "base_uri": "https://localhost:8080/"
        },
        "outputId": "c85a3dd0-2d67-462b-da79-0087a5fe7a9f"
      },
      "execution_count": 6,
      "outputs": [
        {
          "output_type": "stream",
          "name": "stdout",
          "text": [
            "Found 800 files belonging to 2 classes.\n",
            "Using 160 files for validation.\n"
          ]
        }
      ]
    },
    {
      "cell_type": "code",
      "source": [
        "model = models.Sequential()\n",
        "model.add(ResNet50V2(weights='imagenet', include_top=False, input_shape=(img_width, img_height, 3), classes=2))\n",
        "model.add(layers.Flatten())\n",
        "model.add(layers.Dense(264, activation='sigmoid'))\n",
        "model.add(layers.Dropout(0.5))\n",
        "model.add(layers.Dense(128, activation='sigmoid'))\n",
        "model.add(layers.Dropout(0.3))\n",
        "model.add(layers.Dense(1, activation='sigmoid'))"
      ],
      "metadata": {
        "id": "zejvSnTJdkYh",
        "colab": {
          "base_uri": "https://localhost:8080/"
        },
        "outputId": "c48cbcb1-a09c-449d-a7b5-dda7809595bb"
      },
      "execution_count": 7,
      "outputs": [
        {
          "output_type": "stream",
          "name": "stdout",
          "text": [
            "Downloading data from https://storage.googleapis.com/tensorflow/keras-applications/resnet/resnet50v2_weights_tf_dim_ordering_tf_kernels_notop.h5\n",
            "94668760/94668760 [==============================] - 0s 0us/step\n"
          ]
        }
      ]
    },
    {
      "cell_type": "code",
      "source": [
        "model.summary()"
      ],
      "metadata": {
        "id": "a2k7AaYXdkad",
        "colab": {
          "base_uri": "https://localhost:8080/"
        },
        "outputId": "d32f3511-d280-4ae1-ba44-171cb15d63b0"
      },
      "execution_count": 8,
      "outputs": [
        {
          "output_type": "stream",
          "name": "stdout",
          "text": [
            "Model: \"sequential\"\n",
            "_________________________________________________________________\n",
            " Layer (type)                Output Shape              Param #   \n",
            "=================================================================\n",
            " resnet50v2 (Functional)     (None, 7, 7, 2048)        23564800  \n",
            "                                                                 \n",
            " flatten (Flatten)           (None, 100352)            0         \n",
            "                                                                 \n",
            " dense (Dense)               (None, 264)               26493192  \n",
            "                                                                 \n",
            " dropout (Dropout)           (None, 264)               0         \n",
            "                                                                 \n",
            " dense_1 (Dense)             (None, 128)               33920     \n",
            "                                                                 \n",
            " dropout_1 (Dropout)         (None, 128)               0         \n",
            "                                                                 \n",
            " dense_2 (Dense)             (None, 1)                 129       \n",
            "                                                                 \n",
            "=================================================================\n",
            "Total params: 50092041 (191.09 MB)\n",
            "Trainable params: 50046601 (190.91 MB)\n",
            "Non-trainable params: 45440 (177.50 KB)\n",
            "_________________________________________________________________\n"
          ]
        }
      ]
    },
    {
      "cell_type": "code",
      "source": [
        "model.compile(optimizer='adam', loss='binary_crossentropy', metrics=['accuracy'])"
      ],
      "metadata": {
        "id": "Kj737-TMdwsv"
      },
      "execution_count": 9,
      "outputs": []
    },
    {
      "cell_type": "code",
      "source": [
        "history = model.fit(\n",
        "    train_ds,\n",
        "    epochs=epochs,\n",
        "    validation_data=val_ds\n",
        ")"
      ],
      "metadata": {
        "id": "toE4Nu5RdwvS",
        "colab": {
          "base_uri": "https://localhost:8080/"
        },
        "outputId": "d6c61fbb-d37b-4a43-ed5f-b8ed83a07b76"
      },
      "execution_count": 10,
      "outputs": [
        {
          "output_type": "stream",
          "name": "stdout",
          "text": [
            "Epoch 1/100\n",
            "20/20 [==============================] - 104s 2s/step - loss: 0.4631 - accuracy: 0.8016 - val_loss: 1.1245 - val_accuracy: 0.4938\n",
            "Epoch 2/100\n",
            "20/20 [==============================] - 8s 325ms/step - loss: 0.3083 - accuracy: 0.8828 - val_loss: 0.8528 - val_accuracy: 0.5063\n",
            "Epoch 3/100\n",
            "20/20 [==============================] - 8s 337ms/step - loss: 0.2786 - accuracy: 0.9094 - val_loss: 0.7720 - val_accuracy: 0.6000\n",
            "Epoch 4/100\n",
            "20/20 [==============================] - 7s 317ms/step - loss: 0.2847 - accuracy: 0.9000 - val_loss: 0.7110 - val_accuracy: 0.5063\n",
            "Epoch 5/100\n",
            "20/20 [==============================] - 7s 330ms/step - loss: 0.2729 - accuracy: 0.9016 - val_loss: 1.1342 - val_accuracy: 0.5000\n",
            "Epoch 6/100\n",
            "20/20 [==============================] - 7s 317ms/step - loss: 0.2572 - accuracy: 0.9109 - val_loss: 1.2559 - val_accuracy: 0.5063\n",
            "Epoch 7/100\n",
            "20/20 [==============================] - 7s 328ms/step - loss: 0.2230 - accuracy: 0.9203 - val_loss: 1.0337 - val_accuracy: 0.6375\n",
            "Epoch 8/100\n",
            "20/20 [==============================] - 7s 320ms/step - loss: 0.2358 - accuracy: 0.9172 - val_loss: 1.9096 - val_accuracy: 0.5000\n",
            "Epoch 9/100\n",
            "20/20 [==============================] - 8s 333ms/step - loss: 0.1803 - accuracy: 0.9406 - val_loss: 2.1571 - val_accuracy: 0.4938\n",
            "Epoch 10/100\n",
            "20/20 [==============================] - 7s 319ms/step - loss: 0.1609 - accuracy: 0.9484 - val_loss: 1.4371 - val_accuracy: 0.5500\n",
            "Epoch 11/100\n",
            "20/20 [==============================] - 7s 329ms/step - loss: 0.1106 - accuracy: 0.9703 - val_loss: 1.3305 - val_accuracy: 0.6125\n",
            "Epoch 12/100\n",
            "20/20 [==============================] - 7s 321ms/step - loss: 0.1097 - accuracy: 0.9688 - val_loss: 1.4627 - val_accuracy: 0.6687\n",
            "Epoch 13/100\n",
            "20/20 [==============================] - 8s 335ms/step - loss: 0.1083 - accuracy: 0.9656 - val_loss: 1.4102 - val_accuracy: 0.6500\n",
            "Epoch 14/100\n",
            "20/20 [==============================] - 7s 324ms/step - loss: 0.0671 - accuracy: 0.9828 - val_loss: 2.1866 - val_accuracy: 0.5437\n",
            "Epoch 15/100\n",
            "20/20 [==============================] - 7s 332ms/step - loss: 0.0844 - accuracy: 0.9781 - val_loss: 2.2264 - val_accuracy: 0.5500\n",
            "Epoch 16/100\n",
            "20/20 [==============================] - 9s 408ms/step - loss: 0.1136 - accuracy: 0.9594 - val_loss: 1.9891 - val_accuracy: 0.5625\n",
            "Epoch 17/100\n",
            "20/20 [==============================] - 8s 325ms/step - loss: 0.1387 - accuracy: 0.9531 - val_loss: 0.6039 - val_accuracy: 0.8125\n",
            "Epoch 18/100\n",
            "20/20 [==============================] - 8s 346ms/step - loss: 0.0948 - accuracy: 0.9703 - val_loss: 1.0188 - val_accuracy: 0.6875\n",
            "Epoch 19/100\n",
            "20/20 [==============================] - 7s 324ms/step - loss: 0.0941 - accuracy: 0.9703 - val_loss: 0.2725 - val_accuracy: 0.9187\n",
            "Epoch 20/100\n",
            "20/20 [==============================] - 8s 346ms/step - loss: 0.0549 - accuracy: 0.9875 - val_loss: 0.6694 - val_accuracy: 0.8562\n",
            "Epoch 21/100\n",
            "20/20 [==============================] - 7s 329ms/step - loss: 0.0408 - accuracy: 0.9828 - val_loss: 0.3628 - val_accuracy: 0.8938\n",
            "Epoch 22/100\n",
            "20/20 [==============================] - 8s 331ms/step - loss: 0.0277 - accuracy: 0.9906 - val_loss: 0.3787 - val_accuracy: 0.9000\n",
            "Epoch 23/100\n",
            "20/20 [==============================] - 8s 344ms/step - loss: 0.0375 - accuracy: 0.9891 - val_loss: 0.4011 - val_accuracy: 0.8875\n",
            "Epoch 24/100\n",
            "20/20 [==============================] - 7s 327ms/step - loss: 0.0329 - accuracy: 0.9859 - val_loss: 1.0719 - val_accuracy: 0.7625\n",
            "Epoch 25/100\n",
            "20/20 [==============================] - 8s 341ms/step - loss: 0.0648 - accuracy: 0.9734 - val_loss: 0.4662 - val_accuracy: 0.8750\n",
            "Epoch 26/100\n",
            "20/20 [==============================] - 7s 329ms/step - loss: 0.0614 - accuracy: 0.9812 - val_loss: 0.4560 - val_accuracy: 0.8875\n",
            "Epoch 27/100\n",
            "20/20 [==============================] - 8s 338ms/step - loss: 0.0642 - accuracy: 0.9844 - val_loss: 0.4060 - val_accuracy: 0.8875\n",
            "Epoch 28/100\n",
            "20/20 [==============================] - 7s 330ms/step - loss: 0.0505 - accuracy: 0.9859 - val_loss: 1.0381 - val_accuracy: 0.7375\n",
            "Epoch 29/100\n",
            "20/20 [==============================] - 8s 342ms/step - loss: 0.0696 - accuracy: 0.9797 - val_loss: 0.9642 - val_accuracy: 0.7688\n",
            "Epoch 30/100\n",
            "20/20 [==============================] - 7s 328ms/step - loss: 0.0905 - accuracy: 0.9703 - val_loss: 0.7778 - val_accuracy: 0.7812\n",
            "Epoch 31/100\n",
            "20/20 [==============================] - 8s 343ms/step - loss: 0.0916 - accuracy: 0.9625 - val_loss: 0.8233 - val_accuracy: 0.7625\n",
            "Epoch 32/100\n",
            "20/20 [==============================] - 9s 414ms/step - loss: 0.1331 - accuracy: 0.9484 - val_loss: 2.5956 - val_accuracy: 0.5000\n",
            "Epoch 33/100\n",
            "20/20 [==============================] - 8s 330ms/step - loss: 0.0480 - accuracy: 0.9828 - val_loss: 2.7309 - val_accuracy: 0.5063\n",
            "Epoch 34/100\n",
            "20/20 [==============================] - 8s 353ms/step - loss: 0.0655 - accuracy: 0.9844 - val_loss: 1.9404 - val_accuracy: 0.5938\n",
            "Epoch 35/100\n",
            "20/20 [==============================] - 8s 330ms/step - loss: 0.0322 - accuracy: 0.9875 - val_loss: 2.0475 - val_accuracy: 0.6000\n",
            "Epoch 36/100\n",
            "20/20 [==============================] - 8s 338ms/step - loss: 0.0546 - accuracy: 0.9844 - val_loss: 1.4286 - val_accuracy: 0.7000\n",
            "Epoch 37/100\n",
            "20/20 [==============================] - 8s 348ms/step - loss: 0.0629 - accuracy: 0.9766 - val_loss: 0.4941 - val_accuracy: 0.8687\n",
            "Epoch 38/100\n",
            "20/20 [==============================] - 7s 331ms/step - loss: 0.0529 - accuracy: 0.9828 - val_loss: 1.1201 - val_accuracy: 0.7563\n",
            "Epoch 39/100\n",
            "20/20 [==============================] - 8s 333ms/step - loss: 0.0481 - accuracy: 0.9859 - val_loss: 0.8080 - val_accuracy: 0.8125\n",
            "Epoch 40/100\n",
            "20/20 [==============================] - 8s 348ms/step - loss: 0.0658 - accuracy: 0.9781 - val_loss: 0.6435 - val_accuracy: 0.8562\n",
            "Epoch 41/100\n",
            "20/20 [==============================] - 7s 329ms/step - loss: 0.1034 - accuracy: 0.9641 - val_loss: 0.8540 - val_accuracy: 0.7937\n",
            "Epoch 42/100\n",
            "20/20 [==============================] - 8s 344ms/step - loss: 0.0374 - accuracy: 0.9859 - val_loss: 0.3285 - val_accuracy: 0.9062\n",
            "Epoch 43/100\n",
            "20/20 [==============================] - 8s 348ms/step - loss: 0.0301 - accuracy: 0.9937 - val_loss: 0.2999 - val_accuracy: 0.9062\n",
            "Epoch 44/100\n",
            "20/20 [==============================] - 8s 334ms/step - loss: 0.0131 - accuracy: 0.9984 - val_loss: 0.4323 - val_accuracy: 0.8813\n",
            "Epoch 45/100\n",
            "20/20 [==============================] - 8s 350ms/step - loss: 0.0182 - accuracy: 0.9937 - val_loss: 0.6316 - val_accuracy: 0.8500\n",
            "Epoch 46/100\n",
            "20/20 [==============================] - 7s 332ms/step - loss: 0.0047 - accuracy: 1.0000 - val_loss: 0.6413 - val_accuracy: 0.8687\n",
            "Epoch 47/100\n",
            "20/20 [==============================] - 8s 338ms/step - loss: 0.0229 - accuracy: 0.9937 - val_loss: 0.6049 - val_accuracy: 0.8687\n",
            "Epoch 48/100\n",
            "20/20 [==============================] - 8s 348ms/step - loss: 0.0043 - accuracy: 1.0000 - val_loss: 0.6820 - val_accuracy: 0.8875\n",
            "Epoch 49/100\n",
            "20/20 [==============================] - 8s 341ms/step - loss: 0.0226 - accuracy: 0.9953 - val_loss: 0.6077 - val_accuracy: 0.8687\n",
            "Epoch 50/100\n",
            "20/20 [==============================] - 9s 418ms/step - loss: 0.0133 - accuracy: 0.9969 - val_loss: 0.3814 - val_accuracy: 0.9062\n",
            "Epoch 51/100\n",
            "20/20 [==============================] - 8s 333ms/step - loss: 0.0155 - accuracy: 0.9969 - val_loss: 0.4486 - val_accuracy: 0.8938\n",
            "Epoch 52/100\n",
            "20/20 [==============================] - 8s 341ms/step - loss: 0.0188 - accuracy: 0.9922 - val_loss: 0.7760 - val_accuracy: 0.8313\n",
            "Epoch 53/100\n",
            "20/20 [==============================] - 8s 337ms/step - loss: 0.0837 - accuracy: 0.9828 - val_loss: 1.6791 - val_accuracy: 0.6375\n",
            "Epoch 54/100\n",
            "20/20 [==============================] - 10s 431ms/step - loss: 0.0275 - accuracy: 0.9891 - val_loss: 0.9475 - val_accuracy: 0.7563\n",
            "Epoch 55/100\n",
            "20/20 [==============================] - 9s 417ms/step - loss: 0.0277 - accuracy: 0.9922 - val_loss: 0.6954 - val_accuracy: 0.8313\n",
            "Epoch 56/100\n",
            "20/20 [==============================] - 8s 333ms/step - loss: 0.0067 - accuracy: 0.9984 - val_loss: 0.7802 - val_accuracy: 0.8188\n",
            "Epoch 57/100\n",
            "20/20 [==============================] - 8s 342ms/step - loss: 0.0096 - accuracy: 0.9984 - val_loss: 0.5950 - val_accuracy: 0.8625\n",
            "Epoch 58/100\n",
            "20/20 [==============================] - 8s 351ms/step - loss: 0.0066 - accuracy: 0.9984 - val_loss: 0.5074 - val_accuracy: 0.9000\n",
            "Epoch 59/100\n",
            "20/20 [==============================] - 8s 332ms/step - loss: 0.0059 - accuracy: 0.9984 - val_loss: 0.2913 - val_accuracy: 0.9250\n",
            "Epoch 60/100\n",
            "20/20 [==============================] - 8s 343ms/step - loss: 0.0057 - accuracy: 0.9984 - val_loss: 0.4758 - val_accuracy: 0.8938\n",
            "Epoch 61/100\n",
            "20/20 [==============================] - 8s 348ms/step - loss: 0.0080 - accuracy: 0.9984 - val_loss: 0.6218 - val_accuracy: 0.8750\n",
            "Epoch 62/100\n",
            "20/20 [==============================] - 8s 332ms/step - loss: 0.0093 - accuracy: 0.9969 - val_loss: 0.3547 - val_accuracy: 0.9250\n",
            "Epoch 63/100\n",
            "20/20 [==============================] - 8s 342ms/step - loss: 0.0019 - accuracy: 1.0000 - val_loss: 0.3578 - val_accuracy: 0.9312\n",
            "Epoch 64/100\n",
            "20/20 [==============================] - 8s 350ms/step - loss: 0.0147 - accuracy: 0.9969 - val_loss: 0.2634 - val_accuracy: 0.9312\n",
            "Epoch 65/100\n",
            "20/20 [==============================] - 8s 335ms/step - loss: 0.0185 - accuracy: 0.9906 - val_loss: 1.1678 - val_accuracy: 0.7812\n",
            "Epoch 66/100\n",
            "20/20 [==============================] - 9s 418ms/step - loss: 0.0316 - accuracy: 0.9891 - val_loss: 0.5204 - val_accuracy: 0.8875\n",
            "Epoch 67/100\n",
            "20/20 [==============================] - 8s 333ms/step - loss: 0.0576 - accuracy: 0.9797 - val_loss: 2.0520 - val_accuracy: 0.6625\n",
            "Epoch 68/100\n",
            "20/20 [==============================] - 8s 330ms/step - loss: 0.1102 - accuracy: 0.9734 - val_loss: 1.3917 - val_accuracy: 0.7250\n",
            "Epoch 69/100\n",
            "20/20 [==============================] - 9s 419ms/step - loss: 0.0485 - accuracy: 0.9859 - val_loss: 0.7238 - val_accuracy: 0.8313\n",
            "Epoch 70/100\n",
            "20/20 [==============================] - 8s 334ms/step - loss: 0.0294 - accuracy: 0.9922 - val_loss: 0.4480 - val_accuracy: 0.8813\n",
            "Epoch 71/100\n",
            "20/20 [==============================] - 8s 345ms/step - loss: 0.0290 - accuracy: 0.9906 - val_loss: 0.4242 - val_accuracy: 0.8938\n",
            "Epoch 72/100\n",
            "20/20 [==============================] - 7s 333ms/step - loss: 0.0845 - accuracy: 0.9719 - val_loss: 0.9443 - val_accuracy: 0.8000\n",
            "Epoch 73/100\n",
            "20/20 [==============================] - 8s 334ms/step - loss: 0.1773 - accuracy: 0.9469 - val_loss: 1.7333 - val_accuracy: 0.6438\n",
            "Epoch 74/100\n",
            "20/20 [==============================] - 8s 342ms/step - loss: 0.0902 - accuracy: 0.9703 - val_loss: 2.3169 - val_accuracy: 0.5375\n",
            "Epoch 75/100\n",
            "20/20 [==============================] - 8s 349ms/step - loss: 0.0617 - accuracy: 0.9750 - val_loss: 1.5433 - val_accuracy: 0.6562\n",
            "Epoch 76/100\n",
            "20/20 [==============================] - 8s 333ms/step - loss: 0.0696 - accuracy: 0.9766 - val_loss: 2.1343 - val_accuracy: 0.5875\n",
            "Epoch 77/100\n",
            "20/20 [==============================] - 8s 339ms/step - loss: 0.0541 - accuracy: 0.9797 - val_loss: 1.1166 - val_accuracy: 0.7688\n",
            "Epoch 78/100\n",
            "20/20 [==============================] - 8s 333ms/step - loss: 0.1019 - accuracy: 0.9703 - val_loss: 0.7803 - val_accuracy: 0.8250\n",
            "Epoch 79/100\n",
            "20/20 [==============================] - 8s 340ms/step - loss: 0.0256 - accuracy: 0.9984 - val_loss: 0.6888 - val_accuracy: 0.8562\n",
            "Epoch 80/100\n",
            "20/20 [==============================] - 8s 349ms/step - loss: 0.0410 - accuracy: 0.9875 - val_loss: 0.7282 - val_accuracy: 0.8438\n",
            "Epoch 81/100\n",
            "20/20 [==============================] - 8s 332ms/step - loss: 0.0157 - accuracy: 0.9984 - val_loss: 0.5323 - val_accuracy: 0.8813\n",
            "Epoch 82/100\n",
            "20/20 [==============================] - 8s 343ms/step - loss: 0.0417 - accuracy: 0.9828 - val_loss: 0.4145 - val_accuracy: 0.8938\n",
            "Epoch 83/100\n",
            "20/20 [==============================] - 7s 332ms/step - loss: 0.0586 - accuracy: 0.9859 - val_loss: 0.7249 - val_accuracy: 0.8250\n",
            "Epoch 84/100\n",
            "20/20 [==============================] - 8s 341ms/step - loss: 0.0406 - accuracy: 0.9891 - val_loss: 0.4843 - val_accuracy: 0.9000\n",
            "Epoch 85/100\n",
            "20/20 [==============================] - 8s 335ms/step - loss: 0.0096 - accuracy: 0.9984 - val_loss: 0.5418 - val_accuracy: 0.8813\n",
            "Epoch 86/100\n",
            "20/20 [==============================] - 8s 333ms/step - loss: 0.0152 - accuracy: 0.9969 - val_loss: 0.4357 - val_accuracy: 0.9062\n",
            "Epoch 87/100\n",
            "20/20 [==============================] - 8s 344ms/step - loss: 0.0103 - accuracy: 0.9969 - val_loss: 0.4353 - val_accuracy: 0.9000\n",
            "Epoch 88/100\n",
            "20/20 [==============================] - 8s 333ms/step - loss: 0.0340 - accuracy: 0.9906 - val_loss: 0.5869 - val_accuracy: 0.8875\n",
            "Epoch 89/100\n",
            "20/20 [==============================] - 8s 345ms/step - loss: 0.0251 - accuracy: 0.9906 - val_loss: 0.7750 - val_accuracy: 0.8438\n",
            "Epoch 90/100\n",
            "20/20 [==============================] - 8s 335ms/step - loss: 0.0460 - accuracy: 0.9891 - val_loss: 0.3955 - val_accuracy: 0.9125\n",
            "Epoch 91/100\n",
            "20/20 [==============================] - 8s 332ms/step - loss: 0.0233 - accuracy: 0.9906 - val_loss: 0.4100 - val_accuracy: 0.8938\n",
            "Epoch 92/100\n",
            "20/20 [==============================] - 8s 361ms/step - loss: 0.0175 - accuracy: 0.9953 - val_loss: 0.3833 - val_accuracy: 0.9000\n",
            "Epoch 93/100\n",
            "20/20 [==============================] - 9s 418ms/step - loss: 0.0209 - accuracy: 0.9953 - val_loss: 0.3186 - val_accuracy: 0.9187\n",
            "Epoch 94/100\n",
            "20/20 [==============================] - 8s 333ms/step - loss: 0.0105 - accuracy: 0.9984 - val_loss: 0.3515 - val_accuracy: 0.9125\n",
            "Epoch 95/100\n",
            "20/20 [==============================] - 8s 356ms/step - loss: 0.0027 - accuracy: 1.0000 - val_loss: 0.3634 - val_accuracy: 0.9125\n",
            "Epoch 96/100\n",
            "20/20 [==============================] - 7s 334ms/step - loss: 0.0028 - accuracy: 1.0000 - val_loss: 0.3282 - val_accuracy: 0.9187\n",
            "Epoch 97/100\n",
            "20/20 [==============================] - 8s 347ms/step - loss: 0.0020 - accuracy: 1.0000 - val_loss: 0.3124 - val_accuracy: 0.9375\n",
            "Epoch 98/100\n",
            "20/20 [==============================] - 9s 417ms/step - loss: 0.0016 - accuracy: 1.0000 - val_loss: 0.3012 - val_accuracy: 0.9312\n",
            "Epoch 99/100\n",
            "20/20 [==============================] - 8s 332ms/step - loss: 0.0023 - accuracy: 1.0000 - val_loss: 0.3220 - val_accuracy: 0.9250\n",
            "Epoch 100/100\n",
            "20/20 [==============================] - 8s 345ms/step - loss: 0.0093 - accuracy: 0.9969 - val_loss: 0.3174 - val_accuracy: 0.9250\n"
          ]
        }
      ]
    },
    {
      "cell_type": "code",
      "source": [
        "model.save('/content/drive/MyDrive/resnet50v2dropout_indoor_outdoor_model.h5')"
      ],
      "metadata": {
        "id": "WoXsLK5Zdwxn",
        "colab": {
          "base_uri": "https://localhost:8080/"
        },
        "outputId": "28b48c72-85ab-474f-a8aa-364befad9f2d"
      },
      "execution_count": 11,
      "outputs": [
        {
          "output_type": "stream",
          "name": "stderr",
          "text": [
            "/usr/local/lib/python3.10/dist-packages/keras/src/engine/training.py:3103: UserWarning: You are saving your model as an HDF5 file via `model.save()`. This file format is considered legacy. We recommend using instead the native Keras format, e.g. `model.save('my_model.keras')`.\n",
            "  saving_api.save_model(\n"
          ]
        }
      ]
    },
    {
      "cell_type": "code",
      "source": [
        "model.evaluate(val_ds)"
      ],
      "metadata": {
        "colab": {
          "base_uri": "https://localhost:8080/"
        },
        "id": "xgfYJucIjdg9",
        "outputId": "f5c04411-e89c-4520-cbd6-91d470f985c9"
      },
      "execution_count": 43,
      "outputs": [
        {
          "output_type": "stream",
          "name": "stdout",
          "text": [
            "5/5 [==============================] - 1s 102ms/step - loss: 0.3174 - accuracy: 0.9250\n"
          ]
        },
        {
          "output_type": "execute_result",
          "data": {
            "text/plain": [
              "[0.3174486458301544, 0.925000011920929]"
            ]
          },
          "metadata": {},
          "execution_count": 43
        }
      ]
    }
  ]
}