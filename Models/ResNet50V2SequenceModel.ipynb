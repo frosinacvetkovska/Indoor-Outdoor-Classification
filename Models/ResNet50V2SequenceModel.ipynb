{
  "nbformat": 4,
  "nbformat_minor": 0,
  "metadata": {
    "colab": {
      "provenance": [],
      "gpuType": "T4",
      "authorship_tag": "ABX9TyOzXAnL4jFwGfOG2mNd7HHs"
    },
    "kernelspec": {
      "name": "python3",
      "display_name": "Python 3"
    },
    "language_info": {
      "name": "python"
    },
    "accelerator": "GPU"
  },
  "cells": [
    {
      "cell_type": "code",
      "source": [
        "import tensorflow as tf\n",
        "from tensorflow.keras import layers, models\n",
        "from tensorflow.keras.callbacks import ModelCheckpoint\n",
        "from tensorflow.keras.applications import ResNet50V2\n",
        "from tensorflow.keras.preprocessing import image\n",
        "import numpy as np\n",
        "import matplotlib.pyplot as plt\n",
        "import cv2"
      ],
      "metadata": {
        "id": "nzzKcYj9oDXK"
      },
      "execution_count": 1,
      "outputs": []
    },
    {
      "cell_type": "code",
      "source": [
        "from google.colab import drive\n",
        "drive.mount('/content/drive')"
      ],
      "metadata": {
        "id": "M3h8GV8ToDZd",
        "colab": {
          "base_uri": "https://localhost:8080/"
        },
        "outputId": "41706f55-5008-4977-c98f-58cf3372b6e2"
      },
      "execution_count": 2,
      "outputs": [
        {
          "output_type": "stream",
          "name": "stdout",
          "text": [
            "Mounted at /content/drive\n"
          ]
        }
      ]
    },
    {
      "cell_type": "code",
      "source": [
        "dataset_dir = '/content/drive/MyDrive/IndoorOutdoorDataset'"
      ],
      "metadata": {
        "id": "l6NdtNysoDb1"
      },
      "execution_count": 3,
      "outputs": []
    },
    {
      "cell_type": "code",
      "source": [
        "img_width, img_height = 224, 224\n",
        "batch_size = 32\n",
        "epochs = 100"
      ],
      "metadata": {
        "id": "E3NJE4tCoDeC"
      },
      "execution_count": 4,
      "outputs": []
    },
    {
      "cell_type": "code",
      "source": [
        "train_ds = tf.keras.utils.image_dataset_from_directory(\n",
        "    directory=dataset_dir,\n",
        "    labels='inferred',\n",
        "    label_mode='binary',\n",
        "    image_size=(img_width, img_height),\n",
        "    batch_size=batch_size,\n",
        "    validation_split=0.2,\n",
        "    seed=42,\n",
        "    shuffle=True,\n",
        "    subset='training',\n",
        ")"
      ],
      "metadata": {
        "id": "-0zoFjt3oDir",
        "colab": {
          "base_uri": "https://localhost:8080/"
        },
        "outputId": "f6cd94e2-e694-4e81-ff90-e044058b5523"
      },
      "execution_count": 5,
      "outputs": [
        {
          "output_type": "stream",
          "name": "stdout",
          "text": [
            "Found 800 files belonging to 2 classes.\n",
            "Using 640 files for training.\n"
          ]
        }
      ]
    },
    {
      "cell_type": "code",
      "source": [
        "val_ds = tf.keras.utils.image_dataset_from_directory(\n",
        "    directory=dataset_dir,\n",
        "    labels='inferred',\n",
        "    label_mode='binary',\n",
        "    image_size=(img_width, img_height),\n",
        "    batch_size=batch_size,\n",
        "    validation_split=0.2,\n",
        "    seed=42,\n",
        "    shuffle=True,\n",
        "    subset='validation',\n",
        ")"
      ],
      "metadata": {
        "id": "9wddTy-GoDkw",
        "colab": {
          "base_uri": "https://localhost:8080/"
        },
        "outputId": "8a6b4e90-ee0e-4395-b6c3-56e315d11cd5"
      },
      "execution_count": 6,
      "outputs": [
        {
          "output_type": "stream",
          "name": "stdout",
          "text": [
            "Found 800 files belonging to 2 classes.\n",
            "Using 160 files for validation.\n"
          ]
        }
      ]
    },
    {
      "cell_type": "code",
      "source": [
        "model = models.Sequential()\n",
        "model.add(ResNet50V2(weights='imagenet', include_top=False, input_shape=(img_width, img_height, 3), classes=2))\n",
        "model.add(layers.Flatten())\n",
        "model.add(layers.Dense(264, activation='relu'))\n",
        "model.add(layers.Dense(128, activation='relu'))\n",
        "model.add(layers.Dense(1, activation='sigmoid'))"
      ],
      "metadata": {
        "id": "2PIC0JNPoDnE",
        "colab": {
          "base_uri": "https://localhost:8080/"
        },
        "outputId": "5c94af8e-dead-49e2-f4d3-6513aa2333c8"
      },
      "execution_count": 7,
      "outputs": [
        {
          "output_type": "stream",
          "name": "stdout",
          "text": [
            "Downloading data from https://storage.googleapis.com/tensorflow/keras-applications/resnet/resnet50v2_weights_tf_dim_ordering_tf_kernels_notop.h5\n",
            "94668760/94668760 [==============================] - 3s 0us/step\n"
          ]
        }
      ]
    },
    {
      "cell_type": "code",
      "source": [
        "model.summary()"
      ],
      "metadata": {
        "id": "ksd4JinHoDpb",
        "colab": {
          "base_uri": "https://localhost:8080/"
        },
        "outputId": "d28e016f-0460-465a-88a6-f48b2f92f48f"
      },
      "execution_count": 8,
      "outputs": [
        {
          "output_type": "stream",
          "name": "stdout",
          "text": [
            "Model: \"sequential\"\n",
            "_________________________________________________________________\n",
            " Layer (type)                Output Shape              Param #   \n",
            "=================================================================\n",
            " resnet50v2 (Functional)     (None, 7, 7, 2048)        23564800  \n",
            "                                                                 \n",
            " flatten (Flatten)           (None, 100352)            0         \n",
            "                                                                 \n",
            " dense (Dense)               (None, 264)               26493192  \n",
            "                                                                 \n",
            " dense_1 (Dense)             (None, 128)               33920     \n",
            "                                                                 \n",
            " dense_2 (Dense)             (None, 1)                 129       \n",
            "                                                                 \n",
            "=================================================================\n",
            "Total params: 50092041 (191.09 MB)\n",
            "Trainable params: 50046601 (190.91 MB)\n",
            "Non-trainable params: 45440 (177.50 KB)\n",
            "_________________________________________________________________\n"
          ]
        }
      ]
    },
    {
      "cell_type": "code",
      "source": [
        "model.compile(optimizer='adam', loss='binary_crossentropy', metrics=['accuracy'])"
      ],
      "metadata": {
        "id": "dcgvbRZLoDrv"
      },
      "execution_count": 9,
      "outputs": []
    },
    {
      "cell_type": "code",
      "source": [
        "history = model.fit(\n",
        "    train_ds,\n",
        "    epochs=epochs,\n",
        "    validation_data=val_ds\n",
        ")"
      ],
      "metadata": {
        "id": "bfum387zoDuM",
        "colab": {
          "base_uri": "https://localhost:8080/"
        },
        "outputId": "2153ef94-d6c8-4d56-8ba6-280aab4f451c"
      },
      "execution_count": 10,
      "outputs": [
        {
          "output_type": "stream",
          "name": "stdout",
          "text": [
            "Epoch 1/100\n",
            "20/20 [==============================] - 135s 3s/step - loss: 1.4214 - accuracy: 0.8297 - val_loss: 215.0375 - val_accuracy: 0.5625\n",
            "Epoch 2/100\n",
            "20/20 [==============================] - 8s 357ms/step - loss: 0.3673 - accuracy: 0.8656 - val_loss: 96.4392 - val_accuracy: 0.5063\n",
            "Epoch 3/100\n",
            "20/20 [==============================] - 8s 329ms/step - loss: 0.6013 - accuracy: 0.8109 - val_loss: 158.8730 - val_accuracy: 0.5063\n",
            "Epoch 4/100\n",
            "20/20 [==============================] - 8s 343ms/step - loss: 0.7185 - accuracy: 0.7656 - val_loss: 93319152.0000 - val_accuracy: 0.5063\n",
            "Epoch 5/100\n",
            "20/20 [==============================] - 8s 354ms/step - loss: 0.8696 - accuracy: 0.7844 - val_loss: 1534.1287 - val_accuracy: 0.5000\n",
            "Epoch 6/100\n",
            "20/20 [==============================] - 8s 338ms/step - loss: 0.6210 - accuracy: 0.8328 - val_loss: 69115.9297 - val_accuracy: 0.5063\n",
            "Epoch 7/100\n",
            "20/20 [==============================] - 8s 348ms/step - loss: 0.6767 - accuracy: 0.8594 - val_loss: 1832819.6250 - val_accuracy: 0.5250\n",
            "Epoch 8/100\n",
            "20/20 [==============================] - 9s 420ms/step - loss: 0.9995 - accuracy: 0.8625 - val_loss: 6103209.0000 - val_accuracy: 0.5063\n",
            "Epoch 9/100\n",
            "20/20 [==============================] - 8s 334ms/step - loss: 0.8036 - accuracy: 0.8125 - val_loss: 573960.1875 - val_accuracy: 0.5125\n",
            "Epoch 10/100\n",
            "20/20 [==============================] - 8s 351ms/step - loss: 0.9287 - accuracy: 0.8328 - val_loss: 1907363.0000 - val_accuracy: 0.5063\n",
            "Epoch 11/100\n",
            "20/20 [==============================] - 8s 346ms/step - loss: 0.6158 - accuracy: 0.8641 - val_loss: 333415.0312 - val_accuracy: 0.5063\n",
            "Epoch 12/100\n",
            "20/20 [==============================] - 8s 331ms/step - loss: 0.6257 - accuracy: 0.9141 - val_loss: 3317.4265 - val_accuracy: 0.5875\n",
            "Epoch 13/100\n",
            "20/20 [==============================] - 8s 349ms/step - loss: 0.4969 - accuracy: 0.9094 - val_loss: 165.2249 - val_accuracy: 0.3688\n",
            "Epoch 14/100\n",
            "20/20 [==============================] - 8s 336ms/step - loss: 0.4005 - accuracy: 0.9203 - val_loss: 4102.8101 - val_accuracy: 0.5250\n",
            "Epoch 15/100\n",
            "20/20 [==============================] - 8s 346ms/step - loss: 0.7446 - accuracy: 0.9016 - val_loss: 0.5201 - val_accuracy: 0.8313\n",
            "Epoch 16/100\n",
            "20/20 [==============================] - 8s 337ms/step - loss: 0.3150 - accuracy: 0.9187 - val_loss: 0.4771 - val_accuracy: 0.8313\n",
            "Epoch 17/100\n",
            "20/20 [==============================] - 8s 348ms/step - loss: 0.2724 - accuracy: 0.9187 - val_loss: 319.1677 - val_accuracy: 0.6125\n",
            "Epoch 18/100\n",
            "20/20 [==============================] - 7s 332ms/step - loss: 0.6352 - accuracy: 0.9250 - val_loss: 481.8791 - val_accuracy: 0.5938\n",
            "Epoch 19/100\n",
            "20/20 [==============================] - 8s 342ms/step - loss: 0.4467 - accuracy: 0.9359 - val_loss: 195.2508 - val_accuracy: 0.6625\n",
            "Epoch 20/100\n",
            "20/20 [==============================] - 8s 347ms/step - loss: 0.1935 - accuracy: 0.9250 - val_loss: 22.9612 - val_accuracy: 0.7625\n",
            "Epoch 21/100\n",
            "20/20 [==============================] - 7s 328ms/step - loss: 0.2843 - accuracy: 0.9469 - val_loss: 20.1002 - val_accuracy: 0.7500\n",
            "Epoch 22/100\n",
            "20/20 [==============================] - 8s 336ms/step - loss: 0.2259 - accuracy: 0.9531 - val_loss: 0.6911 - val_accuracy: 0.8438\n",
            "Epoch 23/100\n",
            "20/20 [==============================] - 8s 352ms/step - loss: 0.2090 - accuracy: 0.9688 - val_loss: 0.7010 - val_accuracy: 0.7625\n",
            "Epoch 24/100\n",
            "20/20 [==============================] - 8s 337ms/step - loss: 0.1253 - accuracy: 0.9750 - val_loss: 1.7987 - val_accuracy: 0.7250\n",
            "Epoch 25/100\n",
            "20/20 [==============================] - 8s 361ms/step - loss: 0.3878 - accuracy: 0.9594 - val_loss: 0.9857 - val_accuracy: 0.7063\n",
            "Epoch 26/100\n",
            "20/20 [==============================] - 8s 333ms/step - loss: 0.2960 - accuracy: 0.9547 - val_loss: 1.9430 - val_accuracy: 0.7812\n",
            "Epoch 27/100\n",
            "20/20 [==============================] - 7s 329ms/step - loss: 0.1473 - accuracy: 0.9594 - val_loss: 38.0015 - val_accuracy: 0.7625\n",
            "Epoch 28/100\n",
            "20/20 [==============================] - 8s 351ms/step - loss: 0.7662 - accuracy: 0.9219 - val_loss: 3.3703 - val_accuracy: 0.7812\n",
            "Epoch 29/100\n",
            "20/20 [==============================] - 8s 345ms/step - loss: 0.7312 - accuracy: 0.9141 - val_loss: 35.9054 - val_accuracy: 0.6000\n",
            "Epoch 30/100\n",
            "20/20 [==============================] - 8s 333ms/step - loss: 0.6849 - accuracy: 0.8438 - val_loss: 260.9421 - val_accuracy: 0.5125\n",
            "Epoch 31/100\n",
            "20/20 [==============================] - 8s 336ms/step - loss: 1.0530 - accuracy: 0.6812 - val_loss: 16.3956 - val_accuracy: 0.5500\n",
            "Epoch 32/100\n",
            "20/20 [==============================] - 8s 357ms/step - loss: 0.6205 - accuracy: 0.7500 - val_loss: 48.6022 - val_accuracy: 0.5875\n",
            "Epoch 33/100\n",
            "20/20 [==============================] - 8s 340ms/step - loss: 0.4481 - accuracy: 0.8172 - val_loss: 54.0125 - val_accuracy: 0.6187\n",
            "Epoch 34/100\n",
            "20/20 [==============================] - 8s 353ms/step - loss: 0.4272 - accuracy: 0.8109 - val_loss: 13.1432 - val_accuracy: 0.7312\n",
            "Epoch 35/100\n",
            "20/20 [==============================] - 8s 348ms/step - loss: 0.4124 - accuracy: 0.8516 - val_loss: 5.4882 - val_accuracy: 0.7563\n",
            "Epoch 36/100\n",
            "20/20 [==============================] - 8s 331ms/step - loss: 0.4391 - accuracy: 0.8672 - val_loss: 19.5781 - val_accuracy: 0.6500\n",
            "Epoch 37/100\n",
            "20/20 [==============================] - 8s 355ms/step - loss: 0.3325 - accuracy: 0.8516 - val_loss: 6.0433 - val_accuracy: 0.7125\n",
            "Epoch 38/100\n",
            "20/20 [==============================] - 7s 332ms/step - loss: 0.4631 - accuracy: 0.8547 - val_loss: 35.6801 - val_accuracy: 0.6938\n",
            "Epoch 39/100\n",
            "20/20 [==============================] - 8s 338ms/step - loss: 0.3423 - accuracy: 0.8703 - val_loss: 18.8462 - val_accuracy: 0.7375\n",
            "Epoch 40/100\n",
            "20/20 [==============================] - 9s 418ms/step - loss: 0.3175 - accuracy: 0.8766 - val_loss: 210.8998 - val_accuracy: 0.7500\n",
            "Epoch 41/100\n",
            "20/20 [==============================] - 8s 333ms/step - loss: 0.3980 - accuracy: 0.8609 - val_loss: 182.8774 - val_accuracy: 0.7000\n",
            "Epoch 42/100\n",
            "20/20 [==============================] - 8s 338ms/step - loss: 0.3968 - accuracy: 0.8828 - val_loss: 6.7742 - val_accuracy: 0.7937\n",
            "Epoch 43/100\n",
            "20/20 [==============================] - 8s 355ms/step - loss: 0.2477 - accuracy: 0.9000 - val_loss: 0.6192 - val_accuracy: 0.8250\n",
            "Epoch 44/100\n",
            "20/20 [==============================] - 8s 336ms/step - loss: 0.1964 - accuracy: 0.9250 - val_loss: 1.8189 - val_accuracy: 0.8188\n",
            "Epoch 45/100\n",
            "20/20 [==============================] - 8s 337ms/step - loss: 0.1725 - accuracy: 0.9328 - val_loss: 2.6927 - val_accuracy: 0.8000\n",
            "Epoch 46/100\n",
            "20/20 [==============================] - 9s 417ms/step - loss: 0.1574 - accuracy: 0.9406 - val_loss: 0.7745 - val_accuracy: 0.8062\n",
            "Epoch 47/100\n",
            "20/20 [==============================] - 7s 330ms/step - loss: 0.1467 - accuracy: 0.9328 - val_loss: 2.0595 - val_accuracy: 0.7688\n",
            "Epoch 48/100\n",
            "20/20 [==============================] - 8s 343ms/step - loss: 0.1232 - accuracy: 0.9594 - val_loss: 1.0284 - val_accuracy: 0.7875\n",
            "Epoch 49/100\n",
            "20/20 [==============================] - 7s 333ms/step - loss: 0.1228 - accuracy: 0.9641 - val_loss: 0.6683 - val_accuracy: 0.8062\n",
            "Epoch 50/100\n",
            "20/20 [==============================] - 8s 345ms/step - loss: 0.0924 - accuracy: 0.9719 - val_loss: 0.6661 - val_accuracy: 0.7937\n",
            "Epoch 51/100\n",
            "20/20 [==============================] - 9s 415ms/step - loss: 0.1016 - accuracy: 0.9625 - val_loss: 0.5537 - val_accuracy: 0.8125\n",
            "Epoch 52/100\n",
            "20/20 [==============================] - 8s 333ms/step - loss: 0.1262 - accuracy: 0.9563 - val_loss: 0.5662 - val_accuracy: 0.7937\n",
            "Epoch 53/100\n",
            "20/20 [==============================] - 8s 354ms/step - loss: 0.0791 - accuracy: 0.9750 - val_loss: 0.5709 - val_accuracy: 0.8313\n",
            "Epoch 54/100\n",
            "20/20 [==============================] - 8s 333ms/step - loss: 0.0775 - accuracy: 0.9734 - val_loss: 0.6379 - val_accuracy: 0.8313\n",
            "Epoch 55/100\n",
            "20/20 [==============================] - 8s 336ms/step - loss: 0.1030 - accuracy: 0.9688 - val_loss: 0.7252 - val_accuracy: 0.7812\n",
            "Epoch 56/100\n",
            "20/20 [==============================] - 8s 355ms/step - loss: 0.0846 - accuracy: 0.9750 - val_loss: 0.6321 - val_accuracy: 0.8250\n",
            "Epoch 57/100\n",
            "20/20 [==============================] - 8s 331ms/step - loss: 0.0541 - accuracy: 0.9891 - val_loss: 0.5806 - val_accuracy: 0.8562\n",
            "Epoch 58/100\n",
            "20/20 [==============================] - 8s 340ms/step - loss: 0.2843 - accuracy: 0.9203 - val_loss: 39.8571 - val_accuracy: 0.6187\n",
            "Epoch 59/100\n",
            "20/20 [==============================] - 8s 353ms/step - loss: 0.6229 - accuracy: 0.8266 - val_loss: 27.7276 - val_accuracy: 0.7063\n",
            "Epoch 60/100\n",
            "20/20 [==============================] - 8s 332ms/step - loss: 0.5046 - accuracy: 0.8250 - val_loss: 25.9888 - val_accuracy: 0.7937\n",
            "Epoch 61/100\n",
            "20/20 [==============================] - 8s 341ms/step - loss: 0.4785 - accuracy: 0.8672 - val_loss: 44.8179 - val_accuracy: 0.6562\n",
            "Epoch 62/100\n",
            "20/20 [==============================] - 8s 350ms/step - loss: 0.4800 - accuracy: 0.8844 - val_loss: 60.6169 - val_accuracy: 0.6687\n",
            "Epoch 63/100\n",
            "20/20 [==============================] - 7s 333ms/step - loss: 0.3764 - accuracy: 0.8891 - val_loss: 14220.8643 - val_accuracy: 0.5250\n",
            "Epoch 64/100\n",
            "20/20 [==============================] - 8s 349ms/step - loss: 0.5719 - accuracy: 0.7812 - val_loss: 9825.7725 - val_accuracy: 0.6062\n",
            "Epoch 65/100\n",
            "20/20 [==============================] - 8s 355ms/step - loss: 0.4295 - accuracy: 0.8438 - val_loss: 1264.4229 - val_accuracy: 0.6375\n",
            "Epoch 66/100\n",
            "20/20 [==============================] - 8s 333ms/step - loss: 0.7314 - accuracy: 0.8438 - val_loss: 196.5230 - val_accuracy: 0.7063\n",
            "Epoch 67/100\n",
            "20/20 [==============================] - 8s 342ms/step - loss: 0.4190 - accuracy: 0.8375 - val_loss: 1.4802 - val_accuracy: 0.5000\n",
            "Epoch 68/100\n",
            "20/20 [==============================] - 8s 350ms/step - loss: 0.4279 - accuracy: 0.8391 - val_loss: 0.9735 - val_accuracy: 0.5688\n",
            "Epoch 69/100\n",
            "20/20 [==============================] - 8s 332ms/step - loss: 0.3460 - accuracy: 0.8766 - val_loss: 1.4240 - val_accuracy: 0.5312\n",
            "Epoch 70/100\n",
            "20/20 [==============================] - 9s 417ms/step - loss: 0.3666 - accuracy: 0.8844 - val_loss: 1.0313 - val_accuracy: 0.6313\n",
            "Epoch 71/100\n",
            "20/20 [==============================] - 8s 332ms/step - loss: 0.2811 - accuracy: 0.8922 - val_loss: 0.6454 - val_accuracy: 0.7375\n",
            "Epoch 72/100\n",
            "20/20 [==============================] - 8s 333ms/step - loss: 0.2398 - accuracy: 0.9141 - val_loss: 0.7266 - val_accuracy: 0.7250\n",
            "Epoch 73/100\n",
            "20/20 [==============================] - 8s 354ms/step - loss: 0.2858 - accuracy: 0.9000 - val_loss: 2.7949 - val_accuracy: 0.8375\n",
            "Epoch 74/100\n",
            "20/20 [==============================] - 7s 332ms/step - loss: 0.1757 - accuracy: 0.9391 - val_loss: 0.8116 - val_accuracy: 0.7937\n",
            "Epoch 75/100\n",
            "20/20 [==============================] - 8s 340ms/step - loss: 0.1813 - accuracy: 0.9422 - val_loss: 0.5243 - val_accuracy: 0.8062\n",
            "Epoch 76/100\n",
            "20/20 [==============================] - 7s 333ms/step - loss: 0.4138 - accuracy: 0.9312 - val_loss: 0.9151 - val_accuracy: 0.7000\n",
            "Epoch 77/100\n",
            "20/20 [==============================] - 8s 346ms/step - loss: 0.1641 - accuracy: 0.9484 - val_loss: 0.4270 - val_accuracy: 0.8313\n",
            "Epoch 78/100\n",
            "20/20 [==============================] - 8s 333ms/step - loss: 0.1556 - accuracy: 0.9469 - val_loss: 0.3383 - val_accuracy: 0.9000\n",
            "Epoch 79/100\n",
            "20/20 [==============================] - 8s 345ms/step - loss: 0.1161 - accuracy: 0.9578 - val_loss: 0.5387 - val_accuracy: 0.8000\n",
            "Epoch 80/100\n",
            "20/20 [==============================] - 7s 330ms/step - loss: 0.0987 - accuracy: 0.9656 - val_loss: 0.3468 - val_accuracy: 0.8813\n",
            "Epoch 81/100\n",
            "20/20 [==============================] - 8s 345ms/step - loss: 0.0764 - accuracy: 0.9734 - val_loss: 0.4210 - val_accuracy: 0.8438\n",
            "Epoch 82/100\n",
            "20/20 [==============================] - 7s 330ms/step - loss: 0.0624 - accuracy: 0.9812 - val_loss: 0.3508 - val_accuracy: 0.8875\n",
            "Epoch 83/100\n",
            "20/20 [==============================] - 8s 339ms/step - loss: 0.0700 - accuracy: 0.9828 - val_loss: 0.6039 - val_accuracy: 0.8125\n",
            "Epoch 84/100\n",
            "20/20 [==============================] - 8s 352ms/step - loss: 0.0506 - accuracy: 0.9875 - val_loss: 0.8198 - val_accuracy: 0.7750\n",
            "Epoch 85/100\n",
            "20/20 [==============================] - 8s 332ms/step - loss: 0.0894 - accuracy: 0.9719 - val_loss: 1.0902 - val_accuracy: 0.7000\n",
            "Epoch 86/100\n",
            "20/20 [==============================] - 8s 358ms/step - loss: 0.0626 - accuracy: 0.9844 - val_loss: 0.4206 - val_accuracy: 0.8562\n",
            "Epoch 87/100\n",
            "20/20 [==============================] - 8s 333ms/step - loss: 0.0507 - accuracy: 0.9781 - val_loss: 0.4816 - val_accuracy: 0.8500\n",
            "Epoch 88/100\n",
            "20/20 [==============================] - 8s 343ms/step - loss: 0.0570 - accuracy: 0.9766 - val_loss: 0.3317 - val_accuracy: 0.8875\n",
            "Epoch 89/100\n",
            "20/20 [==============================] - 8s 339ms/step - loss: 0.0532 - accuracy: 0.9844 - val_loss: 0.9062 - val_accuracy: 0.8500\n",
            "Epoch 90/100\n",
            "20/20 [==============================] - 8s 339ms/step - loss: 0.1225 - accuracy: 0.9750 - val_loss: 1.1182 - val_accuracy: 0.7250\n",
            "Epoch 91/100\n",
            "20/20 [==============================] - 8s 347ms/step - loss: 0.1167 - accuracy: 0.9672 - val_loss: 0.5417 - val_accuracy: 0.8562\n",
            "Epoch 92/100\n",
            "20/20 [==============================] - 8s 336ms/step - loss: 0.0695 - accuracy: 0.9781 - val_loss: 0.4356 - val_accuracy: 0.8625\n",
            "Epoch 93/100\n",
            "20/20 [==============================] - 8s 352ms/step - loss: 0.0615 - accuracy: 0.9781 - val_loss: 0.2808 - val_accuracy: 0.8875\n",
            "Epoch 94/100\n",
            "20/20 [==============================] - 8s 331ms/step - loss: 0.0493 - accuracy: 0.9844 - val_loss: 0.5437 - val_accuracy: 0.8375\n",
            "Epoch 95/100\n",
            "20/20 [==============================] - 8s 344ms/step - loss: 0.0394 - accuracy: 0.9859 - val_loss: 0.3355 - val_accuracy: 0.8875\n",
            "Epoch 96/100\n",
            "20/20 [==============================] - 7s 331ms/step - loss: 0.0412 - accuracy: 0.9859 - val_loss: 0.5385 - val_accuracy: 0.8687\n",
            "Epoch 97/100\n",
            "20/20 [==============================] - 8s 331ms/step - loss: 0.0278 - accuracy: 0.9922 - val_loss: 0.6102 - val_accuracy: 0.8438\n",
            "Epoch 98/100\n",
            "20/20 [==============================] - 8s 342ms/step - loss: 0.0264 - accuracy: 0.9953 - val_loss: 0.8311 - val_accuracy: 0.7750\n",
            "Epoch 99/100\n",
            "20/20 [==============================] - 8s 335ms/step - loss: 0.0299 - accuracy: 0.9891 - val_loss: 0.3423 - val_accuracy: 0.8938\n",
            "Epoch 100/100\n",
            "20/20 [==============================] - 8s 340ms/step - loss: 0.0248 - accuracy: 0.9937 - val_loss: 0.2910 - val_accuracy: 0.9187\n"
          ]
        }
      ]
    },
    {
      "cell_type": "code",
      "source": [
        "model.save('/content/drive/MyDrive/resnet50v2sequence_indoor_outdoor_model.h5')"
      ],
      "metadata": {
        "id": "qQTZlCs8oDwp",
        "colab": {
          "base_uri": "https://localhost:8080/"
        },
        "outputId": "c6d5ebfb-11b9-4dab-957b-e558ab242ab7"
      },
      "execution_count": 11,
      "outputs": [
        {
          "output_type": "stream",
          "name": "stderr",
          "text": [
            "/usr/local/lib/python3.10/dist-packages/keras/src/engine/training.py:3103: UserWarning: You are saving your model as an HDF5 file via `model.save()`. This file format is considered legacy. We recommend using instead the native Keras format, e.g. `model.save('my_model.keras')`.\n",
            "  saving_api.save_model(\n"
          ]
        }
      ]
    }
  ]
}