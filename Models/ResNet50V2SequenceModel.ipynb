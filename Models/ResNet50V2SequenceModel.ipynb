{
  "nbformat": 4,
  "nbformat_minor": 0,
  "metadata": {
    "colab": {
      "provenance": [],
      "authorship_tag": "ABX9TyMcCo3KvBqv6wbItqvaDjEm"
    },
    "kernelspec": {
      "name": "python3",
      "display_name": "Python 3"
    },
    "language_info": {
      "name": "python"
    }
  },
  "cells": [
    {
      "cell_type": "code",
      "source": [
        "import tensorflow as tf\n",
        "from tensorflow.keras import layers, models\n",
        "from tensorflow.keras.callbacks import ModelCheckpoint\n",
        "from tensorflow.keras.applications import ResNet50V2\n",
        "from tensorflow.keras.preprocessing import image\n",
        "import numpy as np\n",
        "import matplotlib.pyplot as plt\n",
        "import cv2"
      ],
      "metadata": {
        "id": "nzzKcYj9oDXK"
      },
      "execution_count": null,
      "outputs": []
    },
    {
      "cell_type": "code",
      "source": [
        "from google.colab import drive\n",
        "drive.mount('/content/drive')"
      ],
      "metadata": {
        "id": "M3h8GV8ToDZd",
        "colab": {
          "base_uri": "https://localhost:8080/"
        },
        "outputId": "d3aeb02e-c13f-4af4-e3cb-48d6f4479c77"
      },
      "execution_count": null,
      "outputs": [
        {
          "output_type": "stream",
          "name": "stdout",
          "text": [
            "Drive already mounted at /content/drive; to attempt to forcibly remount, call drive.mount(\"/content/drive\", force_remount=True).\n"
          ]
        }
      ]
    },
    {
      "cell_type": "code",
      "source": [
        "dataset_dir = '/content/drive/MyDrive/IndoorOutdoorDataset'"
      ],
      "metadata": {
        "id": "l6NdtNysoDb1"
      },
      "execution_count": null,
      "outputs": []
    },
    {
      "cell_type": "code",
      "source": [
        "img_width, img_height = 224, 224\n",
        "batch_size = 32\n",
        "epochs = 10"
      ],
      "metadata": {
        "id": "E3NJE4tCoDeC"
      },
      "execution_count": null,
      "outputs": []
    },
    {
      "cell_type": "code",
      "source": [
        "train_ds = tf.keras.utils.image_dataset_from_directory(\n",
        "    directory=dataset_dir,\n",
        "    labels='inferred',\n",
        "    label_mode='binary',\n",
        "    image_size=(img_width, img_height),\n",
        "    batch_size=batch_size,\n",
        "    validation_split=0.2,\n",
        "    seed=42,\n",
        "    shuffle=True,\n",
        "    subset='training',\n",
        ")"
      ],
      "metadata": {
        "id": "-0zoFjt3oDir",
        "colab": {
          "base_uri": "https://localhost:8080/"
        },
        "outputId": "eb2d07db-3bd9-4b0c-d070-ecc229f56295"
      },
      "execution_count": null,
      "outputs": [
        {
          "output_type": "stream",
          "name": "stdout",
          "text": [
            "Found 800 files belonging to 2 classes.\n",
            "Using 640 files for training.\n"
          ]
        }
      ]
    },
    {
      "cell_type": "code",
      "source": [
        "val_ds = tf.keras.utils.image_dataset_from_directory(\n",
        "    directory=dataset_dir,\n",
        "    labels='inferred',\n",
        "    label_mode='binary',\n",
        "    image_size=(img_width, img_height),\n",
        "    batch_size=batch_size,\n",
        "    validation_split=0.2,\n",
        "    seed=42,\n",
        "    shuffle=True,\n",
        "    subset='validation',\n",
        ")"
      ],
      "metadata": {
        "id": "9wddTy-GoDkw",
        "colab": {
          "base_uri": "https://localhost:8080/"
        },
        "outputId": "cce1df15-1340-4d88-c1e8-89c006cb0f3d"
      },
      "execution_count": null,
      "outputs": [
        {
          "output_type": "stream",
          "name": "stdout",
          "text": [
            "Found 800 files belonging to 2 classes.\n",
            "Using 160 files for validation.\n"
          ]
        }
      ]
    },
    {
      "cell_type": "code",
      "source": [
        "model = models.Sequential()\n",
        "model.add(ResNet50V2(weights='imagenet', include_top=False, input_shape=(img_width, img_height, 3), classes=2))\n",
        "model.add(layers.Flatten())\n",
        "model.add(layers.Dense(256, activation='relu'))\n",
        "model.add(layers.Dense(128, activation='relu'))\n",
        "model.add(layers.Dense(64, activation='relu'))\n",
        "model.add(layers.Dense(1, activation='sigmoid'))"
      ],
      "metadata": {
        "id": "2PIC0JNPoDnE",
        "colab": {
          "base_uri": "https://localhost:8080/"
        },
        "outputId": "8c256595-29ca-4013-d4ae-799502219d49"
      },
      "execution_count": null,
      "outputs": [
        {
          "output_type": "stream",
          "name": "stdout",
          "text": [
            "Downloading data from https://storage.googleapis.com/tensorflow/keras-applications/resnet/resnet50v2_weights_tf_dim_ordering_tf_kernels_notop.h5\n",
            "94668760/94668760 [==============================] - 1s 0us/step\n"
          ]
        }
      ]
    },
    {
      "cell_type": "code",
      "source": [
        "model.summary()"
      ],
      "metadata": {
        "id": "ksd4JinHoDpb",
        "colab": {
          "base_uri": "https://localhost:8080/"
        },
        "outputId": "581b3bce-3a52-4607-a173-0a6dc5ccf0f8"
      },
      "execution_count": null,
      "outputs": [
        {
          "output_type": "stream",
          "name": "stdout",
          "text": [
            "Model: \"sequential\"\n",
            "_________________________________________________________________\n",
            " Layer (type)                Output Shape              Param #   \n",
            "=================================================================\n",
            " resnet50v2 (Functional)     (None, 7, 7, 2048)        23564800  \n",
            "                                                                 \n",
            " flatten (Flatten)           (None, 100352)            0         \n",
            "                                                                 \n",
            " dense (Dense)               (None, 256)               25690368  \n",
            "                                                                 \n",
            " dense_1 (Dense)             (None, 128)               32896     \n",
            "                                                                 \n",
            " dense_2 (Dense)             (None, 64)                8256      \n",
            "                                                                 \n",
            " dense_3 (Dense)             (None, 1)                 65        \n",
            "                                                                 \n",
            "=================================================================\n",
            "Total params: 49296385 (188.05 MB)\n",
            "Trainable params: 49250945 (187.88 MB)\n",
            "Non-trainable params: 45440 (177.50 KB)\n",
            "_________________________________________________________________\n"
          ]
        }
      ]
    },
    {
      "cell_type": "code",
      "source": [
        "model.compile(optimizer='adam', loss='binary_crossentropy', metrics=['accuracy'])"
      ],
      "metadata": {
        "id": "dcgvbRZLoDrv"
      },
      "execution_count": null,
      "outputs": []
    },
    {
      "cell_type": "code",
      "source": [
        "history = model.fit(\n",
        "    train_ds,\n",
        "    epochs=epochs,\n",
        "    validation_data=val_ds,\n",
        ")"
      ],
      "metadata": {
        "id": "bfum387zoDuM",
        "colab": {
          "base_uri": "https://localhost:8080/"
        },
        "outputId": "75271fac-04ed-497c-82cb-c058ac3c316f"
      },
      "execution_count": null,
      "outputs": [
        {
          "output_type": "stream",
          "name": "stdout",
          "text": [
            "Epoch 1/10\n",
            "20/20 [==============================] - 331s 15s/step - loss: 0.8096 - accuracy: 0.8281 - val_loss: 287.5085 - val_accuracy: 0.6625\n",
            "Epoch 2/10\n",
            "20/20 [==============================] - 293s 15s/step - loss: 0.2809 - accuracy: 0.9172 - val_loss: 3023.7878 - val_accuracy: 0.5063\n",
            "Epoch 3/10\n",
            "20/20 [==============================] - 288s 14s/step - loss: 0.4080 - accuracy: 0.8813 - val_loss: 635739.0000 - val_accuracy: 0.4938\n",
            "Epoch 4/10\n",
            "20/20 [==============================] - 292s 15s/step - loss: 0.5737 - accuracy: 0.8906 - val_loss: 267278.7500 - val_accuracy: 0.4938\n",
            "Epoch 5/10\n",
            "20/20 [==============================] - 292s 15s/step - loss: 0.9304 - accuracy: 0.8172 - val_loss: 17758412.0000 - val_accuracy: 0.5063\n",
            "Epoch 6/10\n",
            "20/20 [==============================] - 293s 15s/step - loss: 0.6164 - accuracy: 0.8031 - val_loss: 439.1665 - val_accuracy: 0.6062\n",
            "Epoch 7/10\n",
            "20/20 [==============================] - 285s 14s/step - loss: 0.4225 - accuracy: 0.8687 - val_loss: 3695.1941 - val_accuracy: 0.4812\n",
            "Epoch 8/10\n",
            "20/20 [==============================] - 290s 15s/step - loss: 0.5031 - accuracy: 0.8719 - val_loss: 2.6053 - val_accuracy: 0.7875\n",
            "Epoch 9/10\n",
            "20/20 [==============================] - 293s 15s/step - loss: 0.4096 - accuracy: 0.8781 - val_loss: 112.0231 - val_accuracy: 0.6000\n",
            "Epoch 10/10\n",
            "20/20 [==============================] - 290s 15s/step - loss: 0.4334 - accuracy: 0.8734 - val_loss: 82.7252 - val_accuracy: 0.6313\n"
          ]
        }
      ]
    },
    {
      "cell_type": "code",
      "source": [
        "model.save('/content/drive/MyDrive/resnet50v2sequence_indoor_outdoor_model.h5')"
      ],
      "metadata": {
        "id": "qQTZlCs8oDwp",
        "colab": {
          "base_uri": "https://localhost:8080/"
        },
        "outputId": "d3a6cb08-a21e-4113-eab4-e9dffc31af88"
      },
      "execution_count": null,
      "outputs": [
        {
          "output_type": "stream",
          "name": "stderr",
          "text": [
            "/usr/local/lib/python3.10/dist-packages/keras/src/engine/training.py:3103: UserWarning: You are saving your model as an HDF5 file via `model.save()`. This file format is considered legacy. We recommend using instead the native Keras format, e.g. `model.save('my_model.keras')`.\n",
            "  saving_api.save_model(\n"
          ]
        }
      ]
    }
  ]
}