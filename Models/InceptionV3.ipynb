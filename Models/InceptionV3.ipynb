{
  "cells": [
    {
      "cell_type": "code",
      "execution_count": null,
      "metadata": {
        "id": "f7JPuTbCLBO-"
      },
      "outputs": [],
      "source": [
        "import tensorflow as tf\n",
        "from tensorflow.keras import layers, models\n",
        "from tensorflow.keras.applications import InceptionV3\n",
        "from tensorflow.keras.preprocessing import image\n",
        "from tensorflow.keras.optimizers import Adam\n",
        "from tensorflow.keras.losses import BinaryCrossentropy\n",
        "from tensorflow.keras.metrics import Accuracy\n",
        "from tensorflow.keras.callbacks import ModelCheckpoint\n",
        "import numpy as np\n",
        "import matplotlib.pyplot as plt"
      ]
    },
    {
      "cell_type": "code",
      "execution_count": null,
      "metadata": {
        "colab": {
          "base_uri": "https://localhost:8080/"
        },
        "id": "HBYLGhvSLE7F",
        "outputId": "99ad25f1-c08e-469b-c1ef-751e780cdc13"
      },
      "outputs": [
        {
          "output_type": "stream",
          "name": "stdout",
          "text": [
            "Mounted at /content/drive\n"
          ]
        }
      ],
      "source": [
        "from google.colab import drive\n",
        "drive.mount('/content/drive')"
      ]
    },
    {
      "cell_type": "code",
      "execution_count": null,
      "metadata": {
        "id": "tqzzi_hKLE9I"
      },
      "outputs": [],
      "source": [
        "dataset_dir = '/content/drive/MyDrive/IndoorOutdoorDataset'"
      ]
    },
    {
      "cell_type": "code",
      "execution_count": null,
      "metadata": {
        "id": "kHaMcj5YLE_C"
      },
      "outputs": [],
      "source": [
        "img_width, img_height = 224, 224\n",
        "batch_size = 32\n",
        "epochs = 100"
      ]
    },
    {
      "cell_type": "code",
      "execution_count": null,
      "metadata": {
        "colab": {
          "base_uri": "https://localhost:8080/"
        },
        "id": "RAadLe-xLFBY",
        "outputId": "b2870404-6e2f-4807-fd8f-5b3ed2d56a6c"
      },
      "outputs": [
        {
          "output_type": "stream",
          "name": "stdout",
          "text": [
            "Found 800 files belonging to 2 classes.\n",
            "Using 640 files for training.\n"
          ]
        }
      ],
      "source": [
        "train_ds = tf.keras.utils.image_dataset_from_directory(\n",
        "    directory=dataset_dir,\n",
        "    labels='inferred',\n",
        "    label_mode='binary',\n",
        "    image_size=(img_width, img_height),\n",
        "    batch_size=batch_size,\n",
        "    validation_split=0.2,\n",
        "    seed=42,\n",
        "    shuffle=True,\n",
        "    subset='training',\n",
        ")"
      ]
    },
    {
      "cell_type": "code",
      "execution_count": null,
      "metadata": {
        "colab": {
          "base_uri": "https://localhost:8080/"
        },
        "id": "kqfFl6g7LFDW",
        "outputId": "9f0239d1-88ba-42b5-f96d-60f1e1a43b5c"
      },
      "outputs": [
        {
          "output_type": "stream",
          "name": "stdout",
          "text": [
            "Found 800 files belonging to 2 classes.\n",
            "Using 160 files for validation.\n"
          ]
        }
      ],
      "source": [
        "val_ds = tf.keras.utils.image_dataset_from_directory(\n",
        "    directory=dataset_dir,\n",
        "    labels='inferred',\n",
        "    label_mode='binary',\n",
        "    image_size=(img_width, img_height),\n",
        "    batch_size=batch_size,\n",
        "    validation_split=0.2,\n",
        "    seed=42,\n",
        "    shuffle=True,\n",
        "    subset='validation',\n",
        ")"
      ]
    },
    {
      "cell_type": "code",
      "execution_count": null,
      "metadata": {
        "id": "3Ba2yIaBLFJk",
        "colab": {
          "base_uri": "https://localhost:8080/"
        },
        "outputId": "de2a5880-d668-442f-a372-a4d2b4084264"
      },
      "outputs": [
        {
          "output_type": "stream",
          "name": "stdout",
          "text": [
            "Downloading data from https://storage.googleapis.com/tensorflow/keras-applications/inception_v3/inception_v3_weights_tf_dim_ordering_tf_kernels_notop.h5\n",
            "87910968/87910968 [==============================] - 5s 0us/step\n"
          ]
        }
      ],
      "source": [
        "model = models.Sequential()\n",
        "model.add(InceptionV3(weights='imagenet', include_top=False, input_shape=(img_width, img_height, 3), classes=2)),\n",
        "model.add(layers.Flatten())\n",
        "model.add(layers.Dense(256, activation='relu')),\n",
        "model.add(layers.Dense(128, activation='relu')),\n",
        "model.add(layers.Dense(1, activation='sigmoid'))\n"
      ]
    },
    {
      "cell_type": "code",
      "execution_count": null,
      "metadata": {
        "colab": {
          "base_uri": "https://localhost:8080/"
        },
        "id": "r77ejIAYLFLU",
        "outputId": "5a88c57e-c729-44ad-940b-67c2a48f52d9"
      },
      "outputs": [
        {
          "output_type": "stream",
          "name": "stdout",
          "text": [
            "Model: \"sequential\"\n",
            "_________________________________________________________________\n",
            " Layer (type)                Output Shape              Param #   \n",
            "=================================================================\n",
            " inception_v3 (Functional)   (None, 5, 5, 2048)        21802784  \n",
            "                                                                 \n",
            " flatten (Flatten)           (None, 51200)             0         \n",
            "                                                                 \n",
            " dense (Dense)               (None, 256)               13107456  \n",
            "                                                                 \n",
            " dense_1 (Dense)             (None, 128)               32896     \n",
            "                                                                 \n",
            " dense_2 (Dense)             (None, 1)                 129       \n",
            "                                                                 \n",
            "=================================================================\n",
            "Total params: 34943265 (133.30 MB)\n",
            "Trainable params: 34908833 (133.17 MB)\n",
            "Non-trainable params: 34432 (134.50 KB)\n",
            "_________________________________________________________________\n"
          ]
        }
      ],
      "source": [
        "model.compile(loss='binary_crossentropy', optimizer='adam', metrics=['accuracy'])\n",
        "model.summary()"
      ]
    },
    {
      "cell_type": "code",
      "execution_count": null,
      "metadata": {
        "colab": {
          "base_uri": "https://localhost:8080/"
        },
        "id": "P0yO6IY-LFNU",
        "outputId": "2d3eb23b-8127-4a1e-b407-7e1a6538741b"
      },
      "outputs": [
        {
          "output_type": "stream",
          "name": "stdout",
          "text": [
            "Epoch 1/100\n",
            "20/20 [==============================] - 269s 6s/step - loss: 2.7387 - accuracy: 0.7016 - val_loss: 28.7908 - val_accuracy: 0.4500\n",
            "Epoch 2/100\n",
            "20/20 [==============================] - 7s 329ms/step - loss: 0.2628 - accuracy: 0.8891 - val_loss: 11.4078 - val_accuracy: 0.5437\n",
            "Epoch 3/100\n",
            "20/20 [==============================] - 6s 276ms/step - loss: 0.1696 - accuracy: 0.9531 - val_loss: 11.7690 - val_accuracy: 0.5312\n",
            "Epoch 4/100\n",
            "20/20 [==============================] - 7s 298ms/step - loss: 0.0897 - accuracy: 0.9656 - val_loss: 29.2420 - val_accuracy: 0.4187\n",
            "Epoch 5/100\n",
            "20/20 [==============================] - 8s 362ms/step - loss: 0.1020 - accuracy: 0.9703 - val_loss: 87.1721 - val_accuracy: 0.5000\n",
            "Epoch 6/100\n",
            "20/20 [==============================] - 7s 276ms/step - loss: 0.3164 - accuracy: 0.9641 - val_loss: 13102013.0000 - val_accuracy: 0.5063\n",
            "Epoch 7/100\n",
            "20/20 [==============================] - 7s 295ms/step - loss: 0.1981 - accuracy: 0.9359 - val_loss: 76234296.0000 - val_accuracy: 0.4938\n",
            "Epoch 8/100\n",
            "20/20 [==============================] - 6s 277ms/step - loss: 0.3858 - accuracy: 0.9344 - val_loss: 7479.4375 - val_accuracy: 0.4938\n",
            "Epoch 9/100\n",
            "20/20 [==============================] - 7s 294ms/step - loss: 0.1718 - accuracy: 0.9422 - val_loss: 581.3394 - val_accuracy: 0.5063\n",
            "Epoch 10/100\n",
            "20/20 [==============================] - 8s 306ms/step - loss: 0.1266 - accuracy: 0.9609 - val_loss: 1323.1349 - val_accuracy: 0.5250\n",
            "Epoch 11/100\n",
            "20/20 [==============================] - 6s 277ms/step - loss: 0.0645 - accuracy: 0.9750 - val_loss: 1112.4802 - val_accuracy: 0.5500\n",
            "Epoch 12/100\n",
            "20/20 [==============================] - 7s 280ms/step - loss: 0.0792 - accuracy: 0.9797 - val_loss: 65.3760 - val_accuracy: 0.5500\n",
            "Epoch 13/100\n",
            "20/20 [==============================] - 8s 337ms/step - loss: 0.0593 - accuracy: 0.9797 - val_loss: 1237.3196 - val_accuracy: 0.5188\n",
            "Epoch 14/100\n",
            "20/20 [==============================] - 6s 281ms/step - loss: 0.0624 - accuracy: 0.9797 - val_loss: 8342.7129 - val_accuracy: 0.5562\n",
            "Epoch 15/100\n",
            "20/20 [==============================] - 7s 296ms/step - loss: 0.0286 - accuracy: 0.9891 - val_loss: 497.4486 - val_accuracy: 0.6375\n",
            "Epoch 16/100\n",
            "20/20 [==============================] - 7s 299ms/step - loss: 0.0285 - accuracy: 0.9953 - val_loss: 124.5992 - val_accuracy: 0.7625\n",
            "Epoch 17/100\n",
            "20/20 [==============================] - 8s 371ms/step - loss: 0.1230 - accuracy: 0.9672 - val_loss: 2.1923 - val_accuracy: 0.8438\n",
            "Epoch 18/100\n",
            "20/20 [==============================] - 7s 280ms/step - loss: 0.0386 - accuracy: 0.9891 - val_loss: 1.6009 - val_accuracy: 0.8625\n",
            "Epoch 19/100\n",
            "20/20 [==============================] - 7s 293ms/step - loss: 0.0505 - accuracy: 0.9891 - val_loss: 0.3972 - val_accuracy: 0.8938\n",
            "Epoch 20/100\n",
            "20/20 [==============================] - 7s 301ms/step - loss: 0.0488 - accuracy: 0.9844 - val_loss: 0.2363 - val_accuracy: 0.9125\n",
            "Epoch 21/100\n",
            "20/20 [==============================] - 9s 372ms/step - loss: 0.1032 - accuracy: 0.9766 - val_loss: 0.1926 - val_accuracy: 0.9250\n",
            "Epoch 22/100\n",
            "20/20 [==============================] - 7s 295ms/step - loss: 0.0357 - accuracy: 0.9844 - val_loss: 0.2703 - val_accuracy: 0.9250\n",
            "Epoch 23/100\n",
            "20/20 [==============================] - 6s 281ms/step - loss: 0.0305 - accuracy: 0.9906 - val_loss: 0.7966 - val_accuracy: 0.8438\n",
            "Epoch 24/100\n",
            "20/20 [==============================] - 7s 305ms/step - loss: 0.1229 - accuracy: 0.9766 - val_loss: 0.4289 - val_accuracy: 0.9000\n",
            "Epoch 25/100\n",
            "20/20 [==============================] - 7s 320ms/step - loss: 0.0797 - accuracy: 0.9812 - val_loss: 0.3242 - val_accuracy: 0.9125\n",
            "Epoch 26/100\n",
            "20/20 [==============================] - 7s 278ms/step - loss: 0.0578 - accuracy: 0.9781 - val_loss: 5.7971 - val_accuracy: 0.7875\n",
            "Epoch 27/100\n",
            "20/20 [==============================] - 7s 305ms/step - loss: 0.1102 - accuracy: 0.9734 - val_loss: 4.6560 - val_accuracy: 0.9062\n",
            "Epoch 28/100\n",
            "20/20 [==============================] - 7s 282ms/step - loss: 0.0449 - accuracy: 0.9859 - val_loss: 8.2802 - val_accuracy: 0.8438\n",
            "Epoch 29/100\n",
            "20/20 [==============================] - 8s 376ms/step - loss: 0.0692 - accuracy: 0.9859 - val_loss: 0.9141 - val_accuracy: 0.9125\n",
            "Epoch 30/100\n",
            "20/20 [==============================] - 7s 283ms/step - loss: 0.0489 - accuracy: 0.9828 - val_loss: 0.3500 - val_accuracy: 0.9125\n",
            "Epoch 31/100\n",
            "20/20 [==============================] - 7s 294ms/step - loss: 0.0645 - accuracy: 0.9906 - val_loss: 0.2149 - val_accuracy: 0.9375\n",
            "Epoch 32/100\n",
            "20/20 [==============================] - 7s 296ms/step - loss: 0.0587 - accuracy: 0.9797 - val_loss: 0.3560 - val_accuracy: 0.9250\n",
            "Epoch 33/100\n",
            "20/20 [==============================] - 7s 300ms/step - loss: 0.0466 - accuracy: 0.9906 - val_loss: 0.2784 - val_accuracy: 0.9125\n",
            "Epoch 34/100\n",
            "20/20 [==============================] - 7s 306ms/step - loss: 0.0188 - accuracy: 0.9937 - val_loss: 0.2878 - val_accuracy: 0.9312\n",
            "Epoch 35/100\n",
            "20/20 [==============================] - 7s 302ms/step - loss: 0.0143 - accuracy: 0.9969 - val_loss: 0.3807 - val_accuracy: 0.9125\n",
            "Epoch 36/100\n",
            "20/20 [==============================] - 9s 370ms/step - loss: 0.0098 - accuracy: 0.9984 - val_loss: 0.2565 - val_accuracy: 0.9312\n",
            "Epoch 37/100\n",
            "20/20 [==============================] - 7s 281ms/step - loss: 0.0553 - accuracy: 0.9891 - val_loss: 0.4940 - val_accuracy: 0.8875\n",
            "Epoch 38/100\n",
            "20/20 [==============================] - 7s 299ms/step - loss: 0.0789 - accuracy: 0.9703 - val_loss: 0.1294 - val_accuracy: 0.9438\n",
            "Epoch 39/100\n",
            "20/20 [==============================] - 8s 369ms/step - loss: 0.0322 - accuracy: 0.9969 - val_loss: 0.3156 - val_accuracy: 0.9375\n",
            "Epoch 40/100\n",
            "20/20 [==============================] - 7s 291ms/step - loss: 0.0143 - accuracy: 0.9953 - val_loss: 0.6832 - val_accuracy: 0.8938\n",
            "Epoch 41/100\n",
            "20/20 [==============================] - 7s 283ms/step - loss: 0.0090 - accuracy: 0.9969 - val_loss: 0.3445 - val_accuracy: 0.9062\n",
            "Epoch 42/100\n",
            "20/20 [==============================] - 7s 303ms/step - loss: 0.0062 - accuracy: 0.9984 - val_loss: 0.3893 - val_accuracy: 0.9187\n",
            "Epoch 43/100\n",
            "20/20 [==============================] - 7s 302ms/step - loss: 0.0019 - accuracy: 1.0000 - val_loss: 0.3197 - val_accuracy: 0.9250\n",
            "Epoch 44/100\n",
            "20/20 [==============================] - 8s 323ms/step - loss: 0.0141 - accuracy: 0.9969 - val_loss: 0.4211 - val_accuracy: 0.9125\n",
            "Epoch 45/100\n",
            "20/20 [==============================] - 7s 283ms/step - loss: 0.0742 - accuracy: 0.9781 - val_loss: 0.4624 - val_accuracy: 0.8562\n",
            "Epoch 46/100\n",
            "20/20 [==============================] - 8s 321ms/step - loss: 0.0333 - accuracy: 0.9891 - val_loss: 0.9005 - val_accuracy: 0.8750\n",
            "Epoch 47/100\n",
            "20/20 [==============================] - 7s 317ms/step - loss: 0.0494 - accuracy: 0.9828 - val_loss: 0.2480 - val_accuracy: 0.9312\n",
            "Epoch 48/100\n",
            "20/20 [==============================] - 7s 281ms/step - loss: 0.0285 - accuracy: 0.9875 - val_loss: 0.1471 - val_accuracy: 0.9375\n",
            "Epoch 49/100\n",
            "20/20 [==============================] - 7s 301ms/step - loss: 0.0666 - accuracy: 0.9812 - val_loss: 0.2842 - val_accuracy: 0.9312\n",
            "Epoch 50/100\n",
            "20/20 [==============================] - 7s 304ms/step - loss: 0.0115 - accuracy: 0.9953 - val_loss: 0.3984 - val_accuracy: 0.9125\n",
            "Epoch 51/100\n",
            "20/20 [==============================] - 8s 305ms/step - loss: 0.0069 - accuracy: 0.9969 - val_loss: 0.3829 - val_accuracy: 0.9062\n",
            "Epoch 52/100\n",
            "20/20 [==============================] - 7s 304ms/step - loss: 0.0032 - accuracy: 0.9984 - val_loss: 0.3717 - val_accuracy: 0.9187\n",
            "Epoch 53/100\n",
            "20/20 [==============================] - 7s 296ms/step - loss: 0.0017 - accuracy: 1.0000 - val_loss: 1.0959 - val_accuracy: 0.9500\n",
            "Epoch 54/100\n",
            "20/20 [==============================] - 7s 291ms/step - loss: 0.0017 - accuracy: 1.0000 - val_loss: 0.9623 - val_accuracy: 0.9500\n",
            "Epoch 55/100\n",
            "20/20 [==============================] - 8s 320ms/step - loss: 2.0194e-04 - accuracy: 1.0000 - val_loss: 0.8571 - val_accuracy: 0.9563\n",
            "Epoch 56/100\n",
            "20/20 [==============================] - 7s 283ms/step - loss: 9.5695e-05 - accuracy: 1.0000 - val_loss: 0.6978 - val_accuracy: 0.9500\n",
            "Epoch 57/100\n",
            "20/20 [==============================] - 7s 301ms/step - loss: 3.0605e-04 - accuracy: 1.0000 - val_loss: 0.5653 - val_accuracy: 0.9500\n",
            "Epoch 58/100\n",
            "20/20 [==============================] - 7s 282ms/step - loss: 2.9221e-04 - accuracy: 1.0000 - val_loss: 0.4009 - val_accuracy: 0.9438\n",
            "Epoch 59/100\n",
            "20/20 [==============================] - 7s 332ms/step - loss: 3.2289e-05 - accuracy: 1.0000 - val_loss: 0.3619 - val_accuracy: 0.9438\n",
            "Epoch 60/100\n",
            "20/20 [==============================] - 6s 280ms/step - loss: 0.0014 - accuracy: 1.0000 - val_loss: 0.4031 - val_accuracy: 0.9375\n",
            "Epoch 61/100\n",
            "20/20 [==============================] - 7s 308ms/step - loss: 5.0533e-04 - accuracy: 1.0000 - val_loss: 0.3865 - val_accuracy: 0.9312\n",
            "Epoch 62/100\n",
            "20/20 [==============================] - 6s 279ms/step - loss: 0.0020 - accuracy: 1.0000 - val_loss: 0.4649 - val_accuracy: 0.9312\n",
            "Epoch 63/100\n",
            "20/20 [==============================] - 7s 320ms/step - loss: 0.0090 - accuracy: 0.9969 - val_loss: 0.3868 - val_accuracy: 0.9312\n",
            "Epoch 64/100\n",
            "20/20 [==============================] - 8s 306ms/step - loss: 0.0281 - accuracy: 0.9922 - val_loss: 0.6294 - val_accuracy: 0.8875\n",
            "Epoch 65/100\n",
            "20/20 [==============================] - 7s 283ms/step - loss: 0.0167 - accuracy: 0.9937 - val_loss: 0.3017 - val_accuracy: 0.9312\n",
            "Epoch 66/100\n",
            "20/20 [==============================] - 7s 305ms/step - loss: 0.0341 - accuracy: 0.9953 - val_loss: 0.4605 - val_accuracy: 0.9187\n",
            "Epoch 67/100\n",
            "20/20 [==============================] - 7s 294ms/step - loss: 0.0350 - accuracy: 0.9906 - val_loss: 34.1943 - val_accuracy: 0.7437\n",
            "Epoch 68/100\n",
            "20/20 [==============================] - 7s 282ms/step - loss: 0.1190 - accuracy: 0.9656 - val_loss: 12.8318 - val_accuracy: 0.8000\n",
            "Epoch 69/100\n",
            "20/20 [==============================] - 7s 297ms/step - loss: 0.0394 - accuracy: 0.9906 - val_loss: 2.4167 - val_accuracy: 0.7312\n",
            "Epoch 70/100\n",
            "20/20 [==============================] - 7s 303ms/step - loss: 0.0319 - accuracy: 0.9906 - val_loss: 0.4037 - val_accuracy: 0.8750\n",
            "Epoch 71/100\n",
            "20/20 [==============================] - 9s 388ms/step - loss: 0.0055 - accuracy: 0.9984 - val_loss: 0.4503 - val_accuracy: 0.9125\n",
            "Epoch 72/100\n",
            "20/20 [==============================] - 7s 301ms/step - loss: 0.0050 - accuracy: 0.9984 - val_loss: 0.9983 - val_accuracy: 0.7437\n",
            "Epoch 73/100\n",
            "20/20 [==============================] - 7s 282ms/step - loss: 0.0129 - accuracy: 0.9953 - val_loss: 0.3870 - val_accuracy: 0.9250\n",
            "Epoch 74/100\n",
            "20/20 [==============================] - 7s 282ms/step - loss: 0.0298 - accuracy: 0.9906 - val_loss: 0.1188 - val_accuracy: 0.9688\n",
            "Epoch 75/100\n",
            "20/20 [==============================] - 7s 320ms/step - loss: 0.0048 - accuracy: 0.9984 - val_loss: 0.1322 - val_accuracy: 0.9625\n",
            "Epoch 76/100\n",
            "20/20 [==============================] - 7s 300ms/step - loss: 0.0153 - accuracy: 0.9969 - val_loss: 0.7034 - val_accuracy: 0.9375\n",
            "Epoch 77/100\n",
            "20/20 [==============================] - 7s 283ms/step - loss: 0.0217 - accuracy: 0.9969 - val_loss: 0.2330 - val_accuracy: 0.9500\n",
            "Epoch 78/100\n",
            "20/20 [==============================] - 7s 303ms/step - loss: 0.0083 - accuracy: 0.9969 - val_loss: 0.2124 - val_accuracy: 0.9438\n",
            "Epoch 79/100\n",
            "20/20 [==============================] - 8s 327ms/step - loss: 0.0076 - accuracy: 0.9953 - val_loss: 0.1618 - val_accuracy: 0.9438\n",
            "Epoch 80/100\n",
            "20/20 [==============================] - 7s 284ms/step - loss: 0.0405 - accuracy: 0.9891 - val_loss: 1.3570 - val_accuracy: 0.8500\n",
            "Epoch 81/100\n",
            "20/20 [==============================] - 7s 308ms/step - loss: 0.0444 - accuracy: 0.9812 - val_loss: 0.4209 - val_accuracy: 0.8938\n",
            "Epoch 82/100\n",
            "20/20 [==============================] - 7s 300ms/step - loss: 0.0165 - accuracy: 0.9953 - val_loss: 0.7146 - val_accuracy: 0.8375\n",
            "Epoch 83/100\n",
            "20/20 [==============================] - 8s 329ms/step - loss: 0.0316 - accuracy: 0.9922 - val_loss: 0.1581 - val_accuracy: 0.9438\n",
            "Epoch 84/100\n",
            "20/20 [==============================] - 8s 369ms/step - loss: 0.0060 - accuracy: 0.9984 - val_loss: 0.1732 - val_accuracy: 0.9438\n",
            "Epoch 85/100\n",
            "20/20 [==============================] - 7s 283ms/step - loss: 0.0102 - accuracy: 0.9969 - val_loss: 0.2624 - val_accuracy: 0.9438\n",
            "Epoch 86/100\n",
            "20/20 [==============================] - 9s 390ms/step - loss: 0.0077 - accuracy: 0.9984 - val_loss: 0.2118 - val_accuracy: 0.9375\n",
            "Epoch 87/100\n",
            "20/20 [==============================] - 7s 283ms/step - loss: 0.0045 - accuracy: 0.9984 - val_loss: 0.2021 - val_accuracy: 0.9563\n",
            "Epoch 88/100\n",
            "20/20 [==============================] - 7s 282ms/step - loss: 7.4858e-04 - accuracy: 1.0000 - val_loss: 0.1993 - val_accuracy: 0.9438\n",
            "Epoch 89/100\n",
            "20/20 [==============================] - 8s 337ms/step - loss: 4.4230e-04 - accuracy: 1.0000 - val_loss: 0.1725 - val_accuracy: 0.9625\n",
            "Epoch 90/100\n",
            "20/20 [==============================] - 7s 302ms/step - loss: 2.5453e-04 - accuracy: 1.0000 - val_loss: 0.1662 - val_accuracy: 0.9688\n",
            "Epoch 91/100\n",
            "20/20 [==============================] - 7s 297ms/step - loss: 1.1637e-04 - accuracy: 1.0000 - val_loss: 0.1744 - val_accuracy: 0.9500\n",
            "Epoch 92/100\n",
            "20/20 [==============================] - 7s 281ms/step - loss: 3.0306e-04 - accuracy: 1.0000 - val_loss: 0.1799 - val_accuracy: 0.9500\n",
            "Epoch 93/100\n",
            "20/20 [==============================] - 7s 281ms/step - loss: 7.9015e-05 - accuracy: 1.0000 - val_loss: 0.1914 - val_accuracy: 0.9438\n",
            "Epoch 94/100\n",
            "20/20 [==============================] - 8s 338ms/step - loss: 4.5824e-04 - accuracy: 1.0000 - val_loss: 0.1748 - val_accuracy: 0.9500\n",
            "Epoch 95/100\n",
            "20/20 [==============================] - 7s 278ms/step - loss: 2.9572e-05 - accuracy: 1.0000 - val_loss: 0.1788 - val_accuracy: 0.9500\n",
            "Epoch 96/100\n",
            "20/20 [==============================] - 7s 308ms/step - loss: 3.4561e-05 - accuracy: 1.0000 - val_loss: 0.1880 - val_accuracy: 0.9500\n",
            "Epoch 97/100\n",
            "20/20 [==============================] - 7s 281ms/step - loss: 3.0799e-05 - accuracy: 1.0000 - val_loss: 0.1970 - val_accuracy: 0.9438\n",
            "Epoch 98/100\n",
            "20/20 [==============================] - 8s 323ms/step - loss: 1.4000e-05 - accuracy: 1.0000 - val_loss: 0.2051 - val_accuracy: 0.9438\n",
            "Epoch 99/100\n",
            "20/20 [==============================] - 6s 280ms/step - loss: 2.0357e-05 - accuracy: 1.0000 - val_loss: 0.2126 - val_accuracy: 0.9500\n",
            "Epoch 100/100\n",
            "20/20 [==============================] - 7s 294ms/step - loss: 1.5218e-05 - accuracy: 1.0000 - val_loss: 0.2200 - val_accuracy: 0.9375\n"
          ]
        }
      ],
      "source": [
        "history = model.fit(\n",
        "    train_ds,\n",
        "    epochs=epochs,\n",
        "    validation_data=val_ds,\n",
        ")"
      ]
    },
    {
      "cell_type": "code",
      "source": [
        "model.save('/content/drive/MyDrive/InceptionV3.h5')"
      ],
      "metadata": {
        "id": "8eTSSfZbWIU9",
        "colab": {
          "base_uri": "https://localhost:8080/"
        },
        "outputId": "6ae283e8-f32d-46df-bc75-c46e40829959"
      },
      "execution_count": null,
      "outputs": [
        {
          "output_type": "stream",
          "name": "stderr",
          "text": [
            "/usr/local/lib/python3.10/dist-packages/keras/src/engine/training.py:3103: UserWarning: You are saving your model as an HDF5 file via `model.save()`. This file format is considered legacy. We recommend using instead the native Keras format, e.g. `model.save('my_model.keras')`.\n",
            "  saving_api.save_model(\n"
          ]
        }
      ]
    }
  ],
  "metadata": {
    "colab": {
      "provenance": [],
      "gpuType": "T4",
      "authorship_tag": "ABX9TyM10zgQ3dH9yKsGOuzEhUl8"
    },
    "kernelspec": {
      "display_name": "Python 3",
      "name": "python3"
    },
    "language_info": {
      "name": "python"
    },
    "accelerator": "GPU"
  },
  "nbformat": 4,
  "nbformat_minor": 0
}