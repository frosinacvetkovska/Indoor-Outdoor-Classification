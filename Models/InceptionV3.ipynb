{
  "cells": [
    {
      "cell_type": "code",
      "execution_count": 13,
      "metadata": {
        "id": "f7JPuTbCLBO-"
      },
      "outputs": [],
      "source": [
        "import tensorflow as tf\n",
        "from tensorflow.keras import layers, models\n",
        "from tensorflow.keras.applications import InceptionV3\n",
        "from tensorflow.keras.preprocessing import image\n",
        "from tensorflow.keras.optimizers import Adam\n",
        "from tensorflow.keras.losses import BinaryCrossentropy\n",
        "from tensorflow.keras.metrics import Accuracy\n",
        "from tensorflow.keras.callbacks import ModelCheckpoint\n",
        "import numpy as np\n",
        "import matplotlib.pyplot as plt"
      ]
    },
    {
      "cell_type": "code",
      "execution_count": 14,
      "metadata": {
        "colab": {
          "base_uri": "https://localhost:8080/"
        },
        "id": "HBYLGhvSLE7F",
        "outputId": "1bd4d230-a8a6-4d47-99f2-0cd5fdf01484"
      },
      "outputs": [
        {
          "output_type": "stream",
          "name": "stdout",
          "text": [
            "Drive already mounted at /content/drive; to attempt to forcibly remount, call drive.mount(\"/content/drive\", force_remount=True).\n"
          ]
        }
      ],
      "source": [
        "from google.colab import drive\n",
        "drive.mount('/content/drive')"
      ]
    },
    {
      "cell_type": "code",
      "execution_count": 15,
      "metadata": {
        "id": "tqzzi_hKLE9I"
      },
      "outputs": [],
      "source": [
        "dataset_dir = '/content/drive/MyDrive/IndoorOutdoorDataset'"
      ]
    },
    {
      "cell_type": "code",
      "execution_count": 16,
      "metadata": {
        "id": "kHaMcj5YLE_C"
      },
      "outputs": [],
      "source": [
        "img_width, img_height = 299, 299\n",
        "batch_size = 32\n",
        "epochs = 10"
      ]
    },
    {
      "cell_type": "code",
      "execution_count": 17,
      "metadata": {
        "colab": {
          "base_uri": "https://localhost:8080/"
        },
        "id": "RAadLe-xLFBY",
        "outputId": "76cf2dcd-0ca3-488e-dee6-8c737f5f68f3"
      },
      "outputs": [
        {
          "output_type": "stream",
          "name": "stdout",
          "text": [
            "Found 800 files belonging to 2 classes.\n",
            "Using 640 files for training.\n"
          ]
        }
      ],
      "source": [
        "train_ds = tf.keras.utils.image_dataset_from_directory(\n",
        "    directory=dataset_dir,\n",
        "    labels='inferred',\n",
        "    label_mode='binary',\n",
        "    image_size=(img_width, img_height),\n",
        "    batch_size=batch_size,\n",
        "    validation_split=0.2,\n",
        "    seed=42,\n",
        "    shuffle=True,\n",
        "    subset='training',\n",
        ")"
      ]
    },
    {
      "cell_type": "code",
      "execution_count": 18,
      "metadata": {
        "colab": {
          "base_uri": "https://localhost:8080/"
        },
        "id": "kqfFl6g7LFDW",
        "outputId": "b9561b7d-12cf-4fb9-c528-5b68abc39b43"
      },
      "outputs": [
        {
          "output_type": "stream",
          "name": "stdout",
          "text": [
            "Found 800 files belonging to 2 classes.\n",
            "Using 160 files for validation.\n"
          ]
        }
      ],
      "source": [
        "val_ds = tf.keras.utils.image_dataset_from_directory(\n",
        "    directory=dataset_dir,\n",
        "    labels='inferred',\n",
        "    label_mode='binary',\n",
        "    image_size=(img_width, img_height),\n",
        "    batch_size=batch_size,\n",
        "    validation_split=0.2,\n",
        "    seed=42,\n",
        "    shuffle=True,\n",
        "    subset='validation',\n",
        ")"
      ]
    },
    {
      "cell_type": "code",
      "execution_count": 19,
      "metadata": {
        "id": "VD-RFQywLFFb"
      },
      "outputs": [],
      "source": [
        "base_model = InceptionV3(weights='imagenet', include_top=False, input_shape=(img_width, img_height, 3))"
      ]
    },
    {
      "cell_type": "code",
      "execution_count": 20,
      "metadata": {
        "id": "9RZG7yWsLFHW"
      },
      "outputs": [],
      "source": [
        "for layer in base_model.layers:\n",
        "    layer.trainable = False"
      ]
    },
    {
      "cell_type": "code",
      "execution_count": 21,
      "metadata": {
        "id": "3Ba2yIaBLFJk"
      },
      "outputs": [],
      "source": [
        "model = models.Sequential([\n",
        "    base_model,\n",
        "    layers.Flatten(),\n",
        "    layers.Dense(256, activation='relu'),\n",
        "    layers.Dense(128, activation='relu'),\n",
        "    layers.Dense(1, activation='sigmoid')\n",
        "])"
      ]
    },
    {
      "cell_type": "code",
      "execution_count": 22,
      "metadata": {
        "colab": {
          "base_uri": "https://localhost:8080/"
        },
        "id": "r77ejIAYLFLU",
        "outputId": "b211130e-d696-48db-db9f-78f5d4511373"
      },
      "outputs": [
        {
          "output_type": "stream",
          "name": "stdout",
          "text": [
            "Model: \"sequential_1\"\n",
            "_________________________________________________________________\n",
            " Layer (type)                Output Shape              Param #   \n",
            "=================================================================\n",
            " inception_v3 (Functional)   (None, 8, 8, 2048)        21802784  \n",
            "                                                                 \n",
            " flatten_1 (Flatten)         (None, 131072)            0         \n",
            "                                                                 \n",
            " dense_3 (Dense)             (None, 256)               33554688  \n",
            "                                                                 \n",
            " dense_4 (Dense)             (None, 128)               32896     \n",
            "                                                                 \n",
            " dense_5 (Dense)             (None, 1)                 129       \n",
            "                                                                 \n",
            "=================================================================\n",
            "Total params: 55390497 (211.30 MB)\n",
            "Trainable params: 33587713 (128.13 MB)\n",
            "Non-trainable params: 21802784 (83.17 MB)\n",
            "_________________________________________________________________\n"
          ]
        }
      ],
      "source": [
        "model.compile(optimizer=Adam(), loss=BinaryCrossentropy(), metrics=[Accuracy()])\n",
        "model.summary()"
      ]
    },
    {
      "cell_type": "code",
      "source": [
        "checkpoint_path = '/content/drive/MyDrive/InceptionV3.h5'\n",
        "checkpoint = ModelCheckpoint(\n",
        "    checkpoint_path,\n",
        "    monitor='val_loss',\n",
        "    save_best_only=True,\n",
        "    mode='min',\n",
        "    verbose=1\n",
        ")"
      ],
      "metadata": {
        "id": "yE9yRa6hChDw"
      },
      "execution_count": 23,
      "outputs": []
    },
    {
      "cell_type": "code",
      "execution_count": 24,
      "metadata": {
        "colab": {
          "base_uri": "https://localhost:8080/"
        },
        "id": "P0yO6IY-LFNU",
        "outputId": "aa141b4d-8f5d-4940-ad88-5e7b46ec2d10"
      },
      "outputs": [
        {
          "metadata": {
            "tags": null
          },
          "name": "stdout",
          "output_type": "stream",
          "text": [
            "Epoch 1/10\n",
            "20/20 [==============================] - ETA: 0s - loss: 146.9731 - accuracy: 0.6094\n",
            "Epoch 1: val_loss improved from inf to 131.73370, saving model to /content/drive/MyDrive/InceptionV3.h5\n"
          ]
        },
        {
          "metadata": {
            "tags": null
          },
          "name": "stderr",
          "output_type": "stream",
          "text": [
            "/usr/local/lib/python3.10/dist-packages/keras/src/engine/training.py:3103: UserWarning: You are saving your model as an HDF5 file via `model.save()`. This file format is considered legacy. We recommend using instead the native Keras format, e.g. `model.save('my_model.keras')`.\n",
            "  saving_api.save_model(\n"
          ]
        },
        {
          "metadata": {
            "tags": null
          },
          "name": "stdout",
          "output_type": "stream",
          "text": [
            "20/20 [==============================] - 237s 11s/step - loss: 146.9731 - accuracy: 0.6094 - val_loss: 131.7337 - val_accuracy: 0.5437\n",
            "Epoch 2/10\n",
            "20/20 [==============================] - ETA: 0s - loss: 34.0607 - accuracy: 0.7547\n",
            "Epoch 2: val_loss improved from 131.73370 to 24.26396, saving model to /content/drive/MyDrive/InceptionV3.h5\n",
            "20/20 [==============================] - 278s 14s/step - loss: 34.0607 - accuracy: 0.7547 - val_loss: 24.2640 - val_accuracy: 0.6187\n",
            "Epoch 3/10\n",
            "20/20 [==============================] - ETA: 0s - loss: 10.0051 - accuracy: 0.7812\n",
            "Epoch 3: val_loss improved from 24.26396 to 18.26864, saving model to /content/drive/MyDrive/InceptionV3.h5\n",
            "20/20 [==============================] - 226s 11s/step - loss: 10.0051 - accuracy: 0.7812 - val_loss: 18.2686 - val_accuracy: 0.5625\n",
            "Epoch 4/10\n",
            "20/20 [==============================] - ETA: 0s - loss: 10.0710 - accuracy: 0.7531\n",
            "Epoch 4: val_loss did not improve from 18.26864\n",
            "20/20 [==============================] - 268s 13s/step - loss: 10.0710 - accuracy: 0.7531 - val_loss: 35.6538 - val_accuracy: 0.6438\n",
            "Epoch 5/10\n",
            "20/20 [==============================] - ETA: 0s - loss: 4.7820 - accuracy: 0.8656\n",
            "Epoch 5: val_loss did not improve from 18.26864\n",
            "20/20 [==============================] - 216s 11s/step - loss: 4.7820 - accuracy: 0.8656 - val_loss: 25.1938 - val_accuracy: 0.6687\n",
            "Epoch 6/10\n",
            "20/20 [==============================] - ETA: 0s - loss: 1.5536 - accuracy: 0.8781\n",
            "Epoch 6: val_loss did not improve from 18.26864\n",
            "20/20 [==============================] - 212s 11s/step - loss: 1.5536 - accuracy: 0.8781 - val_loss: 30.5163 - val_accuracy: 0.7063\n",
            "Epoch 7/10\n",
            "20/20 [==============================] - ETA: 0s - loss: 0.8817 - accuracy: 0.9156\n",
            "Epoch 7: val_loss did not improve from 18.26864\n",
            "20/20 [==============================] - 217s 11s/step - loss: 0.8817 - accuracy: 0.9156 - val_loss: 20.3297 - val_accuracy: 0.6875\n",
            "Epoch 8/10\n",
            "20/20 [==============================] - ETA: 0s - loss: 0.4649 - accuracy: 0.9328\n",
            "Epoch 8: val_loss did not improve from 18.26864\n",
            "20/20 [==============================] - 210s 11s/step - loss: 0.4649 - accuracy: 0.9328 - val_loss: 26.2031 - val_accuracy: 0.6625\n",
            "Epoch 9/10\n",
            "20/20 [==============================] - ETA: 0s - loss: 0.1050 - accuracy: 0.9641\n",
            "Epoch 9: val_loss did not improve from 18.26864\n",
            "20/20 [==============================] - 212s 11s/step - loss: 0.1050 - accuracy: 0.9641 - val_loss: 25.3253 - val_accuracy: 0.6812\n",
            "Epoch 10/10\n",
            "20/20 [==============================] - ETA: 0s - loss: 0.0644 - accuracy: 0.9516\n",
            "Epoch 10: val_loss did not improve from 18.26864\n",
            "20/20 [==============================] - 213s 11s/step - loss: 0.0644 - accuracy: 0.9516 - val_loss: 21.1975 - val_accuracy: 0.6438\n"
          ]
        }
      ],
      "source": [
        "history = model.fit(\n",
        "    train_ds,\n",
        "    epochs=epochs,\n",
        "    validation_data=val_ds,\n",
        "    callbacks=[checkpoint]\n",
        ")"
      ]
    },
    {
      "cell_type": "code",
      "source": [
        "model = models.load_model(checkpoint_path)"
      ],
      "metadata": {
        "id": "vQ8calJ9CpOT"
      },
      "execution_count": 25,
      "outputs": []
    },
    {
      "cell_type": "code",
      "source": [
        "model.save('/content/drive/MyDrive/InceptionV3.h5')"
      ],
      "metadata": {
        "id": "8eTSSfZbWIU9"
      },
      "execution_count": 26,
      "outputs": []
    }
  ],
  "metadata": {
    "colab": {
      "provenance": [],
      "authorship_tag": "ABX9TyPxBHgV36mR4RZowl0kaydg"
    },
    "kernelspec": {
      "display_name": "Python 3",
      "name": "python3"
    },
    "language_info": {
      "name": "python"
    }
  },
  "nbformat": 4,
  "nbformat_minor": 0
}