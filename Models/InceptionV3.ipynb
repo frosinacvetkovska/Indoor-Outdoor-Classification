{
  "cells": [
    {
      "cell_type": "code",
      "execution_count": 1,
      "metadata": {
        "id": "f7JPuTbCLBO-"
      },
      "outputs": [],
      "source": [
        "import tensorflow as tf\n",
        "from tensorflow.keras import layers, models\n",
        "from tensorflow.keras.applications import InceptionV3\n",
        "from tensorflow.keras.preprocessing import image\n",
        "from tensorflow.keras.optimizers import Adam\n",
        "from tensorflow.keras.losses import BinaryCrossentropy\n",
        "from tensorflow.keras.metrics import Accuracy\n",
        "from tensorflow.keras.callbacks import ModelCheckpoint\n",
        "import numpy as np\n",
        "import matplotlib.pyplot as plt"
      ]
    },
    {
      "cell_type": "code",
      "execution_count": 2,
      "metadata": {
        "colab": {
          "base_uri": "https://localhost:8080/"
        },
        "id": "HBYLGhvSLE7F",
        "outputId": "df00aeef-21d6-4e5e-c06e-244954260ce2"
      },
      "outputs": [
        {
          "output_type": "stream",
          "name": "stdout",
          "text": [
            "Mounted at /content/drive\n"
          ]
        }
      ],
      "source": [
        "from google.colab import drive\n",
        "drive.mount('/content/drive')"
      ]
    },
    {
      "cell_type": "code",
      "execution_count": 3,
      "metadata": {
        "id": "tqzzi_hKLE9I"
      },
      "outputs": [],
      "source": [
        "dataset_dir = '/content/drive/MyDrive/IndoorOutdoorDataset'"
      ]
    },
    {
      "cell_type": "code",
      "execution_count": 4,
      "metadata": {
        "id": "kHaMcj5YLE_C"
      },
      "outputs": [],
      "source": [
        "img_width, img_height = 299, 299\n",
        "batch_size = 32\n",
        "epochs = 100"
      ]
    },
    {
      "cell_type": "code",
      "execution_count": 5,
      "metadata": {
        "colab": {
          "base_uri": "https://localhost:8080/"
        },
        "id": "RAadLe-xLFBY",
        "outputId": "c67fdd1f-b7b4-433f-a1e8-b00c3f497ee8"
      },
      "outputs": [
        {
          "output_type": "stream",
          "name": "stdout",
          "text": [
            "Found 800 files belonging to 2 classes.\n",
            "Using 640 files for training.\n"
          ]
        }
      ],
      "source": [
        "train_ds = tf.keras.utils.image_dataset_from_directory(\n",
        "    directory=dataset_dir,\n",
        "    labels='inferred',\n",
        "    label_mode='binary',\n",
        "    image_size=(img_width, img_height),\n",
        "    batch_size=batch_size,\n",
        "    validation_split=0.2,\n",
        "    seed=42,\n",
        "    shuffle=True,\n",
        "    subset='training',\n",
        ")"
      ]
    },
    {
      "cell_type": "code",
      "execution_count": 6,
      "metadata": {
        "colab": {
          "base_uri": "https://localhost:8080/"
        },
        "id": "kqfFl6g7LFDW",
        "outputId": "b9899a59-37e8-4ecf-b972-0beeee9d8d24"
      },
      "outputs": [
        {
          "output_type": "stream",
          "name": "stdout",
          "text": [
            "Found 800 files belonging to 2 classes.\n",
            "Using 160 files for validation.\n"
          ]
        }
      ],
      "source": [
        "val_ds = tf.keras.utils.image_dataset_from_directory(\n",
        "    directory=dataset_dir,\n",
        "    labels='inferred',\n",
        "    label_mode='binary',\n",
        "    image_size=(img_width, img_height),\n",
        "    batch_size=batch_size,\n",
        "    validation_split=0.2,\n",
        "    seed=42,\n",
        "    shuffle=True,\n",
        "    subset='validation',\n",
        ")"
      ]
    },
    {
      "cell_type": "code",
      "execution_count": 7,
      "metadata": {
        "id": "3Ba2yIaBLFJk",
        "colab": {
          "base_uri": "https://localhost:8080/"
        },
        "outputId": "04094922-d5e1-47eb-b2c9-cfef627d4d28"
      },
      "outputs": [
        {
          "output_type": "stream",
          "name": "stdout",
          "text": [
            "Downloading data from https://storage.googleapis.com/tensorflow/keras-applications/inception_v3/inception_v3_weights_tf_dim_ordering_tf_kernels_notop.h5\n",
            "87910968/87910968 [==============================] - 1s 0us/step\n"
          ]
        }
      ],
      "source": [
        "model = models.Sequential()\n",
        "model.add(InceptionV3(weights='imagenet', include_top=False, input_shape=(img_width, img_height, 3), classes=2)),\n",
        "model.add(layers.Flatten())\n",
        "model.add(layers.Dense(256, activation='relu')),\n",
        "model.add(layers.Dense(128, activation='relu')),\n",
        "model.add(layers.Dense(1, activation='sigmoid'))\n"
      ]
    },
    {
      "cell_type": "code",
      "execution_count": 8,
      "metadata": {
        "colab": {
          "base_uri": "https://localhost:8080/"
        },
        "id": "r77ejIAYLFLU",
        "outputId": "f72528f9-f800-49c4-beed-39131668aece"
      },
      "outputs": [
        {
          "output_type": "stream",
          "name": "stdout",
          "text": [
            "Model: \"sequential\"\n",
            "_________________________________________________________________\n",
            " Layer (type)                Output Shape              Param #   \n",
            "=================================================================\n",
            " inception_v3 (Functional)   (None, 8, 8, 2048)        21802784  \n",
            "                                                                 \n",
            " flatten (Flatten)           (None, 131072)            0         \n",
            "                                                                 \n",
            " dense (Dense)               (None, 256)               33554688  \n",
            "                                                                 \n",
            " dense_1 (Dense)             (None, 128)               32896     \n",
            "                                                                 \n",
            " dense_2 (Dense)             (None, 1)                 129       \n",
            "                                                                 \n",
            "=================================================================\n",
            "Total params: 55390497 (211.30 MB)\n",
            "Trainable params: 55356065 (211.17 MB)\n",
            "Non-trainable params: 34432 (134.50 KB)\n",
            "_________________________________________________________________\n"
          ]
        }
      ],
      "source": [
        "model.compile(loss='binary_crossentropy', optimizer='adam', metrics=['accuracy'])\n",
        "model.summary()"
      ]
    },
    {
      "cell_type": "code",
      "execution_count": 9,
      "metadata": {
        "colab": {
          "base_uri": "https://localhost:8080/"
        },
        "id": "P0yO6IY-LFNU",
        "outputId": "74773f80-8a24-461e-db3d-46e869d53a6d"
      },
      "outputs": [
        {
          "output_type": "stream",
          "name": "stdout",
          "text": [
            "Epoch 1/100\n",
            "20/20 [==============================] - 156s 4s/step - loss: 4.1197 - accuracy: 0.7563 - val_loss: 431474176.0000 - val_accuracy: 0.4938\n",
            "Epoch 2/100\n",
            "20/20 [==============================] - 11s 494ms/step - loss: 0.2975 - accuracy: 0.8844 - val_loss: 15627062.0000 - val_accuracy: 0.4938\n",
            "Epoch 3/100\n",
            "20/20 [==============================] - 11s 495ms/step - loss: 0.1834 - accuracy: 0.9391 - val_loss: 21901434.0000 - val_accuracy: 0.4938\n",
            "Epoch 4/100\n",
            "20/20 [==============================] - 12s 561ms/step - loss: 0.1474 - accuracy: 0.9250 - val_loss: 2004684.0000 - val_accuracy: 0.5000\n",
            "Epoch 5/100\n",
            "20/20 [==============================] - 12s 563ms/step - loss: 0.1289 - accuracy: 0.9547 - val_loss: 1554.6890 - val_accuracy: 0.6687\n",
            "Epoch 6/100\n",
            "20/20 [==============================] - 11s 520ms/step - loss: 0.0571 - accuracy: 0.9781 - val_loss: 2.3157 - val_accuracy: 0.8375\n",
            "Epoch 7/100\n",
            "20/20 [==============================] - 11s 500ms/step - loss: 0.1984 - accuracy: 0.9344 - val_loss: 3586257.5000 - val_accuracy: 0.4938\n",
            "Epoch 8/100\n",
            "20/20 [==============================] - 11s 501ms/step - loss: 0.7043 - accuracy: 0.9469 - val_loss: 10000085.0000 - val_accuracy: 0.5312\n",
            "Epoch 9/100\n",
            "20/20 [==============================] - 11s 498ms/step - loss: 4.3199 - accuracy: 0.6562 - val_loss: 60411.1445 - val_accuracy: 0.5125\n",
            "Epoch 10/100\n",
            "20/20 [==============================] - 11s 512ms/step - loss: 1.1781 - accuracy: 0.6156 - val_loss: 1418.9628 - val_accuracy: 0.5063\n",
            "Epoch 11/100\n",
            "20/20 [==============================] - 12s 573ms/step - loss: 0.6669 - accuracy: 0.6922 - val_loss: 6.7447 - val_accuracy: 0.5063\n",
            "Epoch 12/100\n",
            "20/20 [==============================] - 11s 509ms/step - loss: 0.6240 - accuracy: 0.7000 - val_loss: 0.6957 - val_accuracy: 0.5813\n",
            "Epoch 13/100\n",
            "20/20 [==============================] - 11s 511ms/step - loss: 0.5041 - accuracy: 0.7469 - val_loss: 0.6995 - val_accuracy: 0.4812\n",
            "Epoch 14/100\n",
            "20/20 [==============================] - 11s 512ms/step - loss: 0.4723 - accuracy: 0.7797 - val_loss: 1.5152 - val_accuracy: 0.6062\n",
            "Epoch 15/100\n",
            "20/20 [==============================] - 11s 511ms/step - loss: 0.3698 - accuracy: 0.8359 - val_loss: 1.8050 - val_accuracy: 0.6250\n",
            "Epoch 16/100\n",
            "20/20 [==============================] - 11s 522ms/step - loss: 0.3320 - accuracy: 0.8656 - val_loss: 1.2933 - val_accuracy: 0.6125\n",
            "Epoch 17/100\n",
            "20/20 [==============================] - 12s 535ms/step - loss: 0.2712 - accuracy: 0.8797 - val_loss: 0.5861 - val_accuracy: 0.6313\n",
            "Epoch 18/100\n",
            "20/20 [==============================] - 11s 516ms/step - loss: 0.2222 - accuracy: 0.9281 - val_loss: 0.3573 - val_accuracy: 0.8375\n",
            "Epoch 19/100\n",
            "20/20 [==============================] - 11s 513ms/step - loss: 0.2380 - accuracy: 0.9094 - val_loss: 0.8206 - val_accuracy: 0.6750\n",
            "Epoch 20/100\n",
            "20/20 [==============================] - 11s 516ms/step - loss: 0.2254 - accuracy: 0.9125 - val_loss: 0.7990 - val_accuracy: 0.6250\n",
            "Epoch 21/100\n",
            "20/20 [==============================] - 12s 536ms/step - loss: 0.2422 - accuracy: 0.9156 - val_loss: 0.6498 - val_accuracy: 0.6250\n",
            "Epoch 22/100\n",
            "20/20 [==============================] - 12s 536ms/step - loss: 0.1562 - accuracy: 0.9438 - val_loss: 0.4921 - val_accuracy: 0.8375\n",
            "Epoch 23/100\n",
            "20/20 [==============================] - 13s 576ms/step - loss: 0.2011 - accuracy: 0.9203 - val_loss: 0.2629 - val_accuracy: 0.9000\n",
            "Epoch 24/100\n",
            "20/20 [==============================] - 11s 519ms/step - loss: 0.1266 - accuracy: 0.9656 - val_loss: 0.2033 - val_accuracy: 0.9062\n",
            "Epoch 25/100\n",
            "20/20 [==============================] - 11s 522ms/step - loss: 0.1149 - accuracy: 0.9609 - val_loss: 0.2089 - val_accuracy: 0.9125\n",
            "Epoch 26/100\n",
            "20/20 [==============================] - 12s 528ms/step - loss: 0.0889 - accuracy: 0.9703 - val_loss: 0.2998 - val_accuracy: 0.8875\n",
            "Epoch 27/100\n",
            "20/20 [==============================] - 12s 522ms/step - loss: 0.0356 - accuracy: 0.9922 - val_loss: 0.2020 - val_accuracy: 0.9250\n",
            "Epoch 28/100\n",
            "20/20 [==============================] - 11s 516ms/step - loss: 0.0750 - accuracy: 0.9703 - val_loss: 0.1145 - val_accuracy: 0.9438\n",
            "Epoch 29/100\n",
            "20/20 [==============================] - 12s 532ms/step - loss: 0.0404 - accuracy: 0.9844 - val_loss: 0.1509 - val_accuracy: 0.9438\n",
            "Epoch 30/100\n",
            "20/20 [==============================] - 12s 529ms/step - loss: 0.0482 - accuracy: 0.9828 - val_loss: 0.0986 - val_accuracy: 0.9688\n",
            "Epoch 31/100\n",
            "20/20 [==============================] - 13s 577ms/step - loss: 0.0934 - accuracy: 0.9766 - val_loss: 0.1929 - val_accuracy: 0.9187\n",
            "Epoch 32/100\n",
            "20/20 [==============================] - 13s 578ms/step - loss: 0.1304 - accuracy: 0.9703 - val_loss: 12.5756 - val_accuracy: 0.7750\n",
            "Epoch 33/100\n",
            "20/20 [==============================] - 11s 512ms/step - loss: 0.2238 - accuracy: 0.9484 - val_loss: 1.6488 - val_accuracy: 0.8188\n",
            "Epoch 34/100\n",
            "20/20 [==============================] - 11s 523ms/step - loss: 0.1997 - accuracy: 0.9187 - val_loss: 871.1725 - val_accuracy: 0.5312\n",
            "Epoch 35/100\n",
            "20/20 [==============================] - 11s 524ms/step - loss: 0.1971 - accuracy: 0.9469 - val_loss: 505.6985 - val_accuracy: 0.4688\n",
            "Epoch 36/100\n",
            "20/20 [==============================] - 11s 515ms/step - loss: 0.1237 - accuracy: 0.9656 - val_loss: 0.7861 - val_accuracy: 0.8250\n",
            "Epoch 37/100\n",
            "20/20 [==============================] - 11s 520ms/step - loss: 0.1124 - accuracy: 0.9656 - val_loss: 1.8569 - val_accuracy: 0.7750\n",
            "Epoch 38/100\n",
            "20/20 [==============================] - 12s 532ms/step - loss: 0.1321 - accuracy: 0.9703 - val_loss: 0.1190 - val_accuracy: 0.9625\n",
            "Epoch 39/100\n",
            "20/20 [==============================] - 11s 509ms/step - loss: 0.0667 - accuracy: 0.9828 - val_loss: 0.3137 - val_accuracy: 0.9125\n",
            "Epoch 40/100\n",
            "20/20 [==============================] - 11s 517ms/step - loss: 0.0304 - accuracy: 0.9875 - val_loss: 0.3038 - val_accuracy: 0.8938\n",
            "Epoch 41/100\n",
            "20/20 [==============================] - 11s 512ms/step - loss: 0.0273 - accuracy: 0.9906 - val_loss: 0.2561 - val_accuracy: 0.9125\n",
            "Epoch 42/100\n",
            "20/20 [==============================] - 12s 543ms/step - loss: 0.0234 - accuracy: 0.9875 - val_loss: 0.1500 - val_accuracy: 0.9563\n",
            "Epoch 43/100\n",
            "20/20 [==============================] - 13s 589ms/step - loss: 0.0863 - accuracy: 0.9703 - val_loss: 0.6770 - val_accuracy: 0.8250\n",
            "Epoch 44/100\n",
            "20/20 [==============================] - 13s 579ms/step - loss: 0.0984 - accuracy: 0.9656 - val_loss: 0.9003 - val_accuracy: 0.8500\n",
            "Epoch 45/100\n",
            "20/20 [==============================] - 12s 531ms/step - loss: 0.1202 - accuracy: 0.9625 - val_loss: 1.5782 - val_accuracy: 0.7812\n",
            "Epoch 46/100\n",
            "20/20 [==============================] - 13s 576ms/step - loss: 0.1215 - accuracy: 0.9563 - val_loss: 0.6057 - val_accuracy: 0.8625\n",
            "Epoch 47/100\n",
            "20/20 [==============================] - 12s 531ms/step - loss: 0.0786 - accuracy: 0.9672 - val_loss: 0.4496 - val_accuracy: 0.8875\n",
            "Epoch 48/100\n",
            "20/20 [==============================] - 12s 515ms/step - loss: 0.1083 - accuracy: 0.9641 - val_loss: 8.7779 - val_accuracy: 0.7688\n",
            "Epoch 49/100\n",
            "20/20 [==============================] - 12s 511ms/step - loss: 0.1089 - accuracy: 0.9641 - val_loss: 3.1413 - val_accuracy: 0.7437\n",
            "Epoch 50/100\n",
            "20/20 [==============================] - 11s 515ms/step - loss: 0.0620 - accuracy: 0.9797 - val_loss: 2.8838 - val_accuracy: 0.8313\n",
            "Epoch 51/100\n",
            "20/20 [==============================] - 11s 512ms/step - loss: 0.0549 - accuracy: 0.9828 - val_loss: 0.4309 - val_accuracy: 0.9062\n",
            "Epoch 52/100\n",
            "20/20 [==============================] - 11s 515ms/step - loss: 0.0226 - accuracy: 0.9891 - val_loss: 1.1592 - val_accuracy: 0.9312\n",
            "Epoch 53/100\n",
            "20/20 [==============================] - 11s 527ms/step - loss: 0.0113 - accuracy: 0.9969 - val_loss: 1.0979 - val_accuracy: 0.9375\n",
            "Epoch 54/100\n",
            "20/20 [==============================] - 12s 533ms/step - loss: 0.0373 - accuracy: 0.9906 - val_loss: 1.0750 - val_accuracy: 0.9500\n",
            "Epoch 55/100\n",
            "20/20 [==============================] - 11s 515ms/step - loss: 0.0182 - accuracy: 0.9906 - val_loss: 0.4459 - val_accuracy: 0.9563\n",
            "Epoch 56/100\n",
            "20/20 [==============================] - 11s 512ms/step - loss: 0.0079 - accuracy: 0.9984 - val_loss: 0.1560 - val_accuracy: 0.9563\n",
            "Epoch 57/100\n",
            "20/20 [==============================] - 11s 522ms/step - loss: 0.0245 - accuracy: 0.9891 - val_loss: 0.6501 - val_accuracy: 0.9000\n",
            "Epoch 58/100\n",
            "20/20 [==============================] - 12s 506ms/step - loss: 0.0351 - accuracy: 0.9875 - val_loss: 0.1375 - val_accuracy: 0.9688\n",
            "Epoch 59/100\n",
            "20/20 [==============================] - 12s 513ms/step - loss: 0.0205 - accuracy: 0.9922 - val_loss: 0.1577 - val_accuracy: 0.9625\n",
            "Epoch 60/100\n",
            "20/20 [==============================] - 12s 514ms/step - loss: 0.0114 - accuracy: 0.9953 - val_loss: 0.2216 - val_accuracy: 0.9500\n",
            "Epoch 61/100\n",
            "20/20 [==============================] - 11s 507ms/step - loss: 0.0093 - accuracy: 0.9937 - val_loss: 0.2294 - val_accuracy: 0.9563\n",
            "Epoch 62/100\n",
            "20/20 [==============================] - 11s 520ms/step - loss: 0.0067 - accuracy: 0.9969 - val_loss: 0.1434 - val_accuracy: 0.9688\n",
            "Epoch 63/100\n",
            "20/20 [==============================] - 11s 522ms/step - loss: 0.0037 - accuracy: 1.0000 - val_loss: 0.1205 - val_accuracy: 0.9750\n",
            "Epoch 64/100\n",
            "20/20 [==============================] - 12s 508ms/step - loss: 0.0086 - accuracy: 0.9937 - val_loss: 0.1433 - val_accuracy: 0.9625\n",
            "Epoch 65/100\n",
            "20/20 [==============================] - 12s 518ms/step - loss: 0.0016 - accuracy: 1.0000 - val_loss: 0.2810 - val_accuracy: 0.9312\n",
            "Epoch 66/100\n",
            "20/20 [==============================] - 12s 525ms/step - loss: 0.0113 - accuracy: 0.9953 - val_loss: 0.1896 - val_accuracy: 0.9563\n",
            "Epoch 67/100\n",
            "20/20 [==============================] - 11s 523ms/step - loss: 0.0072 - accuracy: 0.9984 - val_loss: 0.1981 - val_accuracy: 0.9688\n",
            "Epoch 68/100\n",
            "20/20 [==============================] - 11s 507ms/step - loss: 0.0438 - accuracy: 0.9828 - val_loss: 0.2235 - val_accuracy: 0.9688\n",
            "Epoch 69/100\n",
            "20/20 [==============================] - 12s 531ms/step - loss: 0.0221 - accuracy: 0.9906 - val_loss: 0.3934 - val_accuracy: 0.9563\n",
            "Epoch 70/100\n",
            "20/20 [==============================] - 11s 517ms/step - loss: 0.0160 - accuracy: 0.9937 - val_loss: 0.2571 - val_accuracy: 0.9438\n",
            "Epoch 71/100\n",
            "20/20 [==============================] - 11s 527ms/step - loss: 0.0082 - accuracy: 0.9937 - val_loss: 0.0945 - val_accuracy: 0.9750\n",
            "Epoch 72/100\n",
            "20/20 [==============================] - 11s 523ms/step - loss: 0.0080 - accuracy: 0.9984 - val_loss: 0.1360 - val_accuracy: 0.9750\n",
            "Epoch 73/100\n",
            "20/20 [==============================] - 11s 518ms/step - loss: 0.0060 - accuracy: 0.9969 - val_loss: 0.1279 - val_accuracy: 0.9812\n",
            "Epoch 74/100\n",
            "20/20 [==============================] - 11s 520ms/step - loss: 0.0051 - accuracy: 0.9969 - val_loss: 0.0929 - val_accuracy: 0.9750\n",
            "Epoch 75/100\n",
            "20/20 [==============================] - 12s 511ms/step - loss: 0.0020 - accuracy: 1.0000 - val_loss: 0.1604 - val_accuracy: 0.9812\n",
            "Epoch 76/100\n",
            "20/20 [==============================] - 11s 512ms/step - loss: 0.0260 - accuracy: 0.9906 - val_loss: 0.4624 - val_accuracy: 0.9187\n",
            "Epoch 77/100\n",
            "20/20 [==============================] - 11s 523ms/step - loss: 0.0175 - accuracy: 0.9906 - val_loss: 0.1953 - val_accuracy: 0.9500\n",
            "Epoch 78/100\n",
            "20/20 [==============================] - 11s 525ms/step - loss: 0.0073 - accuracy: 0.9984 - val_loss: 0.2777 - val_accuracy: 0.9438\n",
            "Epoch 79/100\n",
            "20/20 [==============================] - 11s 521ms/step - loss: 0.0056 - accuracy: 0.9984 - val_loss: 0.2234 - val_accuracy: 0.9500\n",
            "Epoch 80/100\n",
            "20/20 [==============================] - 12s 534ms/step - loss: 0.0093 - accuracy: 0.9969 - val_loss: 0.1835 - val_accuracy: 0.9563\n",
            "Epoch 81/100\n",
            "20/20 [==============================] - 12s 575ms/step - loss: 0.0068 - accuracy: 0.9969 - val_loss: 0.1979 - val_accuracy: 0.9563\n",
            "Epoch 82/100\n",
            "20/20 [==============================] - 11s 509ms/step - loss: 0.0052 - accuracy: 0.9969 - val_loss: 0.3794 - val_accuracy: 0.9125\n",
            "Epoch 83/100\n",
            "20/20 [==============================] - 11s 522ms/step - loss: 0.0015 - accuracy: 1.0000 - val_loss: 0.2387 - val_accuracy: 0.9500\n",
            "Epoch 84/100\n",
            "20/20 [==============================] - 11s 523ms/step - loss: 0.0024 - accuracy: 1.0000 - val_loss: 0.1695 - val_accuracy: 0.9625\n",
            "Epoch 85/100\n",
            "20/20 [==============================] - 11s 525ms/step - loss: 0.0016 - accuracy: 1.0000 - val_loss: 0.2547 - val_accuracy: 0.9563\n",
            "Epoch 86/100\n",
            "20/20 [==============================] - 11s 522ms/step - loss: 2.2199e-04 - accuracy: 1.0000 - val_loss: 0.2445 - val_accuracy: 0.9625\n",
            "Epoch 87/100\n",
            "20/20 [==============================] - 12s 503ms/step - loss: 1.3486e-04 - accuracy: 1.0000 - val_loss: 0.2347 - val_accuracy: 0.9625\n",
            "Epoch 88/100\n",
            "20/20 [==============================] - 12s 517ms/step - loss: 6.2066e-05 - accuracy: 1.0000 - val_loss: 0.2243 - val_accuracy: 0.9625\n",
            "Epoch 89/100\n",
            "20/20 [==============================] - 11s 527ms/step - loss: 3.8811e-04 - accuracy: 1.0000 - val_loss: 0.1733 - val_accuracy: 0.9688\n",
            "Epoch 90/100\n",
            "20/20 [==============================] - 11s 520ms/step - loss: 0.0111 - accuracy: 0.9969 - val_loss: 0.2813 - val_accuracy: 0.9438\n",
            "Epoch 91/100\n",
            "20/20 [==============================] - 11s 518ms/step - loss: 0.0120 - accuracy: 0.9969 - val_loss: 0.2980 - val_accuracy: 0.9375\n",
            "Epoch 92/100\n",
            "20/20 [==============================] - 11s 511ms/step - loss: 0.0098 - accuracy: 0.9969 - val_loss: 0.4220 - val_accuracy: 0.9187\n",
            "Epoch 93/100\n",
            "20/20 [==============================] - 12s 574ms/step - loss: 0.0302 - accuracy: 0.9891 - val_loss: 0.1793 - val_accuracy: 0.9750\n",
            "Epoch 94/100\n",
            "20/20 [==============================] - 12s 522ms/step - loss: 0.0238 - accuracy: 0.9922 - val_loss: 0.2666 - val_accuracy: 0.9438\n",
            "Epoch 95/100\n",
            "20/20 [==============================] - 12s 522ms/step - loss: 0.0218 - accuracy: 0.9969 - val_loss: 0.2966 - val_accuracy: 0.9312\n",
            "Epoch 96/100\n",
            "20/20 [==============================] - 11s 527ms/step - loss: 0.0283 - accuracy: 0.9937 - val_loss: 0.6083 - val_accuracy: 0.8813\n",
            "Epoch 97/100\n",
            "20/20 [==============================] - 12s 533ms/step - loss: 0.0775 - accuracy: 0.9859 - val_loss: 3.6194 - val_accuracy: 0.8750\n",
            "Epoch 98/100\n",
            "20/20 [==============================] - 12s 531ms/step - loss: 0.0635 - accuracy: 0.9859 - val_loss: 1.1877 - val_accuracy: 0.9500\n",
            "Epoch 99/100\n",
            "20/20 [==============================] - 11s 513ms/step - loss: 0.0282 - accuracy: 0.9875 - val_loss: 2.4281 - val_accuracy: 0.9312\n",
            "Epoch 100/100\n",
            "20/20 [==============================] - 12s 501ms/step - loss: 0.0241 - accuracy: 0.9937 - val_loss: 0.2841 - val_accuracy: 0.9250\n"
          ]
        }
      ],
      "source": [
        "history = model.fit(\n",
        "    train_ds,\n",
        "    epochs=epochs,\n",
        "    validation_data=val_ds,\n",
        ")"
      ]
    },
    {
      "cell_type": "code",
      "source": [
        "model.save('/content/drive/MyDrive/InceptionV3.h5')"
      ],
      "metadata": {
        "id": "8eTSSfZbWIU9",
        "colab": {
          "base_uri": "https://localhost:8080/"
        },
        "outputId": "01733228-7104-4ffd-de18-d7cba83d36ab"
      },
      "execution_count": 10,
      "outputs": [
        {
          "output_type": "stream",
          "name": "stderr",
          "text": [
            "/usr/local/lib/python3.10/dist-packages/keras/src/engine/training.py:3103: UserWarning: You are saving your model as an HDF5 file via `model.save()`. This file format is considered legacy. We recommend using instead the native Keras format, e.g. `model.save('my_model.keras')`.\n",
            "  saving_api.save_model(\n"
          ]
        }
      ]
    }
  ],
  "metadata": {
    "colab": {
      "provenance": [],
      "gpuType": "T4",
      "authorship_tag": "ABX9TyO1S6B+eb3QDD1uuhCsrOYn"
    },
    "kernelspec": {
      "display_name": "Python 3",
      "name": "python3"
    },
    "language_info": {
      "name": "python"
    },
    "accelerator": "GPU"
  },
  "nbformat": 4,
  "nbformat_minor": 0
}