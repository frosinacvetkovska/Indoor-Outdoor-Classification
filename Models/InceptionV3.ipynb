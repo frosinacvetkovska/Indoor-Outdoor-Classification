{
  "cells": [
    {
      "cell_type": "code",
      "execution_count": null,
      "metadata": {
        "id": "f7JPuTbCLBO-"
      },
      "outputs": [],
      "source": [
        "import tensorflow as tf\n",
        "from tensorflow.keras import layers, models\n",
        "from tensorflow.keras.applications import InceptionV3\n",
        "from tensorflow.keras.preprocessing import image\n",
        "from tensorflow.keras.optimizers import Adam\n",
        "from tensorflow.keras.losses import BinaryCrossentropy\n",
        "from tensorflow.keras.metrics import Accuracy\n",
        "import numpy as np\n",
        "import matplotlib.pyplot as plt"
      ]
    },
    {
      "cell_type": "code",
      "execution_count": null,
      "metadata": {
        "colab": {
          "base_uri": "https://localhost:8080/"
        },
        "id": "HBYLGhvSLE7F",
        "outputId": "1722fc11-55e6-4048-a00b-a8787088cceb"
      },
      "outputs": [
        {
          "output_type": "stream",
          "name": "stdout",
          "text": [
            "Mounted at /content/drive\n"
          ]
        }
      ],
      "source": [
        "from google.colab import drive\n",
        "drive.mount('/content/drive')"
      ]
    },
    {
      "cell_type": "code",
      "execution_count": null,
      "metadata": {
        "id": "tqzzi_hKLE9I"
      },
      "outputs": [],
      "source": [
        "dataset_dir = '/content/drive/MyDrive/IndoorOutdoorDataset'"
      ]
    },
    {
      "cell_type": "code",
      "execution_count": null,
      "metadata": {
        "id": "kHaMcj5YLE_C"
      },
      "outputs": [],
      "source": [
        "img_width, img_height = 299, 299\n",
        "batch_size = 32\n",
        "epochs = 10"
      ]
    },
    {
      "cell_type": "code",
      "execution_count": null,
      "metadata": {
        "colab": {
          "base_uri": "https://localhost:8080/"
        },
        "id": "RAadLe-xLFBY",
        "outputId": "21b41ae3-e570-450d-df30-f13b9a631d3f"
      },
      "outputs": [
        {
          "output_type": "stream",
          "name": "stdout",
          "text": [
            "Found 800 files belonging to 2 classes.\n",
            "Using 640 files for training.\n"
          ]
        }
      ],
      "source": [
        "train_ds = tf.keras.utils.image_dataset_from_directory(\n",
        "    directory=dataset_dir,\n",
        "    labels='inferred',\n",
        "    label_mode='binary',\n",
        "    image_size=(img_width, img_height),\n",
        "    batch_size=batch_size,\n",
        "    validation_split=0.2,\n",
        "    seed=42,\n",
        "    shuffle=True,\n",
        "    subset='training',\n",
        ")"
      ]
    },
    {
      "cell_type": "code",
      "execution_count": null,
      "metadata": {
        "colab": {
          "base_uri": "https://localhost:8080/"
        },
        "id": "kqfFl6g7LFDW",
        "outputId": "a8c315a0-221a-41a7-b92d-a67e7ffb0a71"
      },
      "outputs": [
        {
          "output_type": "stream",
          "name": "stdout",
          "text": [
            "Found 800 files belonging to 2 classes.\n",
            "Using 160 files for validation.\n"
          ]
        }
      ],
      "source": [
        "val_ds = tf.keras.utils.image_dataset_from_directory(\n",
        "    directory=dataset_dir,\n",
        "    labels='inferred',\n",
        "    label_mode='binary',\n",
        "    image_size=(img_width, img_height),\n",
        "    batch_size=batch_size,\n",
        "    validation_split=0.2,\n",
        "    seed=42,\n",
        "    shuffle=True,\n",
        "    subset='validation',\n",
        ")"
      ]
    },
    {
      "cell_type": "code",
      "execution_count": null,
      "metadata": {
        "id": "VD-RFQywLFFb",
        "colab": {
          "base_uri": "https://localhost:8080/"
        },
        "outputId": "80771428-e00b-4842-db21-25a344d8626c"
      },
      "outputs": [
        {
          "output_type": "stream",
          "name": "stdout",
          "text": [
            "Downloading data from https://storage.googleapis.com/tensorflow/keras-applications/inception_v3/inception_v3_weights_tf_dim_ordering_tf_kernels_notop.h5\n",
            "87910968/87910968 [==============================] - 0s 0us/step\n"
          ]
        }
      ],
      "source": [
        "base_model = InceptionV3(weights='imagenet', include_top=False, input_shape=(img_width, img_height, 3))"
      ]
    },
    {
      "cell_type": "code",
      "execution_count": null,
      "metadata": {
        "id": "9RZG7yWsLFHW"
      },
      "outputs": [],
      "source": [
        "for layer in base_model.layers:\n",
        "    layer.trainable = False"
      ]
    },
    {
      "cell_type": "code",
      "execution_count": null,
      "metadata": {
        "id": "3Ba2yIaBLFJk"
      },
      "outputs": [],
      "source": [
        "model = models.Sequential([\n",
        "    base_model,\n",
        "    layers.GlobalAveragePooling2D(),\n",
        "    layers.Dense(256, activation='relu'),\n",
        "    layers.Dense(128, activation='relu'),\n",
        "    layers.Dense(64, activation='relu'),\n",
        "    layers.Dense(1, activation='sigmoid')\n",
        "])"
      ]
    },
    {
      "cell_type": "code",
      "execution_count": null,
      "metadata": {
        "colab": {
          "base_uri": "https://localhost:8080/"
        },
        "id": "r77ejIAYLFLU",
        "outputId": "9558dc35-5630-4d41-a37b-5234debace9d"
      },
      "outputs": [
        {
          "output_type": "stream",
          "name": "stdout",
          "text": [
            "Model: \"sequential\"\n",
            "_________________________________________________________________\n",
            " Layer (type)                Output Shape              Param #   \n",
            "=================================================================\n",
            " inception_v3 (Functional)   (None, 8, 8, 2048)        21802784  \n",
            "                                                                 \n",
            " global_average_pooling2d (  (None, 2048)              0         \n",
            " GlobalAveragePooling2D)                                         \n",
            "                                                                 \n",
            " dense (Dense)               (None, 256)               524544    \n",
            "                                                                 \n",
            " dense_1 (Dense)             (None, 128)               32896     \n",
            "                                                                 \n",
            " dense_2 (Dense)             (None, 64)                8256      \n",
            "                                                                 \n",
            " dense_3 (Dense)             (None, 1)                 65        \n",
            "                                                                 \n",
            "=================================================================\n",
            "Total params: 22368545 (85.33 MB)\n",
            "Trainable params: 565761 (2.16 MB)\n",
            "Non-trainable params: 21802784 (83.17 MB)\n",
            "_________________________________________________________________\n"
          ]
        }
      ],
      "source": [
        "model.compile(optimizer=Adam(), loss=BinaryCrossentropy(), metrics=[Accuracy()])\n",
        "model.summary()"
      ]
    },
    {
      "cell_type": "code",
      "execution_count": null,
      "metadata": {
        "colab": {
          "base_uri": "https://localhost:8080/"
        },
        "id": "P0yO6IY-LFNU",
        "outputId": "7fff1a87-29c2-46a2-846f-c9cdf5b5cb27"
      },
      "outputs": [
        {
          "output_type": "stream",
          "name": "stdout",
          "text": [
            "Epoch 1/10\n",
            "20/20 [==============================] - 292s 13s/step - loss: 2.9812 - accuracy: 0.0719 - val_loss: 1.7310 - val_accuracy: 0.0250\n",
            "Epoch 2/10\n",
            "20/20 [==============================] - 256s 13s/step - loss: 0.8248 - accuracy: 0.0000e+00 - val_loss: 0.6240 - val_accuracy: 0.0000e+00\n",
            "Epoch 3/10\n",
            "20/20 [==============================] - 204s 10s/step - loss: 0.4580 - accuracy: 0.0000e+00 - val_loss: 0.5296 - val_accuracy: 0.0000e+00\n",
            "Epoch 4/10\n",
            "20/20 [==============================] - 205s 10s/step - loss: 0.4912 - accuracy: 0.0000e+00 - val_loss: 0.5857 - val_accuracy: 0.0000e+00\n",
            "Epoch 5/10\n",
            "20/20 [==============================] - 204s 10s/step - loss: 0.8014 - accuracy: 0.0000e+00 - val_loss: 0.6753 - val_accuracy: 0.0000e+00\n",
            "Epoch 6/10\n",
            "20/20 [==============================] - 205s 10s/step - loss: 0.5276 - accuracy: 0.0000e+00 - val_loss: 0.5775 - val_accuracy: 0.0000e+00\n",
            "Epoch 7/10\n",
            "20/20 [==============================] - 206s 10s/step - loss: 0.4494 - accuracy: 0.0000e+00 - val_loss: 0.8705 - val_accuracy: 0.0000e+00\n",
            "Epoch 8/10\n",
            "20/20 [==============================] - 203s 10s/step - loss: 0.3681 - accuracy: 0.0000e+00 - val_loss: 0.5444 - val_accuracy: 0.0000e+00\n",
            "Epoch 9/10\n",
            "20/20 [==============================] - 209s 10s/step - loss: 0.4404 - accuracy: 0.0000e+00 - val_loss: 0.5466 - val_accuracy: 0.0000e+00\n",
            "Epoch 10/10\n",
            "20/20 [==============================] - 251s 13s/step - loss: 0.3352 - accuracy: 0.0000e+00 - val_loss: 0.4962 - val_accuracy: 0.0000e+00\n"
          ]
        }
      ],
      "source": [
        "history = model.fit(\n",
        "    train_ds,\n",
        "    epochs=epochs,\n",
        "    validation_data=val_ds,\n",
        ")"
      ]
    },
    {
      "cell_type": "code",
      "execution_count": null,
      "metadata": {
        "colab": {
          "base_uri": "https://localhost:8080/"
        },
        "id": "Yp_W1ExBLZpY",
        "outputId": "6442b7a1-d82f-4ffd-c167-231117fc1869"
      },
      "outputs": [
        {
          "output_type": "stream",
          "name": "stderr",
          "text": [
            "/usr/local/lib/python3.10/dist-packages/keras/src/engine/training.py:3103: UserWarning: You are saving your model as an HDF5 file via `model.save()`. This file format is considered legacy. We recommend using instead the native Keras format, e.g. `model.save('my_model.keras')`.\n",
            "  saving_api.save_model(\n"
          ]
        }
      ],
      "source": [
        "model.save('/content/drive/MyDrive/inceptionv3_indoor_outdoor_model.h5')"
      ]
    }
  ],
  "metadata": {
    "colab": {
      "provenance": [],
      "authorship_tag": "ABX9TyN9E3zdPYSPP1K7Ilu7FZnS"
    },
    "kernelspec": {
      "display_name": "Python 3",
      "name": "python3"
    },
    "language_info": {
      "name": "python"
    }
  },
  "nbformat": 4,
  "nbformat_minor": 0
}