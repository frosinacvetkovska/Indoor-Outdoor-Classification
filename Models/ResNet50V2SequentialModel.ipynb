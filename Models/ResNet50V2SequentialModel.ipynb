{
  "nbformat": 4,
  "nbformat_minor": 0,
  "metadata": {
    "colab": {
      "provenance": [],
      "gpuType": "T4",
      "authorship_tag": "ABX9TyP2vBqnUVUgH0aF/YciOc8n"
    },
    "kernelspec": {
      "name": "python3",
      "display_name": "Python 3"
    },
    "language_info": {
      "name": "python"
    },
    "accelerator": "GPU"
  },
  "cells": [
    {
      "cell_type": "code",
      "source": [
        "import tensorflow as tf\n",
        "from tensorflow.keras import layers, models\n",
        "from tensorflow.keras.callbacks import ModelCheckpoint\n",
        "from tensorflow.keras.applications import ResNet50V2\n",
        "from tensorflow.keras.preprocessing import image\n",
        "import numpy as np\n",
        "import matplotlib.pyplot as plt\n",
        "import cv2"
      ],
      "metadata": {
        "id": "nzzKcYj9oDXK"
      },
      "execution_count": 1,
      "outputs": []
    },
    {
      "cell_type": "code",
      "source": [
        "from google.colab import drive\n",
        "drive.mount('/content/drive')"
      ],
      "metadata": {
        "id": "M3h8GV8ToDZd",
        "colab": {
          "base_uri": "https://localhost:8080/"
        },
        "outputId": "02024be9-fe94-4393-eb63-be06692149dd"
      },
      "execution_count": 2,
      "outputs": [
        {
          "output_type": "stream",
          "name": "stdout",
          "text": [
            "Mounted at /content/drive\n"
          ]
        }
      ]
    },
    {
      "cell_type": "code",
      "source": [
        "dataset_dir = '/content/drive/MyDrive/IndoorOutdoorDataset'"
      ],
      "metadata": {
        "id": "l6NdtNysoDb1"
      },
      "execution_count": 3,
      "outputs": []
    },
    {
      "cell_type": "code",
      "source": [
        "img_width, img_height = 224, 224\n",
        "batch_size = 32\n",
        "epochs = 100"
      ],
      "metadata": {
        "id": "E3NJE4tCoDeC"
      },
      "execution_count": 4,
      "outputs": []
    },
    {
      "cell_type": "code",
      "source": [
        "train_ds = tf.keras.utils.image_dataset_from_directory(\n",
        "    directory=dataset_dir,\n",
        "    labels='inferred',\n",
        "    label_mode='binary',\n",
        "    image_size=(img_width, img_height),\n",
        "    batch_size=batch_size,\n",
        "    validation_split=0.2,\n",
        "    seed=42,\n",
        "    shuffle=True,\n",
        "    subset='training',\n",
        ")"
      ],
      "metadata": {
        "id": "-0zoFjt3oDir",
        "colab": {
          "base_uri": "https://localhost:8080/"
        },
        "outputId": "6643bd3e-391d-4168-db1b-5762e275db33"
      },
      "execution_count": 5,
      "outputs": [
        {
          "output_type": "stream",
          "name": "stdout",
          "text": [
            "Found 800 files belonging to 2 classes.\n",
            "Using 640 files for training.\n"
          ]
        }
      ]
    },
    {
      "cell_type": "code",
      "source": [
        "val_ds = tf.keras.utils.image_dataset_from_directory(\n",
        "    directory=dataset_dir,\n",
        "    labels='inferred',\n",
        "    label_mode='binary',\n",
        "    image_size=(img_width, img_height),\n",
        "    batch_size=batch_size,\n",
        "    validation_split=0.2,\n",
        "    seed=42,\n",
        "    shuffle=True,\n",
        "    subset='validation',\n",
        ")"
      ],
      "metadata": {
        "id": "9wddTy-GoDkw",
        "colab": {
          "base_uri": "https://localhost:8080/"
        },
        "outputId": "e067ccce-ce56-4d2a-ae30-d63f78f7be9e"
      },
      "execution_count": 6,
      "outputs": [
        {
          "output_type": "stream",
          "name": "stdout",
          "text": [
            "Found 800 files belonging to 2 classes.\n",
            "Using 160 files for validation.\n"
          ]
        }
      ]
    },
    {
      "cell_type": "code",
      "source": [
        "model = models.Sequential()\n",
        "model.add(ResNet50V2(weights='imagenet', include_top=False, input_shape=(img_width, img_height, 3), classes=2))\n",
        "model.add(layers.Flatten())\n",
        "model.add(layers.Dense(264, activation='relu'))\n",
        "model.add(layers.Dense(128, activation='relu'))\n",
        "model.add(layers.Dense(1, activation='sigmoid'))"
      ],
      "metadata": {
        "id": "2PIC0JNPoDnE",
        "colab": {
          "base_uri": "https://localhost:8080/"
        },
        "outputId": "4e9dc7da-dc88-4fb0-e446-74ba5488962d"
      },
      "execution_count": 7,
      "outputs": [
        {
          "output_type": "stream",
          "name": "stdout",
          "text": [
            "Downloading data from https://storage.googleapis.com/tensorflow/keras-applications/resnet/resnet50v2_weights_tf_dim_ordering_tf_kernels_notop.h5\n",
            "94668760/94668760 [==============================] - 3s 0us/step\n"
          ]
        }
      ]
    },
    {
      "cell_type": "code",
      "source": [
        "model.summary()"
      ],
      "metadata": {
        "id": "ksd4JinHoDpb",
        "colab": {
          "base_uri": "https://localhost:8080/"
        },
        "outputId": "bba40011-1371-4eeb-899e-419826a6cfaf"
      },
      "execution_count": 8,
      "outputs": [
        {
          "output_type": "stream",
          "name": "stdout",
          "text": [
            "Model: \"sequential\"\n",
            "_________________________________________________________________\n",
            " Layer (type)                Output Shape              Param #   \n",
            "=================================================================\n",
            " resnet50v2 (Functional)     (None, 7, 7, 2048)        23564800  \n",
            "                                                                 \n",
            " flatten (Flatten)           (None, 100352)            0         \n",
            "                                                                 \n",
            " dense (Dense)               (None, 264)               26493192  \n",
            "                                                                 \n",
            " dense_1 (Dense)             (None, 128)               33920     \n",
            "                                                                 \n",
            " dense_2 (Dense)             (None, 1)                 129       \n",
            "                                                                 \n",
            "=================================================================\n",
            "Total params: 50092041 (191.09 MB)\n",
            "Trainable params: 50046601 (190.91 MB)\n",
            "Non-trainable params: 45440 (177.50 KB)\n",
            "_________________________________________________________________\n"
          ]
        }
      ]
    },
    {
      "cell_type": "code",
      "source": [
        "model.compile(optimizer='adam', loss='binary_crossentropy', metrics=['accuracy'])"
      ],
      "metadata": {
        "id": "dcgvbRZLoDrv"
      },
      "execution_count": 9,
      "outputs": []
    },
    {
      "cell_type": "code",
      "source": [
        "history = model.fit(\n",
        "    train_ds,\n",
        "    epochs=epochs,\n",
        "    validation_data=val_ds\n",
        ")"
      ],
      "metadata": {
        "id": "bfum387zoDuM",
        "colab": {
          "base_uri": "https://localhost:8080/"
        },
        "outputId": "1bcc83a9-ca29-4e8f-be27-4e968f6c5571"
      },
      "execution_count": 10,
      "outputs": [
        {
          "output_type": "stream",
          "name": "stdout",
          "text": [
            "Epoch 1/100\n",
            "20/20 [==============================] - 149s 3s/step - loss: 1.5992 - accuracy: 0.8250 - val_loss: 87.0129 - val_accuracy: 0.5125\n",
            "Epoch 2/100\n",
            "20/20 [==============================] - 9s 413ms/step - loss: 0.3046 - accuracy: 0.9031 - val_loss: 532.5679 - val_accuracy: 0.6938\n",
            "Epoch 3/100\n",
            "20/20 [==============================] - 8s 333ms/step - loss: 0.4941 - accuracy: 0.8672 - val_loss: 918.5499 - val_accuracy: 0.5437\n",
            "Epoch 4/100\n",
            "20/20 [==============================] - 8s 347ms/step - loss: 0.5616 - accuracy: 0.8313 - val_loss: 1252675.3750 - val_accuracy: 0.5000\n",
            "Epoch 5/100\n",
            "20/20 [==============================] - 8s 336ms/step - loss: 0.6050 - accuracy: 0.8156 - val_loss: 580835328.0000 - val_accuracy: 0.4938\n",
            "Epoch 6/100\n",
            "20/20 [==============================] - 8s 335ms/step - loss: 0.4475 - accuracy: 0.8266 - val_loss: 6093164.5000 - val_accuracy: 0.4938\n",
            "Epoch 7/100\n",
            "20/20 [==============================] - 8s 343ms/step - loss: 0.5521 - accuracy: 0.8359 - val_loss: 6612.2407 - val_accuracy: 0.5125\n",
            "Epoch 8/100\n",
            "20/20 [==============================] - 9s 417ms/step - loss: 0.3081 - accuracy: 0.8703 - val_loss: 382.7498 - val_accuracy: 0.6750\n",
            "Epoch 9/100\n",
            "20/20 [==============================] - 8s 334ms/step - loss: 0.2274 - accuracy: 0.9062 - val_loss: 13.8907 - val_accuracy: 0.8000\n",
            "Epoch 10/100\n",
            "20/20 [==============================] - 8s 359ms/step - loss: 0.3241 - accuracy: 0.8969 - val_loss: 307.9359 - val_accuracy: 0.5938\n",
            "Epoch 11/100\n",
            "20/20 [==============================] - 8s 354ms/step - loss: 0.2148 - accuracy: 0.9250 - val_loss: 30.0410 - val_accuracy: 0.6938\n",
            "Epoch 12/100\n",
            "20/20 [==============================] - 8s 333ms/step - loss: 0.1757 - accuracy: 0.9344 - val_loss: 2.3369 - val_accuracy: 0.7937\n",
            "Epoch 13/100\n",
            "20/20 [==============================] - 8s 342ms/step - loss: 0.1106 - accuracy: 0.9578 - val_loss: 1.0727 - val_accuracy: 0.8250\n",
            "Epoch 14/100\n",
            "20/20 [==============================] - 8s 352ms/step - loss: 0.1157 - accuracy: 0.9563 - val_loss: 16.4628 - val_accuracy: 0.7250\n",
            "Epoch 15/100\n",
            "20/20 [==============================] - 8s 336ms/step - loss: 0.0997 - accuracy: 0.9672 - val_loss: 2.1725 - val_accuracy: 0.6938\n",
            "Epoch 16/100\n",
            "20/20 [==============================] - 8s 338ms/step - loss: 0.1353 - accuracy: 0.9594 - val_loss: 2.8570 - val_accuracy: 0.7437\n",
            "Epoch 17/100\n",
            "20/20 [==============================] - 8s 360ms/step - loss: 0.1268 - accuracy: 0.9484 - val_loss: 0.7544 - val_accuracy: 0.8500\n",
            "Epoch 18/100\n",
            "20/20 [==============================] - 8s 334ms/step - loss: 0.0757 - accuracy: 0.9703 - val_loss: 0.5416 - val_accuracy: 0.8562\n",
            "Epoch 19/100\n",
            "20/20 [==============================] - 8s 335ms/step - loss: 0.1042 - accuracy: 0.9656 - val_loss: 0.8404 - val_accuracy: 0.8375\n",
            "Epoch 20/100\n",
            "20/20 [==============================] - 8s 336ms/step - loss: 0.0766 - accuracy: 0.9703 - val_loss: 0.7147 - val_accuracy: 0.8438\n",
            "Epoch 21/100\n",
            "20/20 [==============================] - 8s 337ms/step - loss: 0.0278 - accuracy: 0.9906 - val_loss: 0.3523 - val_accuracy: 0.8938\n",
            "Epoch 22/100\n",
            "20/20 [==============================] - 8s 352ms/step - loss: 0.0498 - accuracy: 0.9906 - val_loss: 0.5574 - val_accuracy: 0.8687\n",
            "Epoch 23/100\n",
            "20/20 [==============================] - 9s 417ms/step - loss: 0.0391 - accuracy: 0.9812 - val_loss: 0.5378 - val_accuracy: 0.8813\n",
            "Epoch 24/100\n",
            "20/20 [==============================] - 8s 336ms/step - loss: 0.0274 - accuracy: 0.9922 - val_loss: 0.4754 - val_accuracy: 0.8813\n",
            "Epoch 25/100\n",
            "20/20 [==============================] - 8s 354ms/step - loss: 0.0518 - accuracy: 0.9859 - val_loss: 0.4757 - val_accuracy: 0.8500\n",
            "Epoch 26/100\n",
            "20/20 [==============================] - 8s 351ms/step - loss: 0.0293 - accuracy: 0.9922 - val_loss: 0.3953 - val_accuracy: 0.8875\n",
            "Epoch 27/100\n",
            "20/20 [==============================] - 8s 336ms/step - loss: 0.0215 - accuracy: 0.9969 - val_loss: 1.2239 - val_accuracy: 0.8062\n",
            "Epoch 28/100\n",
            "20/20 [==============================] - 8s 344ms/step - loss: 0.0284 - accuracy: 0.9906 - val_loss: 0.5340 - val_accuracy: 0.8500\n",
            "Epoch 29/100\n",
            "20/20 [==============================] - 8s 343ms/step - loss: 0.0165 - accuracy: 0.9953 - val_loss: 0.8253 - val_accuracy: 0.8687\n",
            "Epoch 30/100\n",
            "20/20 [==============================] - 8s 335ms/step - loss: 0.0472 - accuracy: 0.9844 - val_loss: 1.7763 - val_accuracy: 0.7563\n",
            "Epoch 31/100\n",
            "20/20 [==============================] - 8s 346ms/step - loss: 0.0850 - accuracy: 0.9625 - val_loss: 0.8201 - val_accuracy: 0.8813\n",
            "Epoch 32/100\n",
            "20/20 [==============================] - 8s 349ms/step - loss: 0.4042 - accuracy: 0.9281 - val_loss: 4031.3726 - val_accuracy: 0.5375\n",
            "Epoch 33/100\n",
            "20/20 [==============================] - 8s 348ms/step - loss: 1.1116 - accuracy: 0.8438 - val_loss: 5282071552.0000 - val_accuracy: 0.5312\n",
            "Epoch 34/100\n",
            "20/20 [==============================] - 8s 331ms/step - loss: 1.7458 - accuracy: 0.6812 - val_loss: 27341318144.0000 - val_accuracy: 0.5063\n",
            "Epoch 35/100\n",
            "20/20 [==============================] - 8s 343ms/step - loss: 2.7670 - accuracy: 0.7516 - val_loss: 382093120.0000 - val_accuracy: 0.4750\n",
            "Epoch 36/100\n",
            "20/20 [==============================] - 9s 413ms/step - loss: 1.7516 - accuracy: 0.7875 - val_loss: 3293366.7500 - val_accuracy: 0.5312\n",
            "Epoch 37/100\n",
            "20/20 [==============================] - 8s 329ms/step - loss: 0.7813 - accuracy: 0.7797 - val_loss: 220082.0938 - val_accuracy: 0.5312\n",
            "Epoch 38/100\n",
            "20/20 [==============================] - 8s 339ms/step - loss: 1.0420 - accuracy: 0.7922 - val_loss: 726.2272 - val_accuracy: 0.5688\n",
            "Epoch 39/100\n",
            "20/20 [==============================] - 8s 350ms/step - loss: 0.4192 - accuracy: 0.8266 - val_loss: 21.4721 - val_accuracy: 0.5063\n",
            "Epoch 40/100\n",
            "20/20 [==============================] - 7s 329ms/step - loss: 0.5831 - accuracy: 0.8391 - val_loss: 12.0673 - val_accuracy: 0.5000\n",
            "Epoch 41/100\n",
            "20/20 [==============================] - 8s 331ms/step - loss: 0.6161 - accuracy: 0.8188 - val_loss: 2.4530 - val_accuracy: 0.7063\n",
            "Epoch 42/100\n",
            "20/20 [==============================] - 8s 334ms/step - loss: 0.8295 - accuracy: 0.8219 - val_loss: 0.6731 - val_accuracy: 0.7000\n",
            "Epoch 43/100\n",
            "20/20 [==============================] - 7s 329ms/step - loss: 1.1046 - accuracy: 0.8375 - val_loss: 904.7867 - val_accuracy: 0.5625\n",
            "Epoch 44/100\n",
            "20/20 [==============================] - 8s 342ms/step - loss: 0.4766 - accuracy: 0.8297 - val_loss: 635.3439 - val_accuracy: 0.5188\n",
            "Epoch 45/100\n",
            "20/20 [==============================] - 8s 343ms/step - loss: 0.5056 - accuracy: 0.8313 - val_loss: 4.3898 - val_accuracy: 0.5938\n",
            "Epoch 46/100\n",
            "20/20 [==============================] - 8s 330ms/step - loss: 0.6650 - accuracy: 0.8484 - val_loss: 2.1561 - val_accuracy: 0.8000\n",
            "Epoch 47/100\n",
            "20/20 [==============================] - 8s 340ms/step - loss: 0.3208 - accuracy: 0.8687 - val_loss: 0.9898 - val_accuracy: 0.5688\n",
            "Epoch 48/100\n",
            "20/20 [==============================] - 7s 331ms/step - loss: 0.3166 - accuracy: 0.8594 - val_loss: 1.4765 - val_accuracy: 0.5188\n",
            "Epoch 49/100\n",
            "20/20 [==============================] - 8s 332ms/step - loss: 0.2673 - accuracy: 0.8922 - val_loss: 0.5182 - val_accuracy: 0.7812\n",
            "Epoch 50/100\n",
            "20/20 [==============================] - 8s 340ms/step - loss: 0.2180 - accuracy: 0.9187 - val_loss: 0.7915 - val_accuracy: 0.7063\n",
            "Epoch 51/100\n",
            "20/20 [==============================] - 8s 331ms/step - loss: 0.2421 - accuracy: 0.9047 - val_loss: 1.3247 - val_accuracy: 0.5437\n",
            "Epoch 52/100\n",
            "20/20 [==============================] - 8s 328ms/step - loss: 0.2909 - accuracy: 0.8969 - val_loss: 0.6045 - val_accuracy: 0.7500\n",
            "Epoch 53/100\n",
            "20/20 [==============================] - 8s 344ms/step - loss: 0.1950 - accuracy: 0.9250 - val_loss: 2.0513 - val_accuracy: 0.5063\n",
            "Epoch 54/100\n",
            "20/20 [==============================] - 8s 331ms/step - loss: 0.1741 - accuracy: 0.9359 - val_loss: 0.4839 - val_accuracy: 0.7812\n",
            "Epoch 55/100\n",
            "20/20 [==============================] - 8s 332ms/step - loss: 0.1856 - accuracy: 0.9219 - val_loss: 0.8175 - val_accuracy: 0.7188\n",
            "Epoch 56/100\n",
            "20/20 [==============================] - 8s 339ms/step - loss: 0.2129 - accuracy: 0.9172 - val_loss: 1.4323 - val_accuracy: 0.5875\n",
            "Epoch 57/100\n",
            "20/20 [==============================] - 8s 346ms/step - loss: 0.1656 - accuracy: 0.9422 - val_loss: 0.6160 - val_accuracy: 0.7812\n",
            "Epoch 58/100\n",
            "20/20 [==============================] - 8s 332ms/step - loss: 0.1501 - accuracy: 0.9422 - val_loss: 1.3267 - val_accuracy: 0.6250\n",
            "Epoch 59/100\n",
            "20/20 [==============================] - 8s 332ms/step - loss: 0.1890 - accuracy: 0.9375 - val_loss: 0.5779 - val_accuracy: 0.8188\n",
            "Epoch 60/100\n",
            "20/20 [==============================] - 7s 329ms/step - loss: 0.1652 - accuracy: 0.9359 - val_loss: 0.7483 - val_accuracy: 0.7625\n",
            "Epoch 61/100\n",
            "20/20 [==============================] - 8s 356ms/step - loss: 0.1851 - accuracy: 0.9375 - val_loss: 0.3384 - val_accuracy: 0.8687\n",
            "Epoch 62/100\n",
            "20/20 [==============================] - 9s 414ms/step - loss: 0.1794 - accuracy: 0.9328 - val_loss: 0.3716 - val_accuracy: 0.8438\n",
            "Epoch 63/100\n",
            "20/20 [==============================] - 8s 331ms/step - loss: 0.1240 - accuracy: 0.9625 - val_loss: 0.6291 - val_accuracy: 0.7875\n",
            "Epoch 64/100\n",
            "20/20 [==============================] - 8s 339ms/step - loss: 0.5289 - accuracy: 0.9297 - val_loss: 5.1677 - val_accuracy: 0.5312\n",
            "Epoch 65/100\n",
            "20/20 [==============================] - 8s 345ms/step - loss: 0.6074 - accuracy: 0.9547 - val_loss: 0.8792 - val_accuracy: 0.7625\n",
            "Epoch 66/100\n",
            "20/20 [==============================] - 8s 331ms/step - loss: 0.5380 - accuracy: 0.9312 - val_loss: 47.7293 - val_accuracy: 0.7063\n",
            "Epoch 67/100\n",
            "20/20 [==============================] - 8s 343ms/step - loss: 0.6024 - accuracy: 0.9141 - val_loss: 2.2737 - val_accuracy: 0.5000\n",
            "Epoch 68/100\n",
            "20/20 [==============================] - 8s 346ms/step - loss: 0.7418 - accuracy: 0.8359 - val_loss: 0.9697 - val_accuracy: 0.6438\n",
            "Epoch 69/100\n",
            "20/20 [==============================] - 8s 330ms/step - loss: 1.5467 - accuracy: 0.8109 - val_loss: 1.7531 - val_accuracy: 0.4938\n",
            "Epoch 70/100\n",
            "20/20 [==============================] - 8s 334ms/step - loss: 1.1061 - accuracy: 0.7578 - val_loss: 1.3440 - val_accuracy: 0.4938\n",
            "Epoch 71/100\n",
            "20/20 [==============================] - 8s 332ms/step - loss: 0.5215 - accuracy: 0.7734 - val_loss: 1.1751 - val_accuracy: 0.4938\n",
            "Epoch 72/100\n",
            "20/20 [==============================] - 8s 330ms/step - loss: 0.5556 - accuracy: 0.8281 - val_loss: 1.2456 - val_accuracy: 0.6625\n",
            "Epoch 73/100\n",
            "20/20 [==============================] - 8s 335ms/step - loss: 0.3468 - accuracy: 0.8578 - val_loss: 1.1057 - val_accuracy: 0.5188\n",
            "Epoch 74/100\n",
            "20/20 [==============================] - 8s 350ms/step - loss: 0.6015 - accuracy: 0.8703 - val_loss: 9.2141 - val_accuracy: 0.6812\n",
            "Epoch 75/100\n",
            "20/20 [==============================] - 7s 328ms/step - loss: 0.4958 - accuracy: 0.8781 - val_loss: 6.5957 - val_accuracy: 0.6938\n",
            "Epoch 76/100\n",
            "20/20 [==============================] - 8s 332ms/step - loss: 0.3840 - accuracy: 0.8813 - val_loss: 4.9426 - val_accuracy: 0.7875\n",
            "Epoch 77/100\n",
            "20/20 [==============================] - 8s 341ms/step - loss: 0.3631 - accuracy: 0.8797 - val_loss: 5.3700 - val_accuracy: 0.7688\n",
            "Epoch 78/100\n",
            "20/20 [==============================] - 8s 345ms/step - loss: 0.2411 - accuracy: 0.9031 - val_loss: 4.3952 - val_accuracy: 0.7875\n",
            "Epoch 79/100\n",
            "20/20 [==============================] - 8s 330ms/step - loss: 0.2550 - accuracy: 0.9203 - val_loss: 4.8150 - val_accuracy: 0.8313\n",
            "Epoch 80/100\n",
            "20/20 [==============================] - 8s 333ms/step - loss: 0.3386 - accuracy: 0.9250 - val_loss: 2.7798 - val_accuracy: 0.8687\n",
            "Epoch 81/100\n",
            "20/20 [==============================] - 7s 330ms/step - loss: 0.1500 - accuracy: 0.9516 - val_loss: 3.6553 - val_accuracy: 0.7125\n",
            "Epoch 82/100\n",
            "20/20 [==============================] - 8s 339ms/step - loss: 0.1881 - accuracy: 0.9547 - val_loss: 1.8518 - val_accuracy: 0.6375\n",
            "Epoch 83/100\n",
            "20/20 [==============================] - 8s 337ms/step - loss: 0.2243 - accuracy: 0.9312 - val_loss: 1.4925 - val_accuracy: 0.8313\n",
            "Epoch 84/100\n",
            "20/20 [==============================] - 8s 333ms/step - loss: 0.1947 - accuracy: 0.9344 - val_loss: 0.9653 - val_accuracy: 0.8625\n",
            "Epoch 85/100\n",
            "20/20 [==============================] - 8s 341ms/step - loss: 0.1834 - accuracy: 0.9422 - val_loss: 1.1496 - val_accuracy: 0.6750\n",
            "Epoch 86/100\n",
            "20/20 [==============================] - 7s 331ms/step - loss: 0.1521 - accuracy: 0.9422 - val_loss: 0.9778 - val_accuracy: 0.7000\n",
            "Epoch 87/100\n",
            "20/20 [==============================] - 8s 331ms/step - loss: 0.1507 - accuracy: 0.9500 - val_loss: 0.9516 - val_accuracy: 0.6687\n",
            "Epoch 88/100\n",
            "20/20 [==============================] - 8s 342ms/step - loss: 0.1129 - accuracy: 0.9734 - val_loss: 0.7432 - val_accuracy: 0.7437\n",
            "Epoch 89/100\n",
            "20/20 [==============================] - 8s 346ms/step - loss: 0.1893 - accuracy: 0.9406 - val_loss: 0.5308 - val_accuracy: 0.8250\n",
            "Epoch 90/100\n",
            "20/20 [==============================] - 8s 330ms/step - loss: 0.1126 - accuracy: 0.9563 - val_loss: 0.7664 - val_accuracy: 0.6938\n",
            "Epoch 91/100\n",
            "20/20 [==============================] - 8s 337ms/step - loss: 0.0859 - accuracy: 0.9625 - val_loss: 0.2644 - val_accuracy: 0.9000\n",
            "Epoch 92/100\n",
            "20/20 [==============================] - 8s 331ms/step - loss: 0.1110 - accuracy: 0.9547 - val_loss: 0.4884 - val_accuracy: 0.7937\n",
            "Epoch 93/100\n",
            "20/20 [==============================] - 8s 340ms/step - loss: 0.1980 - accuracy: 0.9250 - val_loss: 0.6194 - val_accuracy: 0.8250\n",
            "Epoch 94/100\n",
            "20/20 [==============================] - 8s 337ms/step - loss: 0.1632 - accuracy: 0.9469 - val_loss: 2.0457 - val_accuracy: 0.5813\n",
            "Epoch 95/100\n",
            "20/20 [==============================] - 7s 329ms/step - loss: 0.1520 - accuracy: 0.9656 - val_loss: 0.7830 - val_accuracy: 0.7875\n",
            "Epoch 96/100\n",
            "20/20 [==============================] - 8s 338ms/step - loss: 0.1193 - accuracy: 0.9672 - val_loss: 0.7462 - val_accuracy: 0.8062\n",
            "Epoch 97/100\n",
            "20/20 [==============================] - 8s 338ms/step - loss: 0.0816 - accuracy: 0.9766 - val_loss: 1.0239 - val_accuracy: 0.7375\n",
            "Epoch 98/100\n",
            "20/20 [==============================] - 8s 330ms/step - loss: 0.0840 - accuracy: 0.9672 - val_loss: 0.7316 - val_accuracy: 0.7500\n",
            "Epoch 99/100\n",
            "20/20 [==============================] - 8s 335ms/step - loss: 0.0569 - accuracy: 0.9797 - val_loss: 0.5476 - val_accuracy: 0.8125\n",
            "Epoch 100/100\n",
            "20/20 [==============================] - 8s 345ms/step - loss: 0.0708 - accuracy: 0.9781 - val_loss: 0.3861 - val_accuracy: 0.8562\n"
          ]
        }
      ]
    },
    {
      "cell_type": "code",
      "source": [
        "model.save('/content/drive/MyDrive/resnet50v2sequence_indoor_outdoor_model.h5')"
      ],
      "metadata": {
        "id": "qQTZlCs8oDwp",
        "colab": {
          "base_uri": "https://localhost:8080/"
        },
        "outputId": "f41f4138-6797-43ba-f0ba-938524bd07f1"
      },
      "execution_count": 11,
      "outputs": [
        {
          "output_type": "stream",
          "name": "stderr",
          "text": [
            "/usr/local/lib/python3.10/dist-packages/keras/src/engine/training.py:3103: UserWarning: You are saving your model as an HDF5 file via `model.save()`. This file format is considered legacy. We recommend using instead the native Keras format, e.g. `model.save('my_model.keras')`.\n",
            "  saving_api.save_model(\n"
          ]
        }
      ]
    },
    {
      "cell_type": "code",
      "source": [
        "model.evaluate(val_ds)"
      ],
      "metadata": {
        "colab": {
          "base_uri": "https://localhost:8080/"
        },
        "id": "kAFRaPMIpvAl",
        "outputId": "36d8fee0-25f4-4201-90b0-bf1e6aab0ef2"
      },
      "execution_count": 12,
      "outputs": [
        {
          "output_type": "stream",
          "name": "stdout",
          "text": [
            "5/5 [==============================] - 2s 100ms/step - loss: 0.3861 - accuracy: 0.8562\n"
          ]
        },
        {
          "output_type": "execute_result",
          "data": {
            "text/plain": [
              "[0.3860969543457031, 0.856249988079071]"
            ]
          },
          "metadata": {},
          "execution_count": 12
        }
      ]
    }
  ]
}