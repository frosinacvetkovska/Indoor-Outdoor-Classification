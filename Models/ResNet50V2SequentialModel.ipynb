{
  "nbformat": 4,
  "nbformat_minor": 0,
  "metadata": {
    "colab": {
      "provenance": [],
      "gpuType": "T4",
      "authorship_tag": "ABX9TyO5mmEydALSEx7GQpp3nlhD"
    },
    "kernelspec": {
      "name": "python3",
      "display_name": "Python 3"
    },
    "language_info": {
      "name": "python"
    },
    "accelerator": "GPU"
  },
  "cells": [
    {
      "cell_type": "code",
      "source": [
        "import tensorflow as tf\n",
        "from tensorflow.keras import layers, models\n",
        "from tensorflow.keras.callbacks import ModelCheckpoint\n",
        "from tensorflow.keras.applications import ResNet50V2\n",
        "from tensorflow.keras.preprocessing import image\n",
        "import numpy as np\n",
        "import matplotlib.pyplot as plt\n",
        "import cv2\n",
        "import os"
      ],
      "metadata": {
        "id": "nzzKcYj9oDXK"
      },
      "execution_count": 1,
      "outputs": []
    },
    {
      "cell_type": "code",
      "source": [
        "from google.colab import drive\n",
        "drive.mount('/content/drive')"
      ],
      "metadata": {
        "id": "M3h8GV8ToDZd",
        "colab": {
          "base_uri": "https://localhost:8080/"
        },
        "outputId": "05be4d08-dec9-46d5-e1d4-5b07ea3e521c"
      },
      "execution_count": 2,
      "outputs": [
        {
          "output_type": "stream",
          "name": "stdout",
          "text": [
            "Mounted at /content/drive\n"
          ]
        }
      ]
    },
    {
      "cell_type": "code",
      "source": [
        "dataset_dir = '/content/drive/MyDrive/IndoorOutdoorDataset'"
      ],
      "metadata": {
        "id": "l6NdtNysoDb1"
      },
      "execution_count": 3,
      "outputs": []
    },
    {
      "cell_type": "code",
      "source": [
        "img_width, img_height = 224, 224\n",
        "batch_size = 32\n",
        "epochs = 100"
      ],
      "metadata": {
        "id": "E3NJE4tCoDeC"
      },
      "execution_count": 4,
      "outputs": []
    },
    {
      "cell_type": "code",
      "source": [
        "train_ds = tf.keras.utils.image_dataset_from_directory(\n",
        "    directory=dataset_dir,\n",
        "    labels='inferred',\n",
        "    label_mode='binary',\n",
        "    image_size=(img_width, img_height),\n",
        "    batch_size=batch_size,\n",
        "    validation_split=0.2,\n",
        "    seed=42,\n",
        "    shuffle=True,\n",
        "    subset='training',\n",
        ")"
      ],
      "metadata": {
        "id": "-0zoFjt3oDir",
        "colab": {
          "base_uri": "https://localhost:8080/"
        },
        "outputId": "521d38e9-ae24-40ee-cefe-824e34caede6"
      },
      "execution_count": 5,
      "outputs": [
        {
          "output_type": "stream",
          "name": "stdout",
          "text": [
            "Found 800 files belonging to 2 classes.\n",
            "Using 640 files for training.\n"
          ]
        }
      ]
    },
    {
      "cell_type": "code",
      "source": [
        "val_ds = tf.keras.utils.image_dataset_from_directory(\n",
        "    directory=dataset_dir,\n",
        "    labels='inferred',\n",
        "    label_mode='binary',\n",
        "    image_size=(img_width, img_height),\n",
        "    batch_size=batch_size,\n",
        "    validation_split=0.2,\n",
        "    seed=42,\n",
        "    shuffle=True,\n",
        "    subset='validation',\n",
        ")"
      ],
      "metadata": {
        "id": "9wddTy-GoDkw",
        "colab": {
          "base_uri": "https://localhost:8080/"
        },
        "outputId": "6d459fdd-7f0d-411f-f8db-ea80fd31b25a"
      },
      "execution_count": 6,
      "outputs": [
        {
          "output_type": "stream",
          "name": "stdout",
          "text": [
            "Found 800 files belonging to 2 classes.\n",
            "Using 160 files for validation.\n"
          ]
        }
      ]
    },
    {
      "cell_type": "code",
      "source": [
        "model = models.Sequential()\n",
        "model.add(ResNet50V2(weights='imagenet', include_top=False, input_shape=(img_width, img_height, 3)))\n",
        "model.add(layers.Flatten())\n",
        "model.add(layers.Dense(264, activation='relu'))\n",
        "model.add(layers.Dense(128, activation='relu'))\n",
        "model.add(layers.Dense(1, activation='sigmoid'))"
      ],
      "metadata": {
        "id": "2PIC0JNPoDnE",
        "colab": {
          "base_uri": "https://localhost:8080/"
        },
        "outputId": "8c0f5573-8d04-44e7-8523-d1d08bd6c0e8"
      },
      "execution_count": 7,
      "outputs": [
        {
          "output_type": "stream",
          "name": "stdout",
          "text": [
            "Downloading data from https://storage.googleapis.com/tensorflow/keras-applications/resnet/resnet50v2_weights_tf_dim_ordering_tf_kernels_notop.h5\n",
            "94668760/94668760 [==============================] - 0s 0us/step\n"
          ]
        }
      ]
    },
    {
      "cell_type": "code",
      "source": [
        "model.summary()"
      ],
      "metadata": {
        "id": "ksd4JinHoDpb",
        "colab": {
          "base_uri": "https://localhost:8080/"
        },
        "outputId": "f05534cd-7599-4d5d-85cc-af554f19b0e8"
      },
      "execution_count": 8,
      "outputs": [
        {
          "output_type": "stream",
          "name": "stdout",
          "text": [
            "Model: \"sequential\"\n",
            "_________________________________________________________________\n",
            " Layer (type)                Output Shape              Param #   \n",
            "=================================================================\n",
            " resnet50v2 (Functional)     (None, 7, 7, 2048)        23564800  \n",
            "                                                                 \n",
            " flatten (Flatten)           (None, 100352)            0         \n",
            "                                                                 \n",
            " dense (Dense)               (None, 264)               26493192  \n",
            "                                                                 \n",
            " dense_1 (Dense)             (None, 128)               33920     \n",
            "                                                                 \n",
            " dense_2 (Dense)             (None, 1)                 129       \n",
            "                                                                 \n",
            "=================================================================\n",
            "Total params: 50092041 (191.09 MB)\n",
            "Trainable params: 50046601 (190.91 MB)\n",
            "Non-trainable params: 45440 (177.50 KB)\n",
            "_________________________________________________________________\n"
          ]
        }
      ]
    },
    {
      "cell_type": "code",
      "source": [
        "model.compile(optimizer='adam', loss='binary_crossentropy', metrics=['accuracy'])"
      ],
      "metadata": {
        "id": "dcgvbRZLoDrv"
      },
      "execution_count": 9,
      "outputs": []
    },
    {
      "cell_type": "code",
      "source": [
        "history = model.fit(\n",
        "    train_ds,\n",
        "    epochs=epochs,\n",
        "    validation_data=val_ds\n",
        ")"
      ],
      "metadata": {
        "id": "bfum387zoDuM",
        "colab": {
          "base_uri": "https://localhost:8080/"
        },
        "outputId": "8ad4cb3d-eeeb-49b3-ec8c-55f09b55e82e"
      },
      "execution_count": 10,
      "outputs": [
        {
          "output_type": "stream",
          "name": "stdout",
          "text": [
            "Epoch 1/100\n",
            "20/20 [==============================] - 98s 2s/step - loss: 1.8058 - accuracy: 0.7781 - val_loss: 47.5433 - val_accuracy: 0.4938\n",
            "Epoch 2/100\n",
            "20/20 [==============================] - 8s 352ms/step - loss: 0.2667 - accuracy: 0.9203 - val_loss: 245.6185 - val_accuracy: 0.6062\n",
            "Epoch 3/100\n",
            "20/20 [==============================] - 8s 357ms/step - loss: 0.3440 - accuracy: 0.8734 - val_loss: 48154.4570 - val_accuracy: 0.4938\n",
            "Epoch 4/100\n",
            "20/20 [==============================] - 9s 365ms/step - loss: 0.2806 - accuracy: 0.9047 - val_loss: 1282183.0000 - val_accuracy: 0.4938\n",
            "Epoch 5/100\n",
            "20/20 [==============================] - 8s 353ms/step - loss: 0.2338 - accuracy: 0.9266 - val_loss: 781249.1875 - val_accuracy: 0.4938\n",
            "Epoch 6/100\n",
            "20/20 [==============================] - 8s 367ms/step - loss: 0.1974 - accuracy: 0.9359 - val_loss: 850.1205 - val_accuracy: 0.5125\n",
            "Epoch 7/100\n",
            "20/20 [==============================] - 8s 356ms/step - loss: 0.1639 - accuracy: 0.9391 - val_loss: 1060.5801 - val_accuracy: 0.5562\n",
            "Epoch 8/100\n",
            "20/20 [==============================] - 9s 379ms/step - loss: 0.1973 - accuracy: 0.9469 - val_loss: 747539.3750 - val_accuracy: 0.4938\n",
            "Epoch 9/100\n",
            "20/20 [==============================] - 10s 446ms/step - loss: 0.6239 - accuracy: 0.8891 - val_loss: 32768234.0000 - val_accuracy: 0.4938\n",
            "Epoch 10/100\n",
            "20/20 [==============================] - 8s 377ms/step - loss: 1.1927 - accuracy: 0.8594 - val_loss: 4038323712.0000 - val_accuracy: 0.4938\n",
            "Epoch 11/100\n",
            "20/20 [==============================] - 9s 390ms/step - loss: 0.7964 - accuracy: 0.8234 - val_loss: 264776096.0000 - val_accuracy: 0.4938\n",
            "Epoch 12/100\n",
            "20/20 [==============================] - 8s 371ms/step - loss: 0.4018 - accuracy: 0.8594 - val_loss: 28358036.0000 - val_accuracy: 0.4938\n",
            "Epoch 13/100\n",
            "20/20 [==============================] - 8s 354ms/step - loss: 0.3522 - accuracy: 0.8938 - val_loss: 120472.4844 - val_accuracy: 0.4938\n",
            "Epoch 14/100\n",
            "20/20 [==============================] - 8s 349ms/step - loss: 0.2033 - accuracy: 0.9141 - val_loss: 21527.6055 - val_accuracy: 0.4938\n",
            "Epoch 15/100\n",
            "20/20 [==============================] - 8s 360ms/step - loss: 0.1518 - accuracy: 0.9453 - val_loss: 3519.0796 - val_accuracy: 0.5063\n",
            "Epoch 16/100\n",
            "20/20 [==============================] - 8s 360ms/step - loss: 0.1112 - accuracy: 0.9516 - val_loss: 869.1660 - val_accuracy: 0.5625\n",
            "Epoch 17/100\n",
            "20/20 [==============================] - 8s 357ms/step - loss: 0.3605 - accuracy: 0.9609 - val_loss: 18108.1445 - val_accuracy: 0.6000\n",
            "Epoch 18/100\n",
            "20/20 [==============================] - 9s 361ms/step - loss: 0.3985 - accuracy: 0.9328 - val_loss: 120341.3359 - val_accuracy: 0.5000\n",
            "Epoch 19/100\n",
            "20/20 [==============================] - 8s 360ms/step - loss: 0.2445 - accuracy: 0.9172 - val_loss: 66448.2656 - val_accuracy: 0.5188\n",
            "Epoch 20/100\n",
            "20/20 [==============================] - 10s 440ms/step - loss: 0.2601 - accuracy: 0.9328 - val_loss: 4201.5146 - val_accuracy: 0.5750\n",
            "Epoch 21/100\n",
            "20/20 [==============================] - 8s 378ms/step - loss: 0.2184 - accuracy: 0.9516 - val_loss: 1387.7467 - val_accuracy: 0.5813\n",
            "Epoch 22/100\n",
            "20/20 [==============================] - 8s 357ms/step - loss: 0.1766 - accuracy: 0.9500 - val_loss: 73.4903 - val_accuracy: 0.6687\n",
            "Epoch 23/100\n",
            "20/20 [==============================] - 8s 356ms/step - loss: 0.1696 - accuracy: 0.9391 - val_loss: 9.2605 - val_accuracy: 0.7312\n",
            "Epoch 24/100\n",
            "20/20 [==============================] - 8s 365ms/step - loss: 0.1090 - accuracy: 0.9594 - val_loss: 3.8424 - val_accuracy: 0.8750\n",
            "Epoch 25/100\n",
            "20/20 [==============================] - 8s 351ms/step - loss: 0.0909 - accuracy: 0.9703 - val_loss: 2.9451 - val_accuracy: 0.8313\n",
            "Epoch 26/100\n",
            "20/20 [==============================] - 8s 350ms/step - loss: 0.0521 - accuracy: 0.9828 - val_loss: 0.4549 - val_accuracy: 0.8438\n",
            "Epoch 27/100\n",
            "20/20 [==============================] - 8s 358ms/step - loss: 0.0770 - accuracy: 0.9719 - val_loss: 0.5575 - val_accuracy: 0.8188\n",
            "Epoch 28/100\n",
            "20/20 [==============================] - 8s 357ms/step - loss: 0.0560 - accuracy: 0.9844 - val_loss: 0.5032 - val_accuracy: 0.8500\n",
            "Epoch 29/100\n",
            "20/20 [==============================] - 8s 357ms/step - loss: 0.0312 - accuracy: 0.9906 - val_loss: 0.5354 - val_accuracy: 0.8625\n",
            "Epoch 30/100\n",
            "20/20 [==============================] - 8s 354ms/step - loss: 0.0560 - accuracy: 0.9812 - val_loss: 0.6399 - val_accuracy: 0.8438\n",
            "Epoch 31/100\n",
            "20/20 [==============================] - 9s 396ms/step - loss: 0.1590 - accuracy: 0.9578 - val_loss: 0.5697 - val_accuracy: 0.8438\n",
            "Epoch 32/100\n",
            "20/20 [==============================] - 9s 435ms/step - loss: 0.0855 - accuracy: 0.9672 - val_loss: 0.4424 - val_accuracy: 0.8562\n",
            "Epoch 33/100\n",
            "20/20 [==============================] - 8s 352ms/step - loss: 0.0573 - accuracy: 0.9812 - val_loss: 0.4178 - val_accuracy: 0.8938\n",
            "Epoch 34/100\n",
            "20/20 [==============================] - 10s 432ms/step - loss: 0.0337 - accuracy: 0.9859 - val_loss: 0.4538 - val_accuracy: 0.8813\n",
            "Epoch 35/100\n",
            "20/20 [==============================] - 8s 363ms/step - loss: 0.0201 - accuracy: 0.9953 - val_loss: 0.5091 - val_accuracy: 0.8750\n",
            "Epoch 36/100\n",
            "20/20 [==============================] - 10s 439ms/step - loss: 0.0148 - accuracy: 0.9969 - val_loss: 0.5211 - val_accuracy: 0.8687\n",
            "Epoch 37/100\n",
            "20/20 [==============================] - 8s 357ms/step - loss: 0.0325 - accuracy: 0.9875 - val_loss: 0.5704 - val_accuracy: 0.8625\n",
            "Epoch 38/100\n",
            "20/20 [==============================] - 9s 385ms/step - loss: 0.0365 - accuracy: 0.9906 - val_loss: 0.5652 - val_accuracy: 0.8687\n",
            "Epoch 39/100\n",
            "20/20 [==============================] - 10s 435ms/step - loss: 0.0186 - accuracy: 0.9906 - val_loss: 0.5421 - val_accuracy: 0.8687\n",
            "Epoch 40/100\n",
            "20/20 [==============================] - 8s 350ms/step - loss: 0.0235 - accuracy: 0.9906 - val_loss: 0.4714 - val_accuracy: 0.8875\n",
            "Epoch 41/100\n",
            "20/20 [==============================] - 10s 444ms/step - loss: 0.0356 - accuracy: 0.9891 - val_loss: 0.6546 - val_accuracy: 0.8500\n",
            "Epoch 42/100\n",
            "20/20 [==============================] - 8s 366ms/step - loss: 0.0511 - accuracy: 0.9844 - val_loss: 0.6017 - val_accuracy: 0.8687\n",
            "Epoch 43/100\n",
            "20/20 [==============================] - 8s 369ms/step - loss: 0.0382 - accuracy: 0.9875 - val_loss: 0.5388 - val_accuracy: 0.8938\n",
            "Epoch 44/100\n",
            "20/20 [==============================] - 8s 353ms/step - loss: 0.0237 - accuracy: 0.9937 - val_loss: 0.6636 - val_accuracy: 0.8813\n",
            "Epoch 45/100\n",
            "20/20 [==============================] - 9s 380ms/step - loss: 0.0546 - accuracy: 0.9812 - val_loss: 0.6394 - val_accuracy: 0.8687\n",
            "Epoch 46/100\n",
            "20/20 [==============================] - 10s 441ms/step - loss: 0.0203 - accuracy: 0.9937 - val_loss: 0.7483 - val_accuracy: 0.8687\n",
            "Epoch 47/100\n",
            "20/20 [==============================] - 8s 362ms/step - loss: 0.0390 - accuracy: 0.9812 - val_loss: 0.5832 - val_accuracy: 0.8750\n",
            "Epoch 48/100\n",
            "20/20 [==============================] - 8s 367ms/step - loss: 0.0130 - accuracy: 0.9969 - val_loss: 0.6634 - val_accuracy: 0.8562\n",
            "Epoch 49/100\n",
            "20/20 [==============================] - 8s 369ms/step - loss: 0.0086 - accuracy: 0.9984 - val_loss: 0.5949 - val_accuracy: 0.8813\n",
            "Epoch 50/100\n",
            "20/20 [==============================] - 8s 351ms/step - loss: 0.0111 - accuracy: 0.9969 - val_loss: 0.9697 - val_accuracy: 0.8438\n",
            "Epoch 51/100\n",
            "20/20 [==============================] - 8s 358ms/step - loss: 0.0259 - accuracy: 0.9891 - val_loss: 0.9332 - val_accuracy: 0.8188\n",
            "Epoch 52/100\n",
            "20/20 [==============================] - 10s 443ms/step - loss: 0.0272 - accuracy: 0.9906 - val_loss: 0.6984 - val_accuracy: 0.8500\n",
            "Epoch 53/100\n",
            "20/20 [==============================] - 8s 355ms/step - loss: 0.0355 - accuracy: 0.9859 - val_loss: 0.8319 - val_accuracy: 0.8438\n",
            "Epoch 54/100\n",
            "20/20 [==============================] - 8s 369ms/step - loss: 0.0229 - accuracy: 0.9891 - val_loss: 0.6103 - val_accuracy: 0.8750\n",
            "Epoch 55/100\n",
            "20/20 [==============================] - 9s 398ms/step - loss: 0.0158 - accuracy: 0.9953 - val_loss: 0.5356 - val_accuracy: 0.8875\n",
            "Epoch 56/100\n",
            "20/20 [==============================] - 8s 359ms/step - loss: 0.0191 - accuracy: 0.9969 - val_loss: 0.5942 - val_accuracy: 0.8625\n",
            "Epoch 57/100\n",
            "20/20 [==============================] - 8s 366ms/step - loss: 0.0237 - accuracy: 0.9922 - val_loss: 0.7805 - val_accuracy: 0.8250\n",
            "Epoch 58/100\n",
            "20/20 [==============================] - 10s 436ms/step - loss: 0.0564 - accuracy: 0.9844 - val_loss: 0.3606 - val_accuracy: 0.8938\n",
            "Epoch 59/100\n",
            "20/20 [==============================] - 9s 366ms/step - loss: 0.0303 - accuracy: 0.9922 - val_loss: 0.3911 - val_accuracy: 0.8938\n",
            "Epoch 60/100\n",
            "20/20 [==============================] - 9s 359ms/step - loss: 0.0129 - accuracy: 0.9953 - val_loss: 0.7625 - val_accuracy: 0.8562\n",
            "Epoch 61/100\n",
            "20/20 [==============================] - 8s 359ms/step - loss: 0.0099 - accuracy: 0.9969 - val_loss: 0.8158 - val_accuracy: 0.8188\n",
            "Epoch 62/100\n",
            "20/20 [==============================] - 8s 366ms/step - loss: 0.0194 - accuracy: 0.9937 - val_loss: 0.8683 - val_accuracy: 0.8500\n",
            "Epoch 63/100\n",
            "20/20 [==============================] - 8s 375ms/step - loss: 0.0133 - accuracy: 0.9969 - val_loss: 0.5314 - val_accuracy: 0.9000\n",
            "Epoch 64/100\n",
            "20/20 [==============================] - 8s 359ms/step - loss: 0.0268 - accuracy: 0.9891 - val_loss: 0.7961 - val_accuracy: 0.8625\n",
            "Epoch 65/100\n",
            "20/20 [==============================] - 8s 373ms/step - loss: 0.0385 - accuracy: 0.9844 - val_loss: 0.9614 - val_accuracy: 0.8313\n",
            "Epoch 66/100\n",
            "20/20 [==============================] - 8s 369ms/step - loss: 0.0245 - accuracy: 0.9906 - val_loss: 0.8657 - val_accuracy: 0.8625\n",
            "Epoch 67/100\n",
            "20/20 [==============================] - 9s 357ms/step - loss: 0.0097 - accuracy: 0.9937 - val_loss: 0.7852 - val_accuracy: 0.8813\n",
            "Epoch 68/100\n",
            "20/20 [==============================] - 8s 360ms/step - loss: 0.0241 - accuracy: 0.9922 - val_loss: 1.1095 - val_accuracy: 0.8062\n",
            "Epoch 69/100\n",
            "20/20 [==============================] - 8s 372ms/step - loss: 0.0377 - accuracy: 0.9859 - val_loss: 1.3211 - val_accuracy: 0.7250\n",
            "Epoch 70/100\n",
            "20/20 [==============================] - 9s 357ms/step - loss: 0.0688 - accuracy: 0.9766 - val_loss: 0.8388 - val_accuracy: 0.8500\n",
            "Epoch 71/100\n",
            "20/20 [==============================] - 8s 360ms/step - loss: 0.0402 - accuracy: 0.9844 - val_loss: 0.8565 - val_accuracy: 0.8250\n",
            "Epoch 72/100\n",
            "20/20 [==============================] - 10s 436ms/step - loss: 0.0716 - accuracy: 0.9750 - val_loss: 0.9821 - val_accuracy: 0.7937\n",
            "Epoch 73/100\n",
            "20/20 [==============================] - 8s 353ms/step - loss: 0.0345 - accuracy: 0.9859 - val_loss: 0.8979 - val_accuracy: 0.8062\n",
            "Epoch 74/100\n",
            "20/20 [==============================] - 8s 364ms/step - loss: 0.0175 - accuracy: 0.9953 - val_loss: 0.6076 - val_accuracy: 0.8750\n",
            "Epoch 75/100\n",
            "20/20 [==============================] - 8s 355ms/step - loss: 0.0126 - accuracy: 0.9953 - val_loss: 0.7050 - val_accuracy: 0.8625\n",
            "Epoch 76/100\n",
            "20/20 [==============================] - 9s 358ms/step - loss: 0.0101 - accuracy: 0.9984 - val_loss: 0.9270 - val_accuracy: 0.8250\n",
            "Epoch 77/100\n",
            "20/20 [==============================] - 8s 355ms/step - loss: 0.0039 - accuracy: 1.0000 - val_loss: 0.7384 - val_accuracy: 0.8875\n",
            "Epoch 78/100\n",
            "20/20 [==============================] - 8s 359ms/step - loss: 0.0029 - accuracy: 1.0000 - val_loss: 0.6464 - val_accuracy: 0.8875\n",
            "Epoch 79/100\n",
            "20/20 [==============================] - 9s 387ms/step - loss: 0.0012 - accuracy: 1.0000 - val_loss: 0.6377 - val_accuracy: 0.8875\n",
            "Epoch 80/100\n",
            "20/20 [==============================] - 9s 357ms/step - loss: 8.5410e-04 - accuracy: 1.0000 - val_loss: 0.6486 - val_accuracy: 0.8938\n",
            "Epoch 81/100\n",
            "20/20 [==============================] - 8s 357ms/step - loss: 0.0011 - accuracy: 1.0000 - val_loss: 0.6614 - val_accuracy: 0.8938\n",
            "Epoch 82/100\n",
            "20/20 [==============================] - 8s 370ms/step - loss: 5.7695e-04 - accuracy: 1.0000 - val_loss: 0.6699 - val_accuracy: 0.8938\n",
            "Epoch 83/100\n",
            "20/20 [==============================] - 9s 368ms/step - loss: 0.0026 - accuracy: 1.0000 - val_loss: 0.6807 - val_accuracy: 0.8750\n",
            "Epoch 84/100\n",
            "20/20 [==============================] - 8s 355ms/step - loss: 0.0221 - accuracy: 0.9922 - val_loss: 1.7571 - val_accuracy: 0.8125\n",
            "Epoch 85/100\n",
            "20/20 [==============================] - 9s 357ms/step - loss: 0.0290 - accuracy: 0.9937 - val_loss: 1.2294 - val_accuracy: 0.8188\n",
            "Epoch 86/100\n",
            "20/20 [==============================] - 8s 375ms/step - loss: 0.0250 - accuracy: 0.9922 - val_loss: 0.5968 - val_accuracy: 0.8938\n",
            "Epoch 87/100\n",
            "20/20 [==============================] - 8s 358ms/step - loss: 0.0173 - accuracy: 0.9922 - val_loss: 0.5527 - val_accuracy: 0.8938\n",
            "Epoch 88/100\n",
            "20/20 [==============================] - 8s 353ms/step - loss: 0.0139 - accuracy: 0.9969 - val_loss: 0.6526 - val_accuracy: 0.8813\n",
            "Epoch 89/100\n",
            "20/20 [==============================] - 9s 358ms/step - loss: 0.0054 - accuracy: 0.9984 - val_loss: 0.6016 - val_accuracy: 0.8875\n",
            "Epoch 90/100\n",
            "20/20 [==============================] - 8s 356ms/step - loss: 0.0026 - accuracy: 1.0000 - val_loss: 0.6219 - val_accuracy: 0.8750\n",
            "Epoch 91/100\n",
            "20/20 [==============================] - 8s 356ms/step - loss: 0.0080 - accuracy: 0.9984 - val_loss: 0.6931 - val_accuracy: 0.8750\n",
            "Epoch 92/100\n",
            "20/20 [==============================] - 8s 363ms/step - loss: 0.0023 - accuracy: 1.0000 - val_loss: 0.6200 - val_accuracy: 0.8938\n",
            "Epoch 93/100\n",
            "20/20 [==============================] - 9s 369ms/step - loss: 0.0125 - accuracy: 0.9969 - val_loss: 0.9366 - val_accuracy: 0.8562\n",
            "Epoch 94/100\n",
            "20/20 [==============================] - 8s 355ms/step - loss: 0.0397 - accuracy: 0.9859 - val_loss: 1.1746 - val_accuracy: 0.8062\n",
            "Epoch 95/100\n",
            "20/20 [==============================] - 8s 380ms/step - loss: 0.0120 - accuracy: 0.9937 - val_loss: 1.0120 - val_accuracy: 0.8000\n",
            "Epoch 96/100\n",
            "20/20 [==============================] - 9s 386ms/step - loss: 0.0186 - accuracy: 0.9906 - val_loss: 0.6031 - val_accuracy: 0.8750\n",
            "Epoch 97/100\n",
            "20/20 [==============================] - 9s 353ms/step - loss: 0.0149 - accuracy: 0.9969 - val_loss: 0.7410 - val_accuracy: 0.8687\n",
            "Epoch 98/100\n",
            "20/20 [==============================] - 8s 358ms/step - loss: 0.0014 - accuracy: 1.0000 - val_loss: 0.8513 - val_accuracy: 0.8562\n",
            "Epoch 99/100\n",
            "20/20 [==============================] - 8s 373ms/step - loss: 0.0028 - accuracy: 0.9984 - val_loss: 0.7972 - val_accuracy: 0.8625\n",
            "Epoch 100/100\n",
            "20/20 [==============================] - 8s 366ms/step - loss: 9.2244e-04 - accuracy: 1.0000 - val_loss: 0.7705 - val_accuracy: 0.8687\n"
          ]
        }
      ]
    },
    {
      "cell_type": "code",
      "source": [
        "model.save('/content/drive/MyDrive/resnet50v2sequence_indoor_outdoor_model.h5')"
      ],
      "metadata": {
        "id": "qQTZlCs8oDwp",
        "colab": {
          "base_uri": "https://localhost:8080/"
        },
        "outputId": "91150da6-c5b0-4789-c0b4-651bf0c4b3fc"
      },
      "execution_count": 11,
      "outputs": [
        {
          "output_type": "stream",
          "name": "stderr",
          "text": [
            "/usr/local/lib/python3.10/dist-packages/keras/src/engine/training.py:3103: UserWarning: You are saving your model as an HDF5 file via `model.save()`. This file format is considered legacy. We recommend using instead the native Keras format, e.g. `model.save('my_model.keras')`.\n",
            "  saving_api.save_model(\n"
          ]
        }
      ]
    },
    {
      "cell_type": "code",
      "source": [
        "model.evaluate(val_ds)"
      ],
      "metadata": {
        "colab": {
          "base_uri": "https://localhost:8080/"
        },
        "id": "kAFRaPMIpvAl",
        "outputId": "ba7f8188-b2b3-4a60-dd2a-0842a001adef"
      },
      "execution_count": 12,
      "outputs": [
        {
          "output_type": "stream",
          "name": "stdout",
          "text": [
            "5/5 [==============================] - 2s 105ms/step - loss: 0.7705 - accuracy: 0.8687\n"
          ]
        },
        {
          "output_type": "execute_result",
          "data": {
            "text/plain": [
              "[0.7705132961273193, 0.8687499761581421]"
            ]
          },
          "metadata": {},
          "execution_count": 12
        }
      ]
    },
    {
      "cell_type": "code",
      "source": [
        "def process_directory(model, prediction_dir):\n",
        "    for img in os.listdir(prediction_dir):\n",
        "        try:\n",
        "            img_path = os.path.join(prediction_dir, img)\n",
        "\n",
        "            img = image.load_img(img_path, target_size=(img_width, img_height))\n",
        "            img_array = image.img_to_array(img)\n",
        "            img_array = tf.expand_dims(img_array, 0)\n",
        "\n",
        "            img_array /= 255.0\n",
        "\n",
        "            predictions = model.predict(img_array)\n",
        "            predicted_class = 'outdoor' if predictions[0] >= 0.5 else 'indoor'\n",
        "            probability = predictions[0]\n",
        "\n",
        "            print(f'{img} - Predicted Class: {predicted_class}, Probability: {probability}')\n",
        "\n",
        "        except Exception as e:\n",
        "            print(f'Exception processing {img}: {str(e)}')"
      ],
      "metadata": {
        "id": "j8qq5qmF7-7W"
      },
      "execution_count": 13,
      "outputs": []
    },
    {
      "cell_type": "code",
      "source": [
        "class_labels = None"
      ],
      "metadata": {
        "id": "nhQ04SnT7-9u"
      },
      "execution_count": 14,
      "outputs": []
    },
    {
      "cell_type": "code",
      "source": [
        "outdoor_prediction_dir = '/content/drive/MyDrive/IndoorOutdoorDataset/indoor'\n",
        "process_directory(model, outdoor_prediction_dir)"
      ],
      "metadata": {
        "id": "sXiNLLMe7_AF"
      },
      "execution_count": null,
      "outputs": []
    },
    {
      "cell_type": "code",
      "source": [
        "outdoor_prediction_dir = '/content/drive/MyDrive/IndoorOutdoorDataset/outdoor'\n",
        "process_directory(model, outdoor_prediction_dir)"
      ],
      "metadata": {
        "id": "tqdR5cEK7_Bo"
      },
      "execution_count": null,
      "outputs": []
    },
    {
      "cell_type": "code",
      "source": [
        "predicted_prediction_dir = '/content/drive/MyDrive/predicted'\n",
        "process_directory(model, predicted_prediction_dir)"
      ],
      "metadata": {
        "id": "TCPEOxwk8Pbj"
      },
      "execution_count": null,
      "outputs": []
    }
  ]
}